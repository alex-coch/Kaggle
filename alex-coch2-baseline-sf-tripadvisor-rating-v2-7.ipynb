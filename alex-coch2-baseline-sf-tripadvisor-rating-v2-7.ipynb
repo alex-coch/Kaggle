{
 "cells": [
  {
   "cell_type": "markdown",
   "metadata": {},
   "source": [
    "![](https://www.pata.org/wp-content/uploads/2014/09/TripAdvisor_Logo-300x119.png)\n",
    "# Predict TripAdvisor Rating\n",
    "## В этом соревновании нам предстоит предсказать рейтинг ресторана в TripAdvisor\n",
    "**По ходу задачи:**\n",
    "* Прокачаем работу с pandas\n",
    "* Научимся работать с Kaggle Notebooks\n",
    "* Поймем как делать предобработку различных данных\n",
    "* Научимся работать с пропущенными данными (Nan)\n",
    "* Познакомимся с различными видами кодирования признаков\n",
    "* Немного попробуем [Feature Engineering](https://ru.wikipedia.org/wiki/Конструирование_признаков) (генерировать новые признаки)\n",
    "* И совсем немного затронем ML\n",
    "* И многое другое...   \n",
    "\n",
    "\n",
    "\n",
    "### И самое важное, все это вы сможете сделать самостоятельно!\n",
    "\n",
    "*Этот Ноутбук являетсся Примером/Шаблоном к этому соревнованию (Baseline) и не служит готовым решением!*   \n",
    "Вы можете использовать его как основу для построения своего решения.\n",
    "\n",
    "> что такое baseline решение, зачем оно нужно и почему предоставлять baseline к соревнованию стало важным стандартом на kaggle и других площадках.   \n",
    "**baseline** создается больше как шаблон, где можно посмотреть как происходит обращение с входящими данными и что нужно получить на выходе. При этом МЛ начинка может быть достаточно простой, просто для примера. Это помогает быстрее приступить к самому МЛ, а не тратить ценное время на чисто инженерные задачи. \n",
    "Также baseline являеться хорошей опорной точкой по метрике. Если твое решение хуже baseline - ты явно делаешь что-то не то и стоит попробовать другой путь) \n",
    "\n",
    "В контексте нашего соревнования baseline идет с небольшими примерами того, что можно делать с данными, и с инструкцией, что делать дальше, чтобы улучшить результат.  Вообще готовым решением это сложно назвать, так как используются всего 2 самых простых признака (а остальные исключаются)."
   ]
  },
  {
   "cell_type": "markdown",
   "metadata": {},
   "source": [
    "# import"
   ]
  },
  {
   "cell_type": "code",
   "execution_count": 1,
   "metadata": {
    "_cell_guid": "b1076dfc-b9ad-4769-8c92-a6c4dae69d19",
    "_uuid": "8f2839f25d086af736a60e9eeb907d3b93b6e0e5",
    "execution": {
     "iopub.execute_input": "2022-08-01T10:21:45.090535Z",
     "iopub.status.busy": "2022-08-01T10:21:45.089875Z",
     "iopub.status.idle": "2022-08-01T10:21:45.115464Z",
     "shell.execute_reply": "2022-08-01T10:21:45.114669Z",
     "shell.execute_reply.started": "2022-08-01T10:21:45.090479Z"
    }
   },
   "outputs": [
    {
     "name": "stdout",
     "output_type": "stream",
     "text": [
      "/kaggle/input/sf-dst-restaurant-rating/sample_submission.csv\n",
      "/kaggle/input/sf-dst-restaurant-rating/main_task.csv\n",
      "/kaggle/input/sf-dst-restaurant-rating/kaggle_task.csv\n",
      "/kaggle/input/data-for-prediction-restaurant-rating/parsed.csv\n",
      "/kaggle/input/data-for-prediction-restaurant-rating/all_in.csv\n",
      "/kaggle/input/data-for-prediction-restaurant-rating/parser.py\n",
      "/kaggle/input/data-for-prediction-restaurant-rating/preprocessing.ipynb\n"
     ]
    }
   ],
   "source": [
    "# This Python 3 environment comes with many helpful analytics libraries installed\n",
    "# It is defined by the kaggle/python docker image: https://github.com/kaggle/docker-python\n",
    "# For example, here's several helpful packages to load in \n",
    "\n",
    "import numpy as np # linear algebra\n",
    "import pandas as pd # data processing, CSV file I/O (e.g. pd.read_csv)\n",
    "\n",
    "import matplotlib.pyplot as plt\n",
    "import seaborn as sns \n",
    "%matplotlib inline\n",
    "\n",
    "# Загружаем специальный удобный инструмент для разделения датасета:\n",
    "from sklearn.model_selection import train_test_split\n",
    "from sklearn.ensemble import RandomForestRegressor \n",
    "from sklearn import metrics \n",
    "from sklearn.model_selection import train_test_split\n",
    "from sklearn.preprocessing import MinMaxScaler\n",
    "import warnings\n",
    "warnings.filterwarnings('ignore')\n",
    "\n",
    "# Input data files are available in the \"../input/\" directory.\n",
    "# For example, running this (by clicking run or pressing Shift+Enter) will list all files under the input directory\n",
    "\n",
    "import os\n",
    "for dirname, _, filenames in os.walk('/kaggle/input'):\n",
    "    for filename in filenames:\n",
    "        print(os.path.join(dirname, filename))\n",
    "\n",
    "# Any results you write to the current directory are saved as output."
   ]
  },
  {
   "cell_type": "code",
   "execution_count": 2,
   "metadata": {
    "execution": {
     "iopub.execute_input": "2022-08-01T10:21:45.117644Z",
     "iopub.status.busy": "2022-08-01T10:21:45.117183Z",
     "iopub.status.idle": "2022-08-01T10:21:45.122308Z",
     "shell.execute_reply": "2022-08-01T10:21:45.121182Z",
     "shell.execute_reply.started": "2022-08-01T10:21:45.117577Z"
    }
   },
   "outputs": [],
   "source": [
    "# всегда фиксируйте RANDOM_SEED, чтобы ваши эксперименты были воспроизводимы!\n",
    "RANDOM_SEED = 42"
   ]
  },
  {
   "cell_type": "code",
   "execution_count": 3,
   "metadata": {
    "execution": {
     "iopub.execute_input": "2022-08-01T10:21:45.131822Z",
     "iopub.status.busy": "2022-08-01T10:21:45.131255Z",
     "iopub.status.idle": "2022-08-01T10:21:47.871299Z",
     "shell.execute_reply": "2022-08-01T10:21:47.869719Z",
     "shell.execute_reply.started": "2022-08-01T10:21:45.131770Z"
    }
   },
   "outputs": [],
   "source": [
    "# зафиксируем версию пакетов, чтобы эксперименты были воспроизводимы:\n",
    "!pip freeze > requirements.txt"
   ]
  },
  {
   "cell_type": "code",
   "execution_count": 4,
   "metadata": {
    "execution": {
     "iopub.execute_input": "2022-08-01T10:21:47.874781Z",
     "iopub.status.busy": "2022-08-01T10:21:47.874362Z",
     "iopub.status.idle": "2022-08-01T10:21:48.246207Z",
     "shell.execute_reply": "2022-08-01T10:21:48.245373Z",
     "shell.execute_reply.started": "2022-08-01T10:21:47.874703Z"
    }
   },
   "outputs": [
    {
     "data": {
      "text/html": [
       "<div>\n",
       "<style scoped>\n",
       "    .dataframe tbody tr th:only-of-type {\n",
       "        vertical-align: middle;\n",
       "    }\n",
       "\n",
       "    .dataframe tbody tr th {\n",
       "        vertical-align: top;\n",
       "    }\n",
       "\n",
       "    .dataframe thead th {\n",
       "        text-align: right;\n",
       "    }\n",
       "</style>\n",
       "<table border=\"1\" class=\"dataframe\">\n",
       "  <thead>\n",
       "    <tr style=\"text-align: right;\">\n",
       "      <th></th>\n",
       "      <th>Restaurant_id</th>\n",
       "      <th>City</th>\n",
       "      <th>Cuisine Style</th>\n",
       "      <th>Ranking</th>\n",
       "      <th>Rating</th>\n",
       "      <th>Price Range</th>\n",
       "      <th>Number of Reviews</th>\n",
       "      <th>ID_TA</th>\n",
       "      <th>Main</th>\n",
       "      <th>alive</th>\n",
       "      <th>...</th>\n",
       "      <th>rest_number</th>\n",
       "      <th>is_capital</th>\n",
       "      <th>cuisines_number</th>\n",
       "      <th>population</th>\n",
       "      <th>city_square</th>\n",
       "      <th>net_rest</th>\n",
       "      <th>negative</th>\n",
       "      <th>neutra</th>\n",
       "      <th>positive</th>\n",
       "      <th>compound</th>\n",
       "    </tr>\n",
       "  </thead>\n",
       "  <tbody>\n",
       "    <tr>\n",
       "      <th>29867</th>\n",
       "      <td>id_1183</td>\n",
       "      <td>Hamburg</td>\n",
       "      <td>['Indian']</td>\n",
       "      <td>1185.0</td>\n",
       "      <td>4.0</td>\n",
       "      <td>$$ - $$$</td>\n",
       "      <td>22.0</td>\n",
       "      <td>d799935</td>\n",
       "      <td>True</td>\n",
       "      <td>0</td>\n",
       "      <td>...</td>\n",
       "      <td>2915.0</td>\n",
       "      <td>0</td>\n",
       "      <td>1</td>\n",
       "      <td>1718187</td>\n",
       "      <td>755.09</td>\n",
       "      <td>1</td>\n",
       "      <td>0.0</td>\n",
       "      <td>0.573</td>\n",
       "      <td>0.427</td>\n",
       "      <td>0.7874</td>\n",
       "    </tr>\n",
       "    <tr>\n",
       "      <th>41120</th>\n",
       "      <td>id_1105</td>\n",
       "      <td>Lisbon</td>\n",
       "      <td>['usual']</td>\n",
       "      <td>2500.0</td>\n",
       "      <td>NaN</td>\n",
       "      <td>$*</td>\n",
       "      <td>2.0</td>\n",
       "      <td>d12437603</td>\n",
       "      <td>False</td>\n",
       "      <td>1</td>\n",
       "      <td>...</td>\n",
       "      <td>4690.0</td>\n",
       "      <td>1</td>\n",
       "      <td>1</td>\n",
       "      <td>547733</td>\n",
       "      <td>100.05</td>\n",
       "      <td>1</td>\n",
       "      <td>0.0</td>\n",
       "      <td>0.741</td>\n",
       "      <td>0.259</td>\n",
       "      <td>0.4215</td>\n",
       "    </tr>\n",
       "  </tbody>\n",
       "</table>\n",
       "<p>2 rows × 29 columns</p>\n",
       "</div>"
      ],
      "text/plain": [
       "      Restaurant_id     City Cuisine Style  Ranking  Rating Price Range  \\\n",
       "29867       id_1183  Hamburg    ['Indian']   1185.0     4.0    $$ - $$$   \n",
       "41120       id_1105   Lisbon     ['usual']   2500.0     NaN          $*   \n",
       "\n",
       "       Number of Reviews      ID_TA   Main  alive  ...  rest_number  \\\n",
       "29867               22.0    d799935   True      0  ...       2915.0   \n",
       "41120                2.0  d12437603  False      1  ...       4690.0   \n",
       "\n",
       "       is_capital  cuisines_number  population  city_square  net_rest  \\\n",
       "29867           0                1     1718187       755.09         1   \n",
       "41120           1                1      547733       100.05         1   \n",
       "\n",
       "       negative  neutra positive  compound  \n",
       "29867       0.0   0.573    0.427    0.7874  \n",
       "41120       0.0   0.741    0.259    0.4215  \n",
       "\n",
       "[2 rows x 29 columns]"
      ]
     },
     "execution_count": 4,
     "metadata": {},
     "output_type": "execute_result"
    }
   ],
   "source": [
    "# Загрузим итоговые данные и проведем EDA (Разведочный анализ данных)\n",
    "df = pd.read_csv('/kaggle/input/data-for-prediction-restaurant-rating/all_in.csv')\n",
    "df.sample(2)"
   ]
  },
  {
   "cell_type": "code",
   "execution_count": 5,
   "metadata": {
    "execution": {
     "iopub.execute_input": "2022-08-01T10:21:48.247896Z",
     "iopub.status.busy": "2022-08-01T10:21:48.247441Z",
     "iopub.status.idle": "2022-08-01T10:21:48.296510Z",
     "shell.execute_reply": "2022-08-01T10:21:48.295425Z",
     "shell.execute_reply.started": "2022-08-01T10:21:48.247851Z"
    }
   },
   "outputs": [
    {
     "name": "stdout",
     "output_type": "stream",
     "text": [
      "<class 'pandas.core.frame.DataFrame'>\n",
      "RangeIndex: 50000 entries, 0 to 49999\n",
      "Data columns (total 29 columns):\n",
      "Restaurant_id        50000 non-null object\n",
      "City                 50000 non-null object\n",
      "Cuisine Style        50000 non-null object\n",
      "Ranking              50000 non-null float64\n",
      "Rating               40000 non-null float64\n",
      "Price Range          50000 non-null object\n",
      "Number of Reviews    50000 non-null float64\n",
      "ID_TA                50000 non-null object\n",
      "Main                 50000 non-null bool\n",
      "alive                50000 non-null int64\n",
      "rating               50000 non-null float64\n",
      "excelent             50000 non-null float64\n",
      "very_good            50000 non-null float64\n",
      "average              50000 non-null float64\n",
      "poor                 50000 non-null float64\n",
      "terrible             50000 non-null float64\n",
      "time_between         50000 non-null float64\n",
      "last_time_review     50000 non-null float64\n",
      "text_reviews         41886 non-null object\n",
      "rest_number          50000 non-null float64\n",
      "is_capital           50000 non-null int64\n",
      "cuisines_number      50000 non-null int64\n",
      "population           50000 non-null int64\n",
      "city_square          50000 non-null float64\n",
      "net_rest             50000 non-null int64\n",
      "negative             50000 non-null float64\n",
      "neutra               50000 non-null float64\n",
      "positive             50000 non-null float64\n",
      "compound             50000 non-null float64\n",
      "dtypes: bool(1), float64(17), int64(5), object(6)\n",
      "memory usage: 10.7+ MB\n"
     ]
    }
   ],
   "source": [
    "df.info()"
   ]
  },
  {
   "cell_type": "code",
   "execution_count": 6,
   "metadata": {
    "execution": {
     "iopub.execute_input": "2022-08-01T10:21:48.298498Z",
     "iopub.status.busy": "2022-08-01T10:21:48.298024Z",
     "iopub.status.idle": "2022-08-01T10:21:48.716532Z",
     "shell.execute_reply": "2022-08-01T10:21:48.715404Z",
     "shell.execute_reply.started": "2022-08-01T10:21:48.298434Z"
    }
   },
   "outputs": [
    {
     "name": "stdout",
     "output_type": "stream",
     "text": [
      "count    50000.000000\n",
      "mean       116.720620\n",
      "std        286.112464\n",
      "min          0.000000\n",
      "25%          7.000000\n",
      "50%         28.000000\n",
      "75%        105.000000\n",
      "max       9660.000000\n",
      "Name: Number of Reviews, dtype: float64\n"
     ]
    },
    {
     "data": {
      "text/plain": [
       "<matplotlib.axes._subplots.AxesSubplot at 0x7fdec11e1f98>"
      ]
     },
     "execution_count": 6,
     "metadata": {},
     "output_type": "execute_result"
    },
    {
     "data": {
      "image/png": "[encoded data removed]",
      "text/plain": [
       "<Figure size 432x288 with 1 Axes>"
      ]
     },
     "metadata": {
      "needs_background": "light"
     },
     "output_type": "display_data"
    }
   ],
   "source": [
    "# Разобьем признаки на категориальные, числовые и бинарные. (некоторые - условно, их нужно еще доработать)\n",
    "num_features = ['Number of Reviews', 'time_between', 'last_time_review', \\\n",
    "                'cuisines_number', 'population', 'city_square', 'Ranking', 'rating', 'rest_number',\\\n",
    "                'excelent', 'very_good', 'average', 'poor', 'terrible', \\\n",
    "                'negative', 'neutra', 'positive', 'compound']\n",
    "\n",
    "cat_features = ['City', 'Cuisine Style', 'Price Range', 'text_reviews']\n",
    "bin_features = ['alive', 'is_capital', 'net_rest']\n",
    "\n",
    "other_features = ['Restaurant_id', 'ID_TA', 'Main', ]\n",
    "# Числовые признаки\n",
    "# 'Number of Reviews'\n",
    "# Кол-во отзывов о ресторане\n",
    "print(df['Number of Reviews'].describe())\n",
    "df[(df['Number of Reviews'] > 100) & (df['Number of Reviews'] < 1000)]['Number of Reviews'].hist(bins=50)"
   ]
  },
  {
   "cell_type": "code",
   "execution_count": 7,
   "metadata": {
    "execution": {
     "iopub.execute_input": "2022-08-01T10:21:48.720686Z",
     "iopub.status.busy": "2022-08-01T10:21:48.720008Z",
     "iopub.status.idle": "2022-08-01T10:21:49.296296Z",
     "shell.execute_reply": "2022-08-01T10:21:49.295132Z",
     "shell.execute_reply.started": "2022-08-01T10:21:48.720615Z"
    }
   },
   "outputs": [
    {
     "data": {
      "text/plain": [
       "<matplotlib.axes._subplots.AxesSubplot at 0x7fdeab5942e8>"
      ]
     },
     "execution_count": 7,
     "metadata": {},
     "output_type": "execute_result"
    },
    {
     "data": {
      "image/png": "[encoded data removed]",
      "text/plain": [
       "<Figure size 432x288 with 1 Axes>"
      ]
     },
     "metadata": {
      "needs_background": "light"
     },
     "output_type": "display_data"
    }
   ],
   "source": [
    "# Много ресторанов с маленьким количеством отзывов и наоборот мало с большим.\n",
    "# Чтобы сгладить применим log\n",
    "df['Number of Reviews'] = df['Number of Reviews'].apply(lambda x: np.log(x) if x != 0 else x)\n",
    "df['Number of Reviews'].hist(bins=20)\n",
    "# стало намного симпатичнее и ближе к норм распределению"
   ]
  },
  {
   "cell_type": "code",
   "execution_count": 8,
   "metadata": {
    "execution": {
     "iopub.execute_input": "2022-08-01T10:21:49.299325Z",
     "iopub.status.busy": "2022-08-01T10:21:49.298647Z",
     "iopub.status.idle": "2022-08-01T10:21:49.652292Z",
     "shell.execute_reply": "2022-08-01T10:21:49.650449Z",
     "shell.execute_reply.started": "2022-08-01T10:21:49.299239Z"
    }
   },
   "outputs": [
    {
     "name": "stdout",
     "output_type": "stream",
     "text": [
      "count    50000.000000\n",
      "mean      2027.352160\n",
      "std       5345.107678\n",
      "min          0.000000\n",
      "25%          7.000000\n",
      "50%         59.000000\n",
      "75%        223.000000\n",
      "max      17585.000000\n",
      "Name: time_between, dtype: float64\n"
     ]
    },
    {
     "data": {
      "text/plain": [
       "<matplotlib.axes._subplots.AxesSubplot at 0x7fdea8ea9d30>"
      ]
     },
     "execution_count": 8,
     "metadata": {},
     "output_type": "execute_result"
    },
    {
     "data": {
      "image/png": "[encoded data removed]",
      "text/plain": [
       "<Figure size 432x288 with 1 Axes>"
      ]
     },
     "metadata": {
      "needs_background": "light"
     },
     "output_type": "display_data"
    }
   ],
   "source": [
    "# 'time_between'\n",
    "# время между отзывами\n",
    "print(df['time_between'].describe())\n",
    "#df[df['time_between'] < 0]['time_between'].hist(bins=20)\n",
    "df['time_between'].hist(bins=20)"
   ]
  },
  {
   "cell_type": "code",
   "execution_count": 9,
   "metadata": {
    "execution": {
     "iopub.execute_input": "2022-08-01T10:21:49.655725Z",
     "iopub.status.busy": "2022-08-01T10:21:49.655023Z",
     "iopub.status.idle": "2022-08-01T10:21:50.103229Z",
     "shell.execute_reply": "2022-08-01T10:21:50.101645Z",
     "shell.execute_reply.started": "2022-08-01T10:21:49.655440Z"
    }
   },
   "outputs": [
    {
     "data": {
      "text/plain": [
       "<matplotlib.axes._subplots.AxesSubplot at 0x7fdea8e1d470>"
      ]
     },
     "execution_count": 9,
     "metadata": {},
     "output_type": "execute_result"
    },
    {
     "data": {
      "image/png": "[encoded data removed]",
      "text/plain": [
       "<Figure size 432x288 with 1 Axes>"
      ]
     },
     "metadata": {
      "needs_background": "light"
     },
     "output_type": "display_data"
    }
   ],
   "source": [
    "# сгладим этот некрасивый график логарифмом\n",
    "df['time_between'] = df['time_between'].apply(lambda x: np.log(x) if x != 0 else x)\n",
    "df['time_between'].hist(bins=20)"
   ]
  },
  {
   "cell_type": "code",
   "execution_count": 10,
   "metadata": {
    "execution": {
     "iopub.execute_input": "2022-08-01T10:21:50.106953Z",
     "iopub.status.busy": "2022-08-01T10:21:50.105793Z",
     "iopub.status.idle": "2022-08-01T10:21:50.495094Z",
     "shell.execute_reply": "2022-08-01T10:21:50.493847Z",
     "shell.execute_reply.started": "2022-08-01T10:21:50.106264Z"
    }
   },
   "outputs": [
    {
     "name": "stdout",
     "output_type": "stream",
     "text": [
      "count    50000.000000\n",
      "mean      4687.608640\n",
      "std       6383.689645\n",
      "min       1584.000000\n",
      "25%       1681.000000\n",
      "50%       1809.000000\n",
      "75%       2263.000000\n",
      "max      19172.000000\n",
      "Name: last_time_review, dtype: float64\n"
     ]
    },
    {
     "data": {
      "text/plain": [
       "<matplotlib.axes._subplots.AxesSubplot at 0x7fdea8d88438>"
      ]
     },
     "execution_count": 10,
     "metadata": {},
     "output_type": "execute_result"
    },
    {
     "data": {
      "image/png": "[encoded data removed]",
      "text/plain": [
       "<Figure size 432x288 with 1 Axes>"
      ]
     },
     "metadata": {
      "needs_background": "light"
     },
     "output_type": "display_data"
    }
   ],
   "source": [
    "# 'last_time_review'\n",
    "# время после последнего отзыва\n",
    "print(df['last_time_review'].describe())\n",
    "df['last_time_review'].hist(bins=20)"
   ]
  },
  {
   "cell_type": "code",
   "execution_count": 11,
   "metadata": {
    "execution": {
     "iopub.execute_input": "2022-08-01T10:21:50.497854Z",
     "iopub.status.busy": "2022-08-01T10:21:50.497126Z",
     "iopub.status.idle": "2022-08-01T10:21:50.911139Z",
     "shell.execute_reply": "2022-08-01T10:21:50.909944Z",
     "shell.execute_reply.started": "2022-08-01T10:21:50.497780Z"
    }
   },
   "outputs": [
    {
     "data": {
      "text/plain": [
       "<matplotlib.axes._subplots.AxesSubplot at 0x7fdea8d66710>"
      ]
     },
     "execution_count": 11,
     "metadata": {},
     "output_type": "execute_result"
    },
    {
     "data": {
      "image/png": "[encoded data removed]",
      "text/plain": [
       "<Figure size 432x288 with 1 Axes>"
      ]
     },
     "metadata": {
      "needs_background": "light"
     },
     "output_type": "display_data"
    }
   ],
   "source": [
    "perc25 = df['last_time_review'].quantile(0.25)\n",
    "perc75 = df['last_time_review'].quantile(0.75)\n",
    "IQR = perc75 - perc25\n",
    "\n",
    "df['last_time_review'] = df['last_time_review'].apply(lambda x : x if x < perc75 + 1.5*IQR else perc75 + 1.5*IQR)\n",
    "df['last_time_review'].hist(bins=20)"
   ]
  },
  {
   "cell_type": "code",
   "execution_count": 12,
   "metadata": {
    "execution": {
     "iopub.execute_input": "2022-08-01T10:21:50.913773Z",
     "iopub.status.busy": "2022-08-01T10:21:50.913097Z",
     "iopub.status.idle": "2022-08-01T10:21:51.384055Z",
     "shell.execute_reply": "2022-08-01T10:21:51.382849Z",
     "shell.execute_reply.started": "2022-08-01T10:21:50.913701Z"
    }
   },
   "outputs": [
    {
     "data": {
      "text/plain": [
       "<matplotlib.axes._subplots.AxesSubplot at 0x7fdea8c4a898>"
      ]
     },
     "execution_count": 12,
     "metadata": {},
     "output_type": "execute_result"
    },
    {
     "data": {
      "image/png": "[encoded data removed]",
      "text/plain": [
       "<Figure size 432x288 with 1 Axes>"
      ]
     },
     "metadata": {
      "needs_background": "light"
     },
     "output_type": "display_data"
    }
   ],
   "source": [
    "# сгладим этот некрасивый график логарифмом\n",
    "df['last_time_review'] = df['last_time_review'].apply(lambda x: np.log(x) if x != 0 else x)\n",
    "df['last_time_review'].hist(bins=20)\n",
    "# распределение далеко от нормального. Посмотрим, возможно, в дальнейшем избавимся от данного столбца."
   ]
  },
  {
   "cell_type": "code",
   "execution_count": 13,
   "metadata": {
    "execution": {
     "iopub.execute_input": "2022-08-01T10:21:51.386750Z",
     "iopub.status.busy": "2022-08-01T10:21:51.386059Z",
     "iopub.status.idle": "2022-08-01T10:21:51.758051Z",
     "shell.execute_reply": "2022-08-01T10:21:51.756829Z",
     "shell.execute_reply.started": "2022-08-01T10:21:51.386677Z"
    }
   },
   "outputs": [
    {
     "name": "stdout",
     "output_type": "stream",
     "text": [
      "count    50000.000000\n",
      "mean         2.709720\n",
      "std          1.785744\n",
      "min          1.000000\n",
      "25%          1.000000\n",
      "50%          2.000000\n",
      "75%          4.000000\n",
      "max         21.000000\n",
      "Name: cuisines_number, dtype: float64\n"
     ]
    },
    {
     "data": {
      "text/plain": [
       "<matplotlib.axes._subplots.AxesSubplot at 0x7fdea8c64128>"
      ]
     },
     "execution_count": 13,
     "metadata": {},
     "output_type": "execute_result"
    },
    {
     "data": {
      "image/png": "[encoded data removed]",
      "text/plain": [
       "<Figure size 432x288 with 1 Axes>"
      ]
     },
     "metadata": {
      "needs_background": "light"
     },
     "output_type": "display_data"
    }
   ],
   "source": [
    "# 'cuisines_number'\n",
    "# количество кухонь в ресторане\n",
    "print(df['cuisines_number'].describe())\n",
    "df['cuisines_number'].hist(bins=20)"
   ]
  },
  {
   "cell_type": "code",
   "execution_count": 14,
   "metadata": {
    "execution": {
     "iopub.execute_input": "2022-08-01T10:21:51.763468Z",
     "iopub.status.busy": "2022-08-01T10:21:51.762745Z",
     "iopub.status.idle": "2022-08-01T10:21:52.273677Z",
     "shell.execute_reply": "2022-08-01T10:21:52.272131Z",
     "shell.execute_reply.started": "2022-08-01T10:21:51.763388Z"
    }
   },
   "outputs": [
    {
     "data": {
      "text/plain": [
       "<matplotlib.axes._subplots.AxesSubplot at 0x7fdea8be29b0>"
      ]
     },
     "execution_count": 14,
     "metadata": {},
     "output_type": "execute_result"
    },
    {
     "data": {
      "image/png": "[encoded data removed]",
      "text/plain": [
       "<Figure size 432x288 with 1 Axes>"
      ]
     },
     "metadata": {
      "needs_background": "light"
     },
     "output_type": "display_data"
    }
   ],
   "source": [
    "# сгладим этот некрасивый график логарифмом\n",
    "df['cuisines_number'] = df['cuisines_number'].apply(lambda x: np.log(x) if x != 0 else x)\n",
    "df['cuisines_number'].hist(bins=20)"
   ]
  },
  {
   "cell_type": "code",
   "execution_count": 15,
   "metadata": {
    "execution": {
     "iopub.execute_input": "2022-08-01T10:21:52.277164Z",
     "iopub.status.busy": "2022-08-01T10:21:52.276452Z",
     "iopub.status.idle": "2022-08-01T10:21:52.623656Z",
     "shell.execute_reply": "2022-08-01T10:21:52.622480Z",
     "shell.execute_reply.started": "2022-08-01T10:21:52.276904Z"
    }
   },
   "outputs": [
    {
     "data": {
      "text/plain": [
       "<matplotlib.axes._subplots.AxesSubplot at 0x7fdec1382630>"
      ]
     },
     "execution_count": 15,
     "metadata": {},
     "output_type": "execute_result"
    },
    {
     "data": {
      "image/png": "[encoded data removed]",
      "text/plain": [
       "<Figure size 432x288 with 1 Axes>"
      ]
     },
     "metadata": {
      "needs_background": "light"
     },
     "output_type": "display_data"
    }
   ],
   "source": [
    "# добавим несколько признаков\n",
    "# место ресторана в общем кол-ве ресторанов города\n",
    "df['rest_in_rests'] = df['Ranking']/df['rest_number']\n",
    "df['rest_in_rests'].hist(bins=20)"
   ]
  },
  {
   "cell_type": "code",
   "execution_count": 16,
   "metadata": {
    "execution": {
     "iopub.execute_input": "2022-08-01T10:21:52.626743Z",
     "iopub.status.busy": "2022-08-01T10:21:52.625888Z",
     "iopub.status.idle": "2022-08-01T10:21:52.972779Z",
     "shell.execute_reply": "2022-08-01T10:21:52.971572Z",
     "shell.execute_reply.started": "2022-08-01T10:21:52.626663Z"
    }
   },
   "outputs": [
    {
     "data": {
      "text/plain": [
       "<matplotlib.axes._subplots.AxesSubplot at 0x7fdec1286940>"
      ]
     },
     "execution_count": 16,
     "metadata": {},
     "output_type": "execute_result"
    },
    {
     "data": {
      "image/png": "[encoded data removed]",
      "text/plain": [
       "<Figure size 432x288 with 1 Axes>"
      ]
     },
     "metadata": {
      "needs_background": "light"
     },
     "output_type": "display_data"
    }
   ],
   "source": [
    "# место ресторана в населении города\n",
    "df['rest_in_pop'] = df['Ranking']/df['population']\n",
    "df['rest_in_pop'].hist(bins=20)"
   ]
  },
  {
   "cell_type": "code",
   "execution_count": 17,
   "metadata": {
    "execution": {
     "iopub.execute_input": "2022-08-01T10:21:52.975933Z",
     "iopub.status.busy": "2022-08-01T10:21:52.975057Z",
     "iopub.status.idle": "2022-08-01T10:21:53.307219Z",
     "shell.execute_reply": "2022-08-01T10:21:53.305846Z",
     "shell.execute_reply.started": "2022-08-01T10:21:52.975851Z"
    }
   },
   "outputs": [
    {
     "data": {
      "text/plain": [
       "<matplotlib.axes._subplots.AxesSubplot at 0x7fdea0568e48>"
      ]
     },
     "execution_count": 17,
     "metadata": {},
     "output_type": "execute_result"
    },
    {
     "data": {
      "image/png": "[encoded data removed]",
      "text/plain": [
       "<Figure size 432x288 with 1 Axes>"
      ]
     },
     "metadata": {
      "needs_background": "light"
     },
     "output_type": "display_data"
    }
   ],
   "source": [
    "# место ресторана в площади города\n",
    "df['rest_in_sq'] = df['Ranking']/df['city_square']\n",
    "df['rest_in_sq'].hist(bins=20)"
   ]
  },
  {
   "cell_type": "code",
   "execution_count": 18,
   "metadata": {
    "execution": {
     "iopub.execute_input": "2022-08-01T10:21:53.310225Z",
     "iopub.status.busy": "2022-08-01T10:21:53.309405Z",
     "iopub.status.idle": "2022-08-01T10:21:53.660241Z",
     "shell.execute_reply": "2022-08-01T10:21:53.659127Z",
     "shell.execute_reply.started": "2022-08-01T10:21:53.310139Z"
    }
   },
   "outputs": [
    {
     "name": "stdout",
     "output_type": "stream",
     "text": [
      "count    50000.000000\n",
      "mean       556.243029\n",
      "std        546.678679\n",
      "min         15.930000\n",
      "25%        105.400000\n",
      "50%        368.000000\n",
      "75%        891.680000\n",
      "max       2586.400000\n",
      "Name: city_square, dtype: float64\n"
     ]
    },
    {
     "data": {
      "text/plain": [
       "<matplotlib.axes._subplots.AxesSubplot at 0x7fdea04efeb8>"
      ]
     },
     "execution_count": 18,
     "metadata": {},
     "output_type": "execute_result"
    },
    {
     "data": {
      "image/png": "[encoded data removed]",
      "text/plain": [
       "<Figure size 432x288 with 1 Axes>"
      ]
     },
     "metadata": {
      "needs_background": "light"
     },
     "output_type": "display_data"
    }
   ],
   "source": [
    "# 'city_square'\n",
    "# площадь города\n",
    "print(df['city_square'].describe())\n",
    "df['city_square'].hist(bins=20)"
   ]
  },
  {
   "cell_type": "code",
   "execution_count": 19,
   "metadata": {
    "execution": {
     "iopub.execute_input": "2022-08-01T10:21:53.662848Z",
     "iopub.status.busy": "2022-08-01T10:21:53.662160Z",
     "iopub.status.idle": "2022-08-01T10:21:54.013706Z",
     "shell.execute_reply": "2022-08-01T10:21:54.012568Z",
     "shell.execute_reply.started": "2022-08-01T10:21:53.662778Z"
    }
   },
   "outputs": [
    {
     "name": "stdout",
     "output_type": "stream",
     "text": [
      "count    50000.00000\n",
      "mean         3.96267\n",
      "std          0.54709\n",
      "min          1.00000\n",
      "25%          4.00000\n",
      "50%          4.00000\n",
      "75%          4.00000\n",
      "max          5.00000\n",
      "Name: rating, dtype: float64\n"
     ]
    },
    {
     "data": {
      "text/plain": [
       "<matplotlib.axes._subplots.AxesSubplot at 0x7fdea0410d68>"
      ]
     },
     "execution_count": 19,
     "metadata": {},
     "output_type": "execute_result"
    },
    {
     "data": {
      "image/png": "[encoded data removed]",
      "text/plain": [
       "<Figure size 432x288 with 1 Axes>"
      ]
     },
     "metadata": {
      "needs_background": "light"
     },
     "output_type": "display_data"
    }
   ],
   "source": [
    "# rating\n",
    "# rating - спарсенный рейтинг ресторанов (Nan были заменены медианой)\n",
    "print(df['rating'].describe())\n",
    "df['rating'].hist(bins=20)"
   ]
  },
  {
   "cell_type": "code",
   "execution_count": 20,
   "metadata": {
    "execution": {
     "iopub.execute_input": "2022-08-01T10:21:54.016258Z",
     "iopub.status.busy": "2022-08-01T10:21:54.015622Z",
     "iopub.status.idle": "2022-08-01T10:21:55.947421Z",
     "shell.execute_reply": "2022-08-01T10:21:55.946333Z",
     "shell.execute_reply.started": "2022-08-01T10:21:54.016192Z"
    }
   },
   "outputs": [
    {
     "data": {
      "text/plain": [
       "<matplotlib.axes._subplots.AxesSubplot at 0x7fdea03977b8>"
      ]
     },
     "execution_count": 20,
     "metadata": {},
     "output_type": "execute_result"
    },
    {
     "data": {
      "image/png": "[encoded data removed]",
      "text/plain": [
       "<Figure size 1296x864 with 2 Axes>"
      ]
     },
     "metadata": {
      "needs_background": "light"
     },
     "output_type": "display_data"
    }
   ],
   "source": [
    "# итак числовые признаки:\n",
    "num_features = ['Number of Reviews', 'time_between', 'last_time_review', \\\n",
    "                'cuisines_number', 'population', 'city_square', 'Ranking', 'rating', 'rest_number', \\\n",
    "                'rest_in_rests', 'rest_in_pop', 'rest_in_sq', 'excelent', 'very_good', 'average', 'poor', 'terrible']\n",
    "\n",
    "# Посмотрим матрицу корреляций\n",
    "correlation_matrix = df[num_features].corr()\n",
    "\n",
    "# выведем на тепловую карту\n",
    "plt.figure(figsize=(18,12))\n",
    "sns.heatmap(correlation_matrix, annot=True)"
   ]
  },
  {
   "cell_type": "code",
   "execution_count": 21,
   "metadata": {
    "execution": {
     "iopub.execute_input": "2022-08-01T10:21:55.949308Z",
     "iopub.status.busy": "2022-08-01T10:21:55.949014Z",
     "iopub.status.idle": "2022-08-01T10:21:57.009155Z",
     "shell.execute_reply": "2022-08-01T10:21:57.007988Z",
     "shell.execute_reply.started": "2022-08-01T10:21:55.949260Z"
    }
   },
   "outputs": [
    {
     "data": {
      "image/png": "[encoded data removed]",
      "text/plain": [
       "<Figure size 1008x288 with 1 Axes>"
      ]
     },
     "metadata": {
      "needs_background": "light"
     },
     "output_type": "display_data"
    },
    {
     "data": {
      "image/png": "[encoded data removed]",
      "text/plain": [
       "<Figure size 1008x288 with 1 Axes>"
      ]
     },
     "metadata": {
      "needs_background": "light"
     },
     "output_type": "display_data"
    },
    {
     "data": {
      "image/png": "[encoded data removed]",
      "text/plain": [
       "<Figure size 1008x288 with 1 Axes>"
      ]
     },
     "metadata": {
      "needs_background": "light"
     },
     "output_type": "display_data"
    }
   ],
   "source": [
    "cat_features = ['City', 'Cuisine Style', 'Price Range']\n",
    "bin_features = ['alive', 'is_capital', 'net_rest']\n",
    "#Посмотрим боксплоты у бинарных признаков\n",
    "def get_boxplot(column):\n",
    "    fig, ax = plt.subplots(figsize = (14, 4))\n",
    "    sns.boxplot(x=column, y='rating', \n",
    "                data=df[df[column].isin(df[column].value_counts().index[:])],\n",
    "               ax=ax)\n",
    "    plt.xticks(rotation=45)\n",
    "    ax.set_title('Boxplot for ' + column)\n",
    "    plt.show()\n",
    "\n",
    "for col in bin_features:\n",
    "    get_boxplot(col)"
   ]
  },
  {
   "cell_type": "code",
   "execution_count": 22,
   "metadata": {
    "execution": {
     "iopub.execute_input": "2022-08-01T10:21:57.012484Z",
     "iopub.status.busy": "2022-08-01T10:21:57.011688Z",
     "iopub.status.idle": "2022-08-01T10:21:57.065153Z",
     "shell.execute_reply": "2022-08-01T10:21:57.064037Z",
     "shell.execute_reply.started": "2022-08-01T10:21:57.012410Z"
    }
   },
   "outputs": [],
   "source": [
    "# Сделаем столбцы из категориальных признаков\n",
    "df = pd.get_dummies(df, columns=['City', 'Price Range'])"
   ]
  },
  {
   "cell_type": "code",
   "execution_count": 23,
   "metadata": {
    "execution": {
     "iopub.execute_input": "2022-08-01T10:21:57.068987Z",
     "iopub.status.busy": "2022-08-01T10:21:57.068661Z",
     "iopub.status.idle": "2022-08-01T10:22:11.082230Z",
     "shell.execute_reply": "2022-08-01T10:22:11.081092Z",
     "shell.execute_reply.started": "2022-08-01T10:21:57.068928Z"
    }
   },
   "outputs": [],
   "source": [
    "# С Cuisine Style чуть сложнее. Переведем в списки, добавим столбцы, заполним по наличию кухни в списке\n",
    "df['Cuisine Style'] = df['Cuisine Style'].apply(lambda x: x[2:-2].split(\"', '\"))\n",
    "cuisines_list = []\n",
    "for cuisines in df['Cuisine Style']:\n",
    "    for cuisine in cuisines: \n",
    "        if cuisine not in cuisines_list:\n",
    "            cuisines_list.append(cuisine)\n",
    "\n",
    "for cuisine in cuisines_list:\n",
    "    df = df.reindex(columns = np.append(df.columns.values, [cuisine]))\n",
    "\n",
    "\n",
    "for cuisine in cuisines_list:    \n",
    "    df[cuisine] = df['Cuisine Style'].apply(lambda x: 1 if cuisine in x else 0)"
   ]
  },
  {
   "cell_type": "code",
   "execution_count": 24,
   "metadata": {
    "execution": {
     "iopub.execute_input": "2022-08-01T10:22:11.084288Z",
     "iopub.status.busy": "2022-08-01T10:22:11.083872Z",
     "iopub.status.idle": "2022-08-01T10:22:11.260934Z",
     "shell.execute_reply": "2022-08-01T10:22:11.259703Z",
     "shell.execute_reply.started": "2022-08-01T10:22:11.084201Z"
    }
   },
   "outputs": [
    {
     "data": {
      "text/html": [
       "<div>\n",
       "<style scoped>\n",
       "    .dataframe tbody tr th:only-of-type {\n",
       "        vertical-align: middle;\n",
       "    }\n",
       "\n",
       "    .dataframe tbody tr th {\n",
       "        vertical-align: top;\n",
       "    }\n",
       "\n",
       "    .dataframe thead th {\n",
       "        text-align: right;\n",
       "    }\n",
       "</style>\n",
       "<table border=\"1\" class=\"dataframe\">\n",
       "  <thead>\n",
       "    <tr style=\"text-align: right;\">\n",
       "      <th></th>\n",
       "      <th>Restaurant_id</th>\n",
       "      <th>Cuisine Style</th>\n",
       "      <th>Ranking</th>\n",
       "      <th>Rating</th>\n",
       "      <th>Number of Reviews</th>\n",
       "      <th>ID_TA</th>\n",
       "      <th>Main</th>\n",
       "      <th>alive</th>\n",
       "      <th>rating</th>\n",
       "      <th>excelent</th>\n",
       "      <th>very_good</th>\n",
       "      <th>average</th>\n",
       "      <th>poor</th>\n",
       "      <th>terrible</th>\n",
       "      <th>time_between</th>\n",
       "      <th>last_time_review</th>\n",
       "      <th>text_reviews</th>\n",
       "      <th>rest_number</th>\n",
       "      <th>is_capital</th>\n",
       "      <th>cuisines_number</th>\n",
       "      <th>population</th>\n",
       "      <th>city_square</th>\n",
       "      <th>net_rest</th>\n",
       "      <th>negative</th>\n",
       "      <th>neutra</th>\n",
       "      <th>positive</th>\n",
       "      <th>compound</th>\n",
       "      <th>rest_in_rests</th>\n",
       "      <th>rest_in_pop</th>\n",
       "      <th>rest_in_sq</th>\n",
       "      <th>City_Amsterdam</th>\n",
       "      <th>City_Athens</th>\n",
       "      <th>City_Barcelona</th>\n",
       "      <th>City_Berlin</th>\n",
       "      <th>City_Bratislava</th>\n",
       "      <th>City_Brussels</th>\n",
       "      <th>City_Budapest</th>\n",
       "      <th>City_Copenhagen</th>\n",
       "      <th>City_Dublin</th>\n",
       "      <th>City_Edinburgh</th>\n",
       "      <th>City_Geneva</th>\n",
       "      <th>City_Hamburg</th>\n",
       "      <th>City_Helsinki</th>\n",
       "      <th>City_Krakow</th>\n",
       "      <th>City_Lisbon</th>\n",
       "      <th>City_Ljubljana</th>\n",
       "      <th>City_London</th>\n",
       "      <th>City_Luxembourg</th>\n",
       "      <th>City_Lyon</th>\n",
       "      <th>City_Madrid</th>\n",
       "      <th>City_Milan</th>\n",
       "      <th>City_Munich</th>\n",
       "      <th>City_Oporto</th>\n",
       "      <th>City_Oslo</th>\n",
       "      <th>City_Paris</th>\n",
       "      <th>City_Prague</th>\n",
       "      <th>City_Rome</th>\n",
       "      <th>City_Stockholm</th>\n",
       "      <th>City_Vienna</th>\n",
       "      <th>City_Warsaw</th>\n",
       "      <th>City_Zurich</th>\n",
       "      <th>Price Range_$</th>\n",
       "      <th>Price Range_$$ - $$$</th>\n",
       "      <th>Price Range_$$$$</th>\n",
       "      <th>Price Range_$*</th>\n",
       "      <th>European</th>\n",
       "      <th>French</th>\n",
       "      <th>International</th>\n",
       "      <th>Asian</th>\n",
       "      <th>Nepali</th>\n",
       "      <th>Japanese</th>\n",
       "      <th>Sushi</th>\n",
       "      <th>Grill</th>\n",
       "      <th>Vegetarian Friendly</th>\n",
       "      <th>Vegan Options</th>\n",
       "      <th>Gluten Free Options</th>\n",
       "      <th>usual</th>\n",
       "      <th>German</th>\n",
       "      <th>Central European</th>\n",
       "      <th>Bar</th>\n",
       "      <th>Portuguese</th>\n",
       "      <th>Wine Bar</th>\n",
       "      <th>Italian</th>\n",
       "      <th>Pizza</th>\n",
       "      <th>Fast Food</th>\n",
       "      <th>Mediterranean</th>\n",
       "      <th>Spanish</th>\n",
       "      <th>Healthy</th>\n",
       "      <th>Cafe</th>\n",
       "      <th>Thai</th>\n",
       "      <th>Vietnamese</th>\n",
       "      <th>Pub</th>\n",
       "      <th>Chinese</th>\n",
       "      <th>British</th>\n",
       "      <th>Polish</th>\n",
       "      <th>Fusion</th>\n",
       "      <th>American</th>\n",
       "      <th>Diner</th>\n",
       "      <th>Dutch</th>\n",
       "      <th>Mexican</th>\n",
       "      <th>Venezuelan</th>\n",
       "      <th>South American</th>\n",
       "      <th>Soups</th>\n",
       "      <th>Belgian</th>\n",
       "      <th>Steakhouse</th>\n",
       "      <th>Latin</th>\n",
       "      <th>Barbecue</th>\n",
       "      <th>Argentinean</th>\n",
       "      <th>Irish</th>\n",
       "      <th>Seafood</th>\n",
       "      <th>Hungarian</th>\n",
       "      <th>Swiss</th>\n",
       "      <th>Contemporary</th>\n",
       "      <th>Greek</th>\n",
       "      <th>Central American</th>\n",
       "      <th>Indian</th>\n",
       "      <th>Middle Eastern</th>\n",
       "      <th>Turkish</th>\n",
       "      <th>Eastern European</th>\n",
       "      <th>Pakistani</th>\n",
       "      <th>Peruvian</th>\n",
       "      <th>Delicatessen</th>\n",
       "      <th>Swedish</th>\n",
       "      <th>Scandinavian</th>\n",
       "      <th>Tibetan</th>\n",
       "      <th>Korean</th>\n",
       "      <th>Southwestern</th>\n",
       "      <th>Czech</th>\n",
       "      <th>Slovenian</th>\n",
       "      <th>Balti</th>\n",
       "      <th>Street Food</th>\n",
       "      <th>Quick Bites</th>\n",
       "      <th>Basque</th>\n",
       "      <th>Brew Pub</th>\n",
       "      <th>Caribbean</th>\n",
       "      <th>Austrian</th>\n",
       "      <th>Moroccan</th>\n",
       "      <th>Halal</th>\n",
       "      <th>Lebanese</th>\n",
       "      <th>Russian</th>\n",
       "      <th>African</th>\n",
       "      <th>Ethiopian</th>\n",
       "      <th>Egyptian</th>\n",
       "      <th>Danish</th>\n",
       "      <th>Brazilian</th>\n",
       "      <th>Ecuadorean</th>\n",
       "      <th>Israeli</th>\n",
       "      <th>Kosher</th>\n",
       "      <th>Gastropub</th>\n",
       "      <th>Australian</th>\n",
       "      <th>Singaporean</th>\n",
       "      <th>Malaysian</th>\n",
       "      <th>Minority Chinese</th>\n",
       "      <th>Scottish</th>\n",
       "      <th>Arabic</th>\n",
       "      <th>Ukrainian</th>\n",
       "      <th>Chilean</th>\n",
       "      <th>Mongolian</th>\n",
       "      <th>Emilian</th>\n",
       "      <th>Cuban</th>\n",
       "      <th>Dessert</th>\n",
       "      <th>Persian</th>\n",
       "      <th>Croatian</th>\n",
       "      <th>Filipino</th>\n",
       "      <th>Indonesian</th>\n",
       "      <th>Colombian</th>\n",
       "      <th>Jamaican</th>\n",
       "      <th>Norwegian</th>\n",
       "      <th>Hawaiian</th>\n",
       "      <th>Bakeries</th>\n",
       "      <th>Deli</th>\n",
       "      <th>Armenian</th>\n",
       "      <th>Taiwanese</th>\n",
       "      <th>Bangladeshi</th>\n",
       "      <th>Cajun &amp; Creole</th>\n",
       "      <th>Sri Lankan</th>\n",
       "      <th>Cambodian</th>\n",
       "      <th>Albanian</th>\n",
       "      <th>New Zealand</th>\n",
       "      <th>Central Asian</th>\n",
       "      <th>Specialty Food Market</th>\n",
       "      <th>Tunisian</th>\n",
       "      <th>Romanian</th>\n",
       "      <th>Georgian</th>\n",
       "      <th>Romagna</th>\n",
       "      <th>Polynesian</th>\n",
       "      <th>Catalan</th>\n",
       "      <th>Azerbaijani</th>\n",
       "      <th>Caucasian</th>\n",
       "      <th>Afghani</th>\n",
       "      <th>Uzbek</th>\n",
       "      <th>Canadian</th>\n",
       "      <th>Romana</th>\n",
       "      <th>Beer restaurants</th>\n",
       "      <th>Salvadoran</th>\n",
       "      <th>Yunnan</th>\n",
       "      <th>Native American</th>\n",
       "      <th>Dining bars</th>\n",
       "      <th>Xinjiang</th>\n",
       "      <th>Burmese</th>\n",
       "      <th>Lombard</th>\n",
       "      <th>Northern-Italian</th>\n",
       "      <th>Fujian</th>\n",
       "      <th>Neapolitan</th>\n",
       "      <th>Campania</th>\n",
       "      <th>Welsh</th>\n",
       "      <th>Lazio</th>\n",
       "      <th>Cantonese</th>\n",
       "      <th>Beijing Specialties</th>\n",
       "      <th>Latvian</th>\n",
       "      <th>Japanese Fusion</th>\n",
       "      <th>Sardinian</th>\n",
       "      <th>Southern-Italian</th>\n",
       "    </tr>\n",
       "  </thead>\n",
       "  <tbody>\n",
       "    <tr>\n",
       "      <th>23460</th>\n",
       "      <td>id_1509</td>\n",
       "      <td>[Steakhouse, Pizza, Cafe, Street Food, Italian]</td>\n",
       "      <td>1511.0</td>\n",
       "      <td>3.5</td>\n",
       "      <td>3.637586</td>\n",
       "      <td>d1021090</td>\n",
       "      <td>True</td>\n",
       "      <td>1</td>\n",
       "      <td>4.0</td>\n",
       "      <td>1.0</td>\n",
       "      <td>4.0</td>\n",
       "      <td>1.0</td>\n",
       "      <td>2.0</td>\n",
       "      <td>0.0</td>\n",
       "      <td>4.204693</td>\n",
       "      <td>7.658228</td>\n",
       "      <td>'Very pricey', 'Far below expectations'</td>\n",
       "      <td>2460.0</td>\n",
       "      <td>1</td>\n",
       "      <td>1.609438</td>\n",
       "      <td>3168846</td>\n",
       "      <td>412.00</td>\n",
       "      <td>1</td>\n",
       "      <td>0.0</td>\n",
       "      <td>1.000</td>\n",
       "      <td>0.000</td>\n",
       "      <td>0.0000</td>\n",
       "      <td>0.614228</td>\n",
       "      <td>0.000477</td>\n",
       "      <td>3.667476</td>\n",
       "      <td>0</td>\n",
       "      <td>1</td>\n",
       "      <td>0</td>\n",
       "      <td>0</td>\n",
       "      <td>0</td>\n",
       "      <td>0</td>\n",
       "      <td>0</td>\n",
       "      <td>0</td>\n",
       "      <td>0</td>\n",
       "      <td>0</td>\n",
       "      <td>0</td>\n",
       "      <td>0</td>\n",
       "      <td>0</td>\n",
       "      <td>0</td>\n",
       "      <td>0</td>\n",
       "      <td>0</td>\n",
       "      <td>0</td>\n",
       "      <td>0</td>\n",
       "      <td>0</td>\n",
       "      <td>0</td>\n",
       "      <td>0</td>\n",
       "      <td>0</td>\n",
       "      <td>0</td>\n",
       "      <td>0</td>\n",
       "      <td>0</td>\n",
       "      <td>0</td>\n",
       "      <td>0</td>\n",
       "      <td>0</td>\n",
       "      <td>0</td>\n",
       "      <td>0</td>\n",
       "      <td>0</td>\n",
       "      <td>0</td>\n",
       "      <td>1</td>\n",
       "      <td>0</td>\n",
       "      <td>0</td>\n",
       "      <td>0</td>\n",
       "      <td>0</td>\n",
       "      <td>0</td>\n",
       "      <td>0</td>\n",
       "      <td>0</td>\n",
       "      <td>0</td>\n",
       "      <td>0</td>\n",
       "      <td>0</td>\n",
       "      <td>0</td>\n",
       "      <td>0</td>\n",
       "      <td>0</td>\n",
       "      <td>0</td>\n",
       "      <td>0</td>\n",
       "      <td>0</td>\n",
       "      <td>0</td>\n",
       "      <td>0</td>\n",
       "      <td>0</td>\n",
       "      <td>1</td>\n",
       "      <td>1</td>\n",
       "      <td>0</td>\n",
       "      <td>0</td>\n",
       "      <td>0</td>\n",
       "      <td>0</td>\n",
       "      <td>1</td>\n",
       "      <td>0</td>\n",
       "      <td>0</td>\n",
       "      <td>0</td>\n",
       "      <td>0</td>\n",
       "      <td>0</td>\n",
       "      <td>0</td>\n",
       "      <td>0</td>\n",
       "      <td>0</td>\n",
       "      <td>0</td>\n",
       "      <td>0</td>\n",
       "      <td>0</td>\n",
       "      <td>0</td>\n",
       "      <td>0</td>\n",
       "      <td>0</td>\n",
       "      <td>0</td>\n",
       "      <td>1</td>\n",
       "      <td>0</td>\n",
       "      <td>0</td>\n",
       "      <td>0</td>\n",
       "      <td>0</td>\n",
       "      <td>0</td>\n",
       "      <td>0</td>\n",
       "      <td>0</td>\n",
       "      <td>0</td>\n",
       "      <td>0</td>\n",
       "      <td>0</td>\n",
       "      <td>0</td>\n",
       "      <td>0</td>\n",
       "      <td>0</td>\n",
       "      <td>0</td>\n",
       "      <td>0</td>\n",
       "      <td>0</td>\n",
       "      <td>0</td>\n",
       "      <td>0</td>\n",
       "      <td>0</td>\n",
       "      <td>0</td>\n",
       "      <td>0</td>\n",
       "      <td>0</td>\n",
       "      <td>0</td>\n",
       "      <td>0</td>\n",
       "      <td>0</td>\n",
       "      <td>1</td>\n",
       "      <td>0</td>\n",
       "      <td>0</td>\n",
       "      <td>0</td>\n",
       "      <td>0</td>\n",
       "      <td>0</td>\n",
       "      <td>0</td>\n",
       "      <td>0</td>\n",
       "      <td>0</td>\n",
       "      <td>0</td>\n",
       "      <td>0</td>\n",
       "      <td>0</td>\n",
       "      <td>0</td>\n",
       "      <td>0</td>\n",
       "      <td>0</td>\n",
       "      <td>0</td>\n",
       "      <td>0</td>\n",
       "      <td>0</td>\n",
       "      <td>0</td>\n",
       "      <td>0</td>\n",
       "      <td>0</td>\n",
       "      <td>0</td>\n",
       "      <td>0</td>\n",
       "      <td>0</td>\n",
       "      <td>0</td>\n",
       "      <td>0</td>\n",
       "      <td>0</td>\n",
       "      <td>0</td>\n",
       "      <td>0</td>\n",
       "      <td>0</td>\n",
       "      <td>0</td>\n",
       "      <td>0</td>\n",
       "      <td>0</td>\n",
       "      <td>0</td>\n",
       "      <td>0</td>\n",
       "      <td>0</td>\n",
       "      <td>0</td>\n",
       "      <td>0</td>\n",
       "      <td>0</td>\n",
       "      <td>0</td>\n",
       "      <td>0</td>\n",
       "      <td>0</td>\n",
       "      <td>0</td>\n",
       "      <td>0</td>\n",
       "      <td>0</td>\n",
       "      <td>0</td>\n",
       "      <td>0</td>\n",
       "      <td>0</td>\n",
       "      <td>0</td>\n",
       "      <td>0</td>\n",
       "      <td>0</td>\n",
       "      <td>0</td>\n",
       "      <td>0</td>\n",
       "      <td>0</td>\n",
       "      <td>0</td>\n",
       "      <td>0</td>\n",
       "      <td>0</td>\n",
       "      <td>0</td>\n",
       "      <td>0</td>\n",
       "      <td>0</td>\n",
       "      <td>0</td>\n",
       "      <td>0</td>\n",
       "      <td>0</td>\n",
       "      <td>0</td>\n",
       "      <td>0</td>\n",
       "      <td>0</td>\n",
       "      <td>0</td>\n",
       "      <td>0</td>\n",
       "      <td>0</td>\n",
       "      <td>0</td>\n",
       "      <td>0</td>\n",
       "      <td>0</td>\n",
       "      <td>0</td>\n",
       "      <td>0</td>\n",
       "      <td>0</td>\n",
       "      <td>0</td>\n",
       "      <td>0</td>\n",
       "      <td>0</td>\n",
       "      <td>0</td>\n",
       "      <td>0</td>\n",
       "      <td>0</td>\n",
       "      <td>0</td>\n",
       "      <td>0</td>\n",
       "    </tr>\n",
       "    <tr>\n",
       "      <th>24078</th>\n",
       "      <td>id_354</td>\n",
       "      <td>[European, Vegetarian Friendly, Vegan Options]</td>\n",
       "      <td>355.0</td>\n",
       "      <td>4.0</td>\n",
       "      <td>2.484907</td>\n",
       "      <td>d13170250</td>\n",
       "      <td>True</td>\n",
       "      <td>1</td>\n",
       "      <td>4.0</td>\n",
       "      <td>49.0</td>\n",
       "      <td>31.0</td>\n",
       "      <td>16.0</td>\n",
       "      <td>18.0</td>\n",
       "      <td>8.0</td>\n",
       "      <td>1.386294</td>\n",
       "      <td>7.402452</td>\n",
       "      <td>'Definitely Yes!', 'Nice veggie food, ok atmos...</td>\n",
       "      <td>1399.0</td>\n",
       "      <td>1</td>\n",
       "      <td>1.098612</td>\n",
       "      <td>574579</td>\n",
       "      <td>715.48</td>\n",
       "      <td>1</td>\n",
       "      <td>0.0</td>\n",
       "      <td>0.334</td>\n",
       "      <td>0.666</td>\n",
       "      <td>0.7901</td>\n",
       "      <td>0.253753</td>\n",
       "      <td>0.000618</td>\n",
       "      <td>0.496170</td>\n",
       "      <td>0</td>\n",
       "      <td>0</td>\n",
       "      <td>0</td>\n",
       "      <td>0</td>\n",
       "      <td>0</td>\n",
       "      <td>0</td>\n",
       "      <td>0</td>\n",
       "      <td>0</td>\n",
       "      <td>0</td>\n",
       "      <td>0</td>\n",
       "      <td>0</td>\n",
       "      <td>0</td>\n",
       "      <td>1</td>\n",
       "      <td>0</td>\n",
       "      <td>0</td>\n",
       "      <td>0</td>\n",
       "      <td>0</td>\n",
       "      <td>0</td>\n",
       "      <td>0</td>\n",
       "      <td>0</td>\n",
       "      <td>0</td>\n",
       "      <td>0</td>\n",
       "      <td>0</td>\n",
       "      <td>0</td>\n",
       "      <td>0</td>\n",
       "      <td>0</td>\n",
       "      <td>0</td>\n",
       "      <td>0</td>\n",
       "      <td>0</td>\n",
       "      <td>0</td>\n",
       "      <td>0</td>\n",
       "      <td>0</td>\n",
       "      <td>1</td>\n",
       "      <td>0</td>\n",
       "      <td>0</td>\n",
       "      <td>1</td>\n",
       "      <td>0</td>\n",
       "      <td>0</td>\n",
       "      <td>0</td>\n",
       "      <td>0</td>\n",
       "      <td>0</td>\n",
       "      <td>0</td>\n",
       "      <td>0</td>\n",
       "      <td>1</td>\n",
       "      <td>1</td>\n",
       "      <td>0</td>\n",
       "      <td>0</td>\n",
       "      <td>0</td>\n",
       "      <td>0</td>\n",
       "      <td>0</td>\n",
       "      <td>0</td>\n",
       "      <td>0</td>\n",
       "      <td>0</td>\n",
       "      <td>0</td>\n",
       "      <td>0</td>\n",
       "      <td>0</td>\n",
       "      <td>0</td>\n",
       "      <td>0</td>\n",
       "      <td>0</td>\n",
       "      <td>0</td>\n",
       "      <td>0</td>\n",
       "      <td>0</td>\n",
       "      <td>0</td>\n",
       "      <td>0</td>\n",
       "      <td>0</td>\n",
       "      <td>0</td>\n",
       "      <td>0</td>\n",
       "      <td>0</td>\n",
       "      <td>0</td>\n",
       "      <td>0</td>\n",
       "      <td>0</td>\n",
       "      <td>0</td>\n",
       "      <td>0</td>\n",
       "      <td>0</td>\n",
       "      <td>0</td>\n",
       "      <td>0</td>\n",
       "      <td>0</td>\n",
       "      <td>0</td>\n",
       "      <td>0</td>\n",
       "      <td>0</td>\n",
       "      <td>0</td>\n",
       "      <td>0</td>\n",
       "      <td>0</td>\n",
       "      <td>0</td>\n",
       "      <td>0</td>\n",
       "      <td>0</td>\n",
       "      <td>0</td>\n",
       "      <td>0</td>\n",
       "      <td>0</td>\n",
       "      <td>0</td>\n",
       "      <td>0</td>\n",
       "      <td>0</td>\n",
       "      <td>0</td>\n",
       "      <td>0</td>\n",
       "      <td>0</td>\n",
       "      <td>0</td>\n",
       "      <td>0</td>\n",
       "      <td>0</td>\n",
       "      <td>0</td>\n",
       "      <td>0</td>\n",
       "      <td>0</td>\n",
       "      <td>0</td>\n",
       "      <td>0</td>\n",
       "      <td>0</td>\n",
       "      <td>0</td>\n",
       "      <td>0</td>\n",
       "      <td>0</td>\n",
       "      <td>0</td>\n",
       "      <td>0</td>\n",
       "      <td>0</td>\n",
       "      <td>0</td>\n",
       "      <td>0</td>\n",
       "      <td>0</td>\n",
       "      <td>0</td>\n",
       "      <td>0</td>\n",
       "      <td>0</td>\n",
       "      <td>0</td>\n",
       "      <td>0</td>\n",
       "      <td>0</td>\n",
       "      <td>0</td>\n",
       "      <td>0</td>\n",
       "      <td>0</td>\n",
       "      <td>0</td>\n",
       "      <td>0</td>\n",
       "      <td>0</td>\n",
       "      <td>0</td>\n",
       "      <td>0</td>\n",
       "      <td>0</td>\n",
       "      <td>0</td>\n",
       "      <td>0</td>\n",
       "      <td>0</td>\n",
       "      <td>0</td>\n",
       "      <td>0</td>\n",
       "      <td>0</td>\n",
       "      <td>0</td>\n",
       "      <td>0</td>\n",
       "      <td>0</td>\n",
       "      <td>0</td>\n",
       "      <td>0</td>\n",
       "      <td>0</td>\n",
       "      <td>0</td>\n",
       "      <td>0</td>\n",
       "      <td>0</td>\n",
       "      <td>0</td>\n",
       "      <td>0</td>\n",
       "      <td>0</td>\n",
       "      <td>0</td>\n",
       "      <td>0</td>\n",
       "      <td>0</td>\n",
       "      <td>0</td>\n",
       "      <td>0</td>\n",
       "      <td>0</td>\n",
       "      <td>0</td>\n",
       "      <td>0</td>\n",
       "      <td>0</td>\n",
       "      <td>0</td>\n",
       "      <td>0</td>\n",
       "      <td>0</td>\n",
       "      <td>0</td>\n",
       "      <td>0</td>\n",
       "      <td>0</td>\n",
       "      <td>0</td>\n",
       "      <td>0</td>\n",
       "      <td>0</td>\n",
       "      <td>0</td>\n",
       "      <td>0</td>\n",
       "      <td>0</td>\n",
       "      <td>0</td>\n",
       "      <td>0</td>\n",
       "      <td>0</td>\n",
       "      <td>0</td>\n",
       "      <td>0</td>\n",
       "      <td>0</td>\n",
       "      <td>0</td>\n",
       "      <td>0</td>\n",
       "      <td>0</td>\n",
       "      <td>0</td>\n",
       "      <td>0</td>\n",
       "      <td>0</td>\n",
       "      <td>0</td>\n",
       "      <td>0</td>\n",
       "      <td>0</td>\n",
       "      <td>0</td>\n",
       "    </tr>\n",
       "  </tbody>\n",
       "</table>\n",
       "</div>"
      ],
      "text/plain": [
       "      Restaurant_id                                    Cuisine Style  Ranking  \\\n",
       "23460       id_1509  [Steakhouse, Pizza, Cafe, Street Food, Italian]   1511.0   \n",
       "24078        id_354   [European, Vegetarian Friendly, Vegan Options]    355.0   \n",
       "\n",
       "       Rating  Number of Reviews      ID_TA  Main  alive  rating  excelent  \\\n",
       "23460     3.5           3.637586   d1021090  True      1     4.0       1.0   \n",
       "24078     4.0           2.484907  d13170250  True      1     4.0      49.0   \n",
       "\n",
       "       very_good  average  poor  terrible  time_between  last_time_review  \\\n",
       "23460        4.0      1.0   2.0       0.0      4.204693          7.658228   \n",
       "24078       31.0     16.0  18.0       8.0      1.386294          7.402452   \n",
       "\n",
       "                                            text_reviews  rest_number  \\\n",
       "23460            'Very pricey', 'Far below expectations'       2460.0   \n",
       "24078  'Definitely Yes!', 'Nice veggie food, ok atmos...       1399.0   \n",
       "\n",
       "       is_capital  cuisines_number  population  city_square  net_rest  \\\n",
       "23460           1         1.609438     3168846       412.00         1   \n",
       "24078           1         1.098612      574579       715.48         1   \n",
       "\n",
       "       negative  neutra  positive  compound  rest_in_rests  rest_in_pop  \\\n",
       "23460       0.0   1.000     0.000    0.0000       0.614228     0.000477   \n",
       "24078       0.0   0.334     0.666    0.7901       0.253753     0.000618   \n",
       "\n",
       "       rest_in_sq  City_Amsterdam  City_Athens  City_Barcelona  City_Berlin  \\\n",
       "23460    3.667476               0            1               0            0   \n",
       "24078    0.496170               0            0               0            0   \n",
       "\n",
       "       City_Bratislava  City_Brussels  City_Budapest  City_Copenhagen  \\\n",
       "23460                0              0              0                0   \n",
       "24078                0              0              0                0   \n",
       "\n",
       "       City_Dublin  City_Edinburgh  City_Geneva  City_Hamburg  City_Helsinki  \\\n",
       "23460            0               0            0             0              0   \n",
       "24078            0               0            0             0              1   \n",
       "\n",
       "       City_Krakow  City_Lisbon  City_Ljubljana  City_London  City_Luxembourg  \\\n",
       "23460            0            0               0            0                0   \n",
       "24078            0            0               0            0                0   \n",
       "\n",
       "       City_Lyon  City_Madrid  City_Milan  City_Munich  City_Oporto  \\\n",
       "23460          0            0           0            0            0   \n",
       "24078          0            0           0            0            0   \n",
       "\n",
       "       City_Oslo  City_Paris  City_Prague  City_Rome  City_Stockholm  \\\n",
       "23460          0           0            0          0               0   \n",
       "24078          0           0            0          0               0   \n",
       "\n",
       "       City_Vienna  City_Warsaw  City_Zurich  Price Range_$  \\\n",
       "23460            0            0            0              0   \n",
       "24078            0            0            0              0   \n",
       "\n",
       "       Price Range_$$ - $$$  Price Range_$$$$  Price Range_$*  European  \\\n",
       "23460                     1                 0               0         0   \n",
       "24078                     1                 0               0         1   \n",
       "\n",
       "       French  International  Asian  Nepali  Japanese  Sushi  Grill  \\\n",
       "23460       0              0      0       0         0      0      0   \n",
       "24078       0              0      0       0         0      0      0   \n",
       "\n",
       "       Vegetarian Friendly  Vegan Options  Gluten Free Options  usual  German  \\\n",
       "23460                    0              0                    0      0       0   \n",
       "24078                    1              1                    0      0       0   \n",
       "\n",
       "       Central European  Bar  Portuguese  Wine Bar  Italian  Pizza  Fast Food  \\\n",
       "23460                 0    0           0         0        1      1          0   \n",
       "24078                 0    0           0         0        0      0          0   \n",
       "\n",
       "       Mediterranean  Spanish  Healthy  Cafe  Thai  Vietnamese  Pub  Chinese  \\\n",
       "23460              0        0        0     1     0           0    0        0   \n",
       "24078              0        0        0     0     0           0    0        0   \n",
       "\n",
       "       British  Polish  Fusion  American  Diner  Dutch  Mexican  Venezuelan  \\\n",
       "23460        0       0       0         0      0      0        0           0   \n",
       "24078        0       0       0         0      0      0        0           0   \n",
       "\n",
       "       South American  Soups  Belgian  Steakhouse  Latin  Barbecue  \\\n",
       "23460               0      0        0           1      0         0   \n",
       "24078               0      0        0           0      0         0   \n",
       "\n",
       "       Argentinean  Irish  Seafood  Hungarian  Swiss  Contemporary  Greek  \\\n",
       "23460            0      0        0          0      0             0      0   \n",
       "24078            0      0        0          0      0             0      0   \n",
       "\n",
       "       Central American  Indian  Middle Eastern  Turkish  Eastern European  \\\n",
       "23460                 0       0               0        0                 0   \n",
       "24078                 0       0               0        0                 0   \n",
       "\n",
       "       Pakistani  Peruvian  Delicatessen  Swedish  Scandinavian  Tibetan  \\\n",
       "23460          0         0             0        0             0        0   \n",
       "24078          0         0             0        0             0        0   \n",
       "\n",
       "       Korean  Southwestern  Czech  Slovenian  Balti  Street Food  \\\n",
       "23460       0             0      0          0      0            1   \n",
       "24078       0             0      0          0      0            0   \n",
       "\n",
       "       Quick Bites  Basque  Brew Pub  Caribbean  Austrian  Moroccan  Halal  \\\n",
       "23460            0       0         0          0         0         0      0   \n",
       "24078            0       0         0          0         0         0      0   \n",
       "\n",
       "       Lebanese  Russian  African  Ethiopian  Egyptian  Danish  Brazilian  \\\n",
       "23460         0        0        0          0         0       0          0   \n",
       "24078         0        0        0          0         0       0          0   \n",
       "\n",
       "       Ecuadorean  Israeli  Kosher  Gastropub  Australian  Singaporean  \\\n",
       "23460           0        0       0          0           0            0   \n",
       "24078           0        0       0          0           0            0   \n",
       "\n",
       "       Malaysian  Minority Chinese  Scottish  Arabic  Ukrainian  Chilean  \\\n",
       "23460          0                 0         0       0          0        0   \n",
       "24078          0                 0         0       0          0        0   \n",
       "\n",
       "       Mongolian  Emilian  Cuban  Dessert  Persian  Croatian  Filipino  \\\n",
       "23460          0        0      0        0        0         0         0   \n",
       "24078          0        0      0        0        0         0         0   \n",
       "\n",
       "       Indonesian  Colombian  Jamaican  Norwegian  Hawaiian  Bakeries  Deli  \\\n",
       "23460           0          0         0          0         0         0     0   \n",
       "24078           0          0         0          0         0         0     0   \n",
       "\n",
       "       Armenian  Taiwanese  Bangladeshi  Cajun & Creole  Sri Lankan  \\\n",
       "23460         0          0            0               0           0   \n",
       "24078         0          0            0               0           0   \n",
       "\n",
       "       Cambodian  Albanian  New Zealand  Central Asian  Specialty Food Market  \\\n",
       "23460          0         0            0              0                      0   \n",
       "24078          0         0            0              0                      0   \n",
       "\n",
       "       Tunisian  Romanian  Georgian  Romagna  Polynesian  Catalan  \\\n",
       "23460         0         0         0        0           0        0   \n",
       "24078         0         0         0        0           0        0   \n",
       "\n",
       "       Azerbaijani  Caucasian  Afghani  Uzbek  Canadian  Romana  \\\n",
       "23460            0          0        0      0         0       0   \n",
       "24078            0          0        0      0         0       0   \n",
       "\n",
       "       Beer restaurants  Salvadoran  Yunnan  Native American  Dining bars  \\\n",
       "23460                 0           0       0                0            0   \n",
       "24078                 0           0       0                0            0   \n",
       "\n",
       "       Xinjiang  Burmese  Lombard  Northern-Italian  Fujian  Neapolitan  \\\n",
       "23460         0        0        0                 0       0           0   \n",
       "24078         0        0        0                 0       0           0   \n",
       "\n",
       "       Campania  Welsh  Lazio  Cantonese  Beijing Specialties  Latvian  \\\n",
       "23460         0      0      0          0                    0        0   \n",
       "24078         0      0      0          0                    0        0   \n",
       "\n",
       "       Japanese Fusion  Sardinian  Southern-Italian  \n",
       "23460                0          0                 0  \n",
       "24078                0          0                 0  "
      ]
     },
     "metadata": {},
     "output_type": "display_data"
    }
   ],
   "source": [
    "with pd.option_context('display.max_columns', None):\n",
    "    display(df.sample(2))"
   ]
  },
  {
   "cell_type": "code",
   "execution_count": 25,
   "metadata": {
    "execution": {
     "iopub.execute_input": "2022-08-01T10:22:11.267000Z",
     "iopub.status.busy": "2022-08-01T10:22:11.266653Z",
     "iopub.status.idle": "2022-08-01T10:22:11.276637Z",
     "shell.execute_reply": "2022-08-01T10:22:11.274919Z",
     "shell.execute_reply.started": "2022-08-01T10:22:11.266946Z"
    }
   },
   "outputs": [],
   "source": [
    "df.last_time_review = 0"
   ]
  },
  {
   "cell_type": "code",
   "execution_count": 26,
   "metadata": {
    "execution": {
     "iopub.execute_input": "2022-08-01T10:22:11.281935Z",
     "iopub.status.busy": "2022-08-01T10:22:11.281475Z",
     "iopub.status.idle": "2022-08-01T10:22:11.703382Z",
     "shell.execute_reply": "2022-08-01T10:22:11.701971Z",
     "shell.execute_reply.started": "2022-08-01T10:22:11.281855Z"
    }
   },
   "outputs": [],
   "source": [
    "# оставляем в табличке для теста только рабочие столбцы \n",
    "df_for_test = df.drop(['Restaurant_id', 'Cuisine Style', 'ID_TA', 'text_reviews', 'Rating'], axis = 1)\n",
    "# df_for_test = df.drop(['Restaurant_id', 'Cuisine Style', 'ID_TA', 'text_reviews', 'Rating', 'last_time_review'], axis = 1)\n",
    "scaler = MinMaxScaler()\n",
    "df_for_test[num_features] = scaler.fit_transform(df_for_test[num_features])\n",
    "\n",
    "\n",
    "# Готовим данные\n",
    "X = df_for_test[df_for_test['Main']]\n",
    "y = df[df['Main']]['Rating']"
   ]
  },
  {
   "cell_type": "markdown",
   "metadata": {},
   "source": [
    "<!-- # DATA -->"
   ]
  },
  {
   "cell_type": "code",
   "execution_count": 27,
   "metadata": {
    "_cell_guid": "79c7e3d0-c299-4dcb-8224-4455121ee9b0",
    "_uuid": "d629ff2d2480ee46fbb7e2d37f6b5fab8052498a",
    "execution": {
     "iopub.execute_input": "2022-08-01T10:22:11.705847Z",
     "iopub.status.busy": "2022-08-01T10:22:11.705394Z",
     "iopub.status.idle": "2022-08-01T10:22:11.711028Z",
     "shell.execute_reply": "2022-08-01T10:22:11.709735Z",
     "shell.execute_reply.started": "2022-08-01T10:22:11.705751Z"
    }
   },
   "outputs": [],
   "source": [
    "# DATA_DIR = '/kaggle/input/sf-dst-restaurant-rating/'\n",
    "# df_train = pd.read_csv(DATA_DIR+'/main_task.csv')\n",
    "# df_test = pd.read_csv(DATA_DIR+'kaggle_task.csv')\n",
    "# sample_submission = pd.read_csv(DATA_DIR+'/sample_submission.csv')"
   ]
  },
  {
   "cell_type": "code",
   "execution_count": 28,
   "metadata": {
    "execution": {
     "iopub.execute_input": "2022-08-01T10:22:11.713421Z",
     "iopub.status.busy": "2022-08-01T10:22:11.713001Z",
     "iopub.status.idle": "2022-08-01T10:22:11.725536Z",
     "shell.execute_reply": "2022-08-01T10:22:11.724285Z",
     "shell.execute_reply.started": "2022-08-01T10:22:11.713347Z"
    }
   },
   "outputs": [],
   "source": [
    "# df_train.info()"
   ]
  },
  {
   "cell_type": "code",
   "execution_count": 29,
   "metadata": {
    "execution": {
     "iopub.execute_input": "2022-08-01T10:22:11.728003Z",
     "iopub.status.busy": "2022-08-01T10:22:11.727324Z",
     "iopub.status.idle": "2022-08-01T10:22:11.738658Z",
     "shell.execute_reply": "2022-08-01T10:22:11.737514Z",
     "shell.execute_reply.started": "2022-08-01T10:22:11.727944Z"
    }
   },
   "outputs": [],
   "source": [
    "# df_train.head(5)"
   ]
  },
  {
   "cell_type": "code",
   "execution_count": 30,
   "metadata": {
    "execution": {
     "iopub.execute_input": "2022-08-01T10:22:11.740956Z",
     "iopub.status.busy": "2022-08-01T10:22:11.740423Z",
     "iopub.status.idle": "2022-08-01T10:22:11.752089Z",
     "shell.execute_reply": "2022-08-01T10:22:11.750777Z",
     "shell.execute_reply.started": "2022-08-01T10:22:11.740857Z"
    }
   },
   "outputs": [],
   "source": [
    "# df_test.info()"
   ]
  },
  {
   "cell_type": "code",
   "execution_count": 31,
   "metadata": {
    "execution": {
     "iopub.execute_input": "2022-08-01T10:22:11.754684Z",
     "iopub.status.busy": "2022-08-01T10:22:11.754021Z",
     "iopub.status.idle": "2022-08-01T10:22:11.764900Z",
     "shell.execute_reply": "2022-08-01T10:22:11.763909Z",
     "shell.execute_reply.started": "2022-08-01T10:22:11.754380Z"
    }
   },
   "outputs": [],
   "source": [
    "# df_test.head(5)"
   ]
  },
  {
   "cell_type": "code",
   "execution_count": 32,
   "metadata": {
    "execution": {
     "iopub.execute_input": "2022-08-01T10:22:11.767105Z",
     "iopub.status.busy": "2022-08-01T10:22:11.766739Z",
     "iopub.status.idle": "2022-08-01T10:22:11.778245Z",
     "shell.execute_reply": "2022-08-01T10:22:11.777206Z",
     "shell.execute_reply.started": "2022-08-01T10:22:11.767046Z"
    }
   },
   "outputs": [],
   "source": [
    "# sample_submission.head(5)"
   ]
  },
  {
   "cell_type": "code",
   "execution_count": 33,
   "metadata": {
    "execution": {
     "iopub.execute_input": "2022-08-01T10:22:11.782322Z",
     "iopub.status.busy": "2022-08-01T10:22:11.781929Z",
     "iopub.status.idle": "2022-08-01T10:22:11.791953Z",
     "shell.execute_reply": "2022-08-01T10:22:11.790829Z",
     "shell.execute_reply.started": "2022-08-01T10:22:11.782270Z"
    }
   },
   "outputs": [],
   "source": [
    "# sample_submission.info()"
   ]
  },
  {
   "cell_type": "code",
   "execution_count": 34,
   "metadata": {
    "execution": {
     "iopub.execute_input": "2022-08-01T10:22:11.794246Z",
     "iopub.status.busy": "2022-08-01T10:22:11.793841Z",
     "iopub.status.idle": "2022-08-01T10:22:11.805165Z",
     "shell.execute_reply": "2022-08-01T10:22:11.804313Z",
     "shell.execute_reply.started": "2022-08-01T10:22:11.794171Z"
    }
   },
   "outputs": [],
   "source": [
    "# # ВАЖНО! дря корректной обработки признаков объединяем трейн и тест в один датасет\n",
    "# df_train['sample'] = 1 # помечаем где у нас трейн\n",
    "# df_test['sample'] = 0 # помечаем где у нас тест\n",
    "# df_test['Rating'] = 0 # в тесте у нас нет значения Rating, мы его должны предсказать, по этому пока просто заполняем нулями\n",
    "\n",
    "# data = df_test.append(df_train, sort=False).reset_index(drop=True) # объединяем"
   ]
  },
  {
   "cell_type": "code",
   "execution_count": 35,
   "metadata": {
    "execution": {
     "iopub.execute_input": "2022-08-01T10:22:11.806537Z",
     "iopub.status.busy": "2022-08-01T10:22:11.806282Z",
     "iopub.status.idle": "2022-08-01T10:22:11.824469Z",
     "shell.execute_reply": "2022-08-01T10:22:11.823617Z",
     "shell.execute_reply.started": "2022-08-01T10:22:11.806497Z"
    }
   },
   "outputs": [],
   "source": [
    "# data.info()"
   ]
  },
  {
   "cell_type": "markdown",
   "metadata": {},
   "source": [
    "Подробнее по признакам:\n",
    "* City: Город \n",
    "* Cuisine Style: Кухня\n",
    "* Ranking: Ранг ресторана относительно других ресторанов в этом городе\n",
    "* Price Range: Цены в ресторане в 3 категориях\n",
    "* Number of Reviews: Количество отзывов\n",
    "* Reviews: 2 последних отзыва и даты этих отзывов\n",
    "* URL_TA: страница ресторана на 'www.tripadvisor.com' \n",
    "* ID_TA: ID ресторана в TripAdvisor\n",
    "* Rating: Рейтинг ресторана"
   ]
  },
  {
   "cell_type": "code",
   "execution_count": 36,
   "metadata": {
    "execution": {
     "iopub.execute_input": "2022-08-01T10:22:11.826387Z",
     "iopub.status.busy": "2022-08-01T10:22:11.826057Z",
     "iopub.status.idle": "2022-08-01T10:22:11.837682Z",
     "shell.execute_reply": "2022-08-01T10:22:11.836560Z",
     "shell.execute_reply.started": "2022-08-01T10:22:11.826324Z"
    }
   },
   "outputs": [],
   "source": [
    "# data.sample(5)"
   ]
  },
  {
   "cell_type": "code",
   "execution_count": 37,
   "metadata": {
    "execution": {
     "iopub.execute_input": "2022-08-01T10:22:11.839403Z",
     "iopub.status.busy": "2022-08-01T10:22:11.839122Z",
     "iopub.status.idle": "2022-08-01T10:22:11.851129Z",
     "shell.execute_reply": "2022-08-01T10:22:11.850362Z",
     "shell.execute_reply.started": "2022-08-01T10:22:11.839361Z"
    }
   },
   "outputs": [],
   "source": [
    "# data.Reviews[1]"
   ]
  },
  {
   "cell_type": "markdown",
   "metadata": {},
   "source": [
    "Как видим, большинство признаков у нас требует очистки и предварительной обработки."
   ]
  },
  {
   "cell_type": "markdown",
   "metadata": {},
   "source": [
    "# Cleaning and Prepping Data\n",
    "Обычно данные содержат в себе кучу мусора, который необходимо почистить, для того чтобы привести их в приемлемый формат. Чистка данных — это необходимый этап решения почти любой реальной задачи.   \n",
    "![](https://analyticsindiamag.com/wp-content/uploads/2018/01/data-cleaning.png)"
   ]
  },
  {
   "cell_type": "markdown",
   "metadata": {},
   "source": [
    "## 1. Обработка NAN \n",
    "У наличия пропусков могут быть разные причины, но пропуски нужно либо заполнить, либо исключить из набора полностью. Но с пропусками нужно быть внимательным, **даже отсутствие информации может быть важным признаком!**   \n",
    "По этому перед обработкой NAN лучше вынести информацию о наличии пропуска как отдельный признак "
   ]
  },
  {
   "cell_type": "code",
   "execution_count": 38,
   "metadata": {
    "execution": {
     "iopub.execute_input": "2022-08-01T10:22:11.853208Z",
     "iopub.status.busy": "2022-08-01T10:22:11.852691Z",
     "iopub.status.idle": "2022-08-01T10:22:11.862712Z",
     "shell.execute_reply": "2022-08-01T10:22:11.861592Z",
     "shell.execute_reply.started": "2022-08-01T10:22:11.853141Z"
    }
   },
   "outputs": [],
   "source": [
    "# # Для примера я возьму столбец Number of Reviews\n",
    "# data['Number_of_Reviews_isNAN'] = pd.isna(data['Number of Reviews']).astype('uint8')"
   ]
  },
  {
   "cell_type": "code",
   "execution_count": 39,
   "metadata": {
    "execution": {
     "iopub.execute_input": "2022-08-01T10:22:11.864727Z",
     "iopub.status.busy": "2022-08-01T10:22:11.864138Z",
     "iopub.status.idle": "2022-08-01T10:22:11.876441Z",
     "shell.execute_reply": "2022-08-01T10:22:11.875282Z",
     "shell.execute_reply.started": "2022-08-01T10:22:11.864443Z"
    }
   },
   "outputs": [],
   "source": [
    "# data['Number_of_Reviews_isNAN']"
   ]
  },
  {
   "cell_type": "code",
   "execution_count": 40,
   "metadata": {
    "execution": {
     "iopub.execute_input": "2022-08-01T10:22:11.878790Z",
     "iopub.status.busy": "2022-08-01T10:22:11.878272Z",
     "iopub.status.idle": "2022-08-01T10:22:11.891239Z",
     "shell.execute_reply": "2022-08-01T10:22:11.890068Z",
     "shell.execute_reply.started": "2022-08-01T10:22:11.878724Z"
    }
   },
   "outputs": [],
   "source": [
    "# # Далее заполняем пропуски 0, вы можете попробовать заполнением средним или средним по городу и тд...\n",
    "# data['Number of Reviews'].fillna(0, inplace=True)"
   ]
  },
  {
   "cell_type": "markdown",
   "metadata": {},
   "source": [
    "### 2. Обработка признаков\n",
    "Для начала посмотрим какие признаки у нас могут быть категориальными."
   ]
  },
  {
   "cell_type": "code",
   "execution_count": 41,
   "metadata": {
    "execution": {
     "iopub.execute_input": "2022-08-01T10:22:11.893275Z",
     "iopub.status.busy": "2022-08-01T10:22:11.892957Z",
     "iopub.status.idle": "2022-08-01T10:22:11.902966Z",
     "shell.execute_reply": "2022-08-01T10:22:11.901873Z",
     "shell.execute_reply.started": "2022-08-01T10:22:11.893225Z"
    }
   },
   "outputs": [],
   "source": [
    "# data.nunique(dropna=False)"
   ]
  },
  {
   "cell_type": "markdown",
   "metadata": {},
   "source": [
    "Какие признаки можно считать категориальными?"
   ]
  },
  {
   "cell_type": "markdown",
   "metadata": {},
   "source": [
    "Для кодирования категориальных признаков есть множество подходов:\n",
    "* Label Encoding\n",
    "* One-Hot Encoding\n",
    "* Target Encoding\n",
    "* Hashing\n",
    "\n",
    "Выбор кодирования зависит от признака и выбраной модели.\n",
    "Не будем сейчас сильно погружаться в эту тематику, давайте посмотрим лучше пример с One-Hot Encoding:\n",
    "![](https://i.imgur.com/mtimFxh.png)"
   ]
  },
  {
   "cell_type": "code",
   "execution_count": 42,
   "metadata": {
    "execution": {
     "iopub.execute_input": "2022-08-01T10:22:11.905109Z",
     "iopub.status.busy": "2022-08-01T10:22:11.904800Z",
     "iopub.status.idle": "2022-08-01T10:22:11.914818Z",
     "shell.execute_reply": "2022-08-01T10:22:11.913936Z",
     "shell.execute_reply.started": "2022-08-01T10:22:11.905056Z"
    }
   },
   "outputs": [],
   "source": [
    "# # для One-Hot Encoding в pandas есть готовая функция - get_dummies. Особенно радует параметр dummy_na\n",
    "# data = pd.get_dummies(data, columns=[ 'City',], dummy_na=True)"
   ]
  },
  {
   "cell_type": "code",
   "execution_count": 43,
   "metadata": {
    "execution": {
     "iopub.execute_input": "2022-08-01T10:22:11.916728Z",
     "iopub.status.busy": "2022-08-01T10:22:11.916366Z",
     "iopub.status.idle": "2022-08-01T10:22:11.929229Z",
     "shell.execute_reply": "2022-08-01T10:22:11.928331Z",
     "shell.execute_reply.started": "2022-08-01T10:22:11.916665Z"
    }
   },
   "outputs": [],
   "source": [
    "# data.head(5)"
   ]
  },
  {
   "cell_type": "code",
   "execution_count": 44,
   "metadata": {
    "execution": {
     "iopub.execute_input": "2022-08-01T10:22:11.930638Z",
     "iopub.status.busy": "2022-08-01T10:22:11.930357Z",
     "iopub.status.idle": "2022-08-01T10:22:11.941116Z",
     "shell.execute_reply": "2022-08-01T10:22:11.940127Z",
     "shell.execute_reply.started": "2022-08-01T10:22:11.930574Z"
    }
   },
   "outputs": [],
   "source": [
    "# data.sample(5)"
   ]
  },
  {
   "cell_type": "markdown",
   "metadata": {},
   "source": [
    "#### Возьмем следующий признак \"Price Range\"."
   ]
  },
  {
   "cell_type": "code",
   "execution_count": 45,
   "metadata": {
    "execution": {
     "iopub.execute_input": "2022-08-01T10:22:11.942735Z",
     "iopub.status.busy": "2022-08-01T10:22:11.942434Z",
     "iopub.status.idle": "2022-08-01T10:22:11.953486Z",
     "shell.execute_reply": "2022-08-01T10:22:11.952361Z",
     "shell.execute_reply.started": "2022-08-01T10:22:11.942692Z"
    }
   },
   "outputs": [],
   "source": [
    "# data['Price Range'].value_counts()"
   ]
  },
  {
   "cell_type": "markdown",
   "metadata": {},
   "source": [
    "По описанию 'Price Range' это - Цены в ресторане.  \n",
    "Их можно поставить по возрастанию (значит это не категориальный признак). А это значит, что их можно заменить последовательными числами, например 1,2,3  \n",
    "*Попробуйте сделать обработку этого признака уже самостоятельно!*"
   ]
  },
  {
   "cell_type": "code",
   "execution_count": 46,
   "metadata": {
    "execution": {
     "iopub.execute_input": "2022-08-01T10:22:11.955366Z",
     "iopub.status.busy": "2022-08-01T10:22:11.954916Z",
     "iopub.status.idle": "2022-08-01T10:22:11.967912Z",
     "shell.execute_reply": "2022-08-01T10:22:11.966510Z",
     "shell.execute_reply.started": "2022-08-01T10:22:11.955318Z"
    }
   },
   "outputs": [],
   "source": [
    "# Ваша обработка 'Price Range'"
   ]
  },
  {
   "cell_type": "markdown",
   "metadata": {},
   "source": [
    "> Для некоторых алгоритмов МЛ даже для не категориальных признаков можно применить One-Hot Encoding, и это может улучшить качество модели. Пробуйте разные подходы к кодированию признака - никто не знает заранее, что может взлететь."
   ]
  },
  {
   "cell_type": "markdown",
   "metadata": {},
   "source": [
    "### Обработать другие признаки вы должны самостоятельно!\n",
    "Для обработки других признаков вам возможно придется даже написать свою функцию, а может даже и не одну, но в этом и есть ваша практика в этом модуле!     \n",
    "Следуя подсказкам в модуле вы сможете более подробно узнать, как сделать эти приобразования."
   ]
  },
  {
   "cell_type": "code",
   "execution_count": 47,
   "metadata": {
    "execution": {
     "iopub.execute_input": "2022-08-01T10:22:11.969944Z",
     "iopub.status.busy": "2022-08-01T10:22:11.969403Z",
     "iopub.status.idle": "2022-08-01T10:22:11.981680Z",
     "shell.execute_reply": "2022-08-01T10:22:11.980512Z",
     "shell.execute_reply.started": "2022-08-01T10:22:11.969870Z"
    }
   },
   "outputs": [],
   "source": [
    "# тут ваш код на обработку других признаков\n",
    "# ....."
   ]
  },
  {
   "cell_type": "markdown",
   "metadata": {},
   "source": [
    "![](https://cs10.pikabu.ru/post_img/2018/09/06/11/1536261023140110012.jpg)"
   ]
  },
  {
   "cell_type": "markdown",
   "metadata": {},
   "source": [
    "# EDA \n",
    "[Exploratory Data Analysis](https://ru.wikipedia.org/wiki/Разведочный_анализ_данных) - Анализ данных\n",
    "На этом этапе мы строим графики, ищем закономерности, аномалии, выбросы или связи между признаками.\n",
    "В общем цель этого этапа понять, что эти данные могут нам дать и как признаки могут быть взаимосвязаны между собой.\n",
    "Понимание изначальных признаков позволит сгенерировать новые, более сильные и, тем самым, сделать нашу модель лучше.\n",
    "![](https://miro.medium.com/max/2598/1*RXdMb7Uk6mGqWqPguHULaQ.png)"
   ]
  },
  {
   "cell_type": "markdown",
   "metadata": {},
   "source": [
    "### Посмотрим распределение признака"
   ]
  },
  {
   "cell_type": "code",
   "execution_count": 48,
   "metadata": {
    "execution": {
     "iopub.execute_input": "2022-08-01T10:22:11.984855Z",
     "iopub.status.busy": "2022-08-01T10:22:11.983437Z",
     "iopub.status.idle": "2022-08-01T10:22:11.996364Z",
     "shell.execute_reply": "2022-08-01T10:22:11.995048Z",
     "shell.execute_reply.started": "2022-08-01T10:22:11.984791Z"
    }
   },
   "outputs": [],
   "source": [
    "# plt.rcParams['figure.figsize'] = (10,7)\n",
    "# df_train['Ranking'].hist(bins=100)"
   ]
  },
  {
   "cell_type": "markdown",
   "metadata": {},
   "source": [
    "У нас много ресторанов, которые не дотягивают и до 2500 места в своем городе, а что там по городам?"
   ]
  },
  {
   "cell_type": "code",
   "execution_count": 49,
   "metadata": {
    "execution": {
     "iopub.execute_input": "2022-08-01T10:22:11.998234Z",
     "iopub.status.busy": "2022-08-01T10:22:11.997804Z",
     "iopub.status.idle": "2022-08-01T10:22:12.009447Z",
     "shell.execute_reply": "2022-08-01T10:22:12.008442Z",
     "shell.execute_reply.started": "2022-08-01T10:22:11.998190Z"
    }
   },
   "outputs": [],
   "source": [
    "# df_train['City'].value_counts(ascending=True).plot(kind='barh')"
   ]
  },
  {
   "cell_type": "markdown",
   "metadata": {},
   "source": [
    "А кто-то говорил, что французы любят поесть=) Посмотрим, как изменится распределение в большом городе:"
   ]
  },
  {
   "cell_type": "code",
   "execution_count": 50,
   "metadata": {
    "execution": {
     "iopub.execute_input": "2022-08-01T10:22:12.011550Z",
     "iopub.status.busy": "2022-08-01T10:22:12.011088Z",
     "iopub.status.idle": "2022-08-01T10:22:12.023186Z",
     "shell.execute_reply": "2022-08-01T10:22:12.022298Z",
     "shell.execute_reply.started": "2022-08-01T10:22:12.011352Z"
    }
   },
   "outputs": [],
   "source": [
    "# df_train['Ranking'][df_train['City'] =='London'].hist(bins=100)"
   ]
  },
  {
   "cell_type": "code",
   "execution_count": 51,
   "metadata": {
    "execution": {
     "iopub.execute_input": "2022-08-01T10:22:12.025052Z",
     "iopub.status.busy": "2022-08-01T10:22:12.024547Z",
     "iopub.status.idle": "2022-08-01T10:22:12.036626Z",
     "shell.execute_reply": "2022-08-01T10:22:12.035813Z",
     "shell.execute_reply.started": "2022-08-01T10:22:12.024993Z"
    }
   },
   "outputs": [],
   "source": [
    "# # посмотрим на топ 10 городов\n",
    "# for x in (df_train['City'].value_counts())[0:10].index:\n",
    "#     df_train['Ranking'][df_train['City'] == x].hist(bins=100)\n",
    "# plt.show()"
   ]
  },
  {
   "cell_type": "markdown",
   "metadata": {},
   "source": [
    "Получается, что Ranking имеет нормальное распределение, просто в больших городах больше ресторанов, из-за мы этого имеем смещение.\n",
    "\n",
    ">Подумайте как из этого можно сделать признак для вашей модели. Я покажу вам пример, как визуализация помогает находить взаимосвязи. А далее действуйте без подсказок =) \n"
   ]
  },
  {
   "cell_type": "markdown",
   "metadata": {},
   "source": [
    "### Посмотрим распределение целевой переменной"
   ]
  },
  {
   "cell_type": "code",
   "execution_count": 52,
   "metadata": {
    "execution": {
     "iopub.execute_input": "2022-08-01T10:22:12.038636Z",
     "iopub.status.busy": "2022-08-01T10:22:12.038113Z",
     "iopub.status.idle": "2022-08-01T10:22:12.049722Z",
     "shell.execute_reply": "2022-08-01T10:22:12.048814Z",
     "shell.execute_reply.started": "2022-08-01T10:22:12.038544Z"
    }
   },
   "outputs": [],
   "source": [
    "# df_train['Rating'].value_counts(ascending=True).plot(kind='barh')"
   ]
  },
  {
   "cell_type": "markdown",
   "metadata": {},
   "source": [
    "### Посмотрим распределение целевой переменной относительно признака"
   ]
  },
  {
   "cell_type": "code",
   "execution_count": 53,
   "metadata": {
    "execution": {
     "iopub.execute_input": "2022-08-01T10:22:12.051753Z",
     "iopub.status.busy": "2022-08-01T10:22:12.051185Z",
     "iopub.status.idle": "2022-08-01T10:22:12.065004Z",
     "shell.execute_reply": "2022-08-01T10:22:12.064139Z",
     "shell.execute_reply.started": "2022-08-01T10:22:12.051700Z"
    }
   },
   "outputs": [],
   "source": [
    "# df_train['Ranking'][df_train['Rating'] == 5].hist(bins=100)"
   ]
  },
  {
   "cell_type": "code",
   "execution_count": 54,
   "metadata": {
    "execution": {
     "iopub.execute_input": "2022-08-01T10:22:12.066842Z",
     "iopub.status.busy": "2022-08-01T10:22:12.066349Z",
     "iopub.status.idle": "2022-08-01T10:22:12.078418Z",
     "shell.execute_reply": "2022-08-01T10:22:12.077487Z",
     "shell.execute_reply.started": "2022-08-01T10:22:12.066792Z"
    }
   },
   "outputs": [],
   "source": [
    "# df_train['Ranking'][df_train['Rating'] < 4].hist(bins=100)"
   ]
  },
  {
   "cell_type": "markdown",
   "metadata": {},
   "source": [
    "### И один из моих любимых - [корреляция признаков](https://ru.wikipedia.org/wiki/Корреляция)\n",
    "На этом графике уже сейчас вы сможете заметить, как признаки связаны между собой и с целевой переменной."
   ]
  },
  {
   "cell_type": "code",
   "execution_count": 55,
   "metadata": {
    "execution": {
     "iopub.execute_input": "2022-08-01T10:22:12.080215Z",
     "iopub.status.busy": "2022-08-01T10:22:12.079653Z",
     "iopub.status.idle": "2022-08-01T10:22:12.090430Z",
     "shell.execute_reply": "2022-08-01T10:22:12.089466Z",
     "shell.execute_reply.started": "2022-08-01T10:22:12.080149Z"
    }
   },
   "outputs": [],
   "source": [
    "# plt.rcParams['figure.figsize'] = (15,10)\n",
    "# sns.heatmap(data.drop(['sample'], axis=1).corr(),)"
   ]
  },
  {
   "cell_type": "markdown",
   "metadata": {},
   "source": [
    "Вообще благодаря визуализации в этом датасете можно узнать много интересных фактов, например:\n",
    "* где больше Пицерий в Мадриде или Лондоне?\n",
    "* в каком городе кухня ресторанов более разнообразна?\n",
    "\n",
    "придумайте свои вопрос и найдите на него ответ в данных)"
   ]
  },
  {
   "cell_type": "markdown",
   "metadata": {},
   "source": [
    "# Data Preprocessing\n",
    "Теперь, для удобства и воспроизводимости кода, завернем всю обработку в одну большую функцию."
   ]
  },
  {
   "cell_type": "code",
   "execution_count": 56,
   "metadata": {
    "execution": {
     "iopub.execute_input": "2022-08-01T10:22:12.092851Z",
     "iopub.status.busy": "2022-08-01T10:22:12.092490Z",
     "iopub.status.idle": "2022-08-01T10:22:12.102964Z",
     "shell.execute_reply": "2022-08-01T10:22:12.101941Z",
     "shell.execute_reply.started": "2022-08-01T10:22:12.092790Z"
    }
   },
   "outputs": [],
   "source": [
    "# # на всякий случай, заново подгружаем данные\n",
    "# df_train = pd.read_csv(DATA_DIR+'/main_task.csv')\n",
    "# df_test = pd.read_csv(DATA_DIR+'/kaggle_task.csv')\n",
    "# df_train['sample'] = 1 # помечаем где у нас трейн\n",
    "# df_test['sample'] = 0 # помечаем где у нас тест\n",
    "# df_test['Rating'] = 0 # в тесте у нас нет значения Rating, мы его должны предсказать, по этому пока просто заполняем нулями\n",
    "\n",
    "# data = df_test.append(df_train, sort=False).reset_index(drop=True) # объединяем\n",
    "# data.info()"
   ]
  },
  {
   "cell_type": "code",
   "execution_count": 57,
   "metadata": {
    "execution": {
     "iopub.execute_input": "2022-08-01T10:22:12.105479Z",
     "iopub.status.busy": "2022-08-01T10:22:12.105102Z",
     "iopub.status.idle": "2022-08-01T10:22:12.116712Z",
     "shell.execute_reply": "2022-08-01T10:22:12.115727Z",
     "shell.execute_reply.started": "2022-08-01T10:22:12.105416Z"
    }
   },
   "outputs": [],
   "source": [
    "def preproc_data(df_input):\n",
    "    '''includes several functions to pre-process the predictor data.'''\n",
    "    \n",
    "    df_output = df_input.copy()\n",
    "    \n",
    "    # ################### 1. Предобработка ############################################################## \n",
    "    # убираем не нужные для модели признаки\n",
    "    df_output.drop(['Restaurant_id','ID_TA',], axis = 1, inplace=True)\n",
    "    \n",
    "    \n",
    "    # ################### 2. NAN ############################################################## \n",
    "    # Далее заполняем пропуски, вы можете попробовать заполнением средним или средним по городу и тд...\n",
    "    df_output['Number of Reviews'].fillna(0, inplace=True)\n",
    "    # тут ваш код по обработке NAN\n",
    "    # ....\n",
    "    \n",
    "    \n",
    "    # ################### 3. Encoding ############################################################## \n",
    "    # для One-Hot Encoding в pandas есть готовая функция - get_dummies. Особенно радует параметр dummy_na\n",
    "    df_output = pd.get_dummies(df_output, columns=[ 'City',], dummy_na=True)\n",
    "    # тут ваш код не Encoding фитчей\n",
    "    # ....\n",
    "    \n",
    "    \n",
    "    # ################### 4. Feature Engineering ####################################################\n",
    "    # тут ваш код не генерацию новых фитчей\n",
    "    # ....\n",
    "    \n",
    "    \n",
    "    # ################### 5. Clean #################################################### \n",
    "    # убираем признаки которые еще не успели обработать, \n",
    "    # модель на признаках с dtypes \"object\" обучаться не будет, просто выберим их и удалим\n",
    "    object_columns = [s for s in df_output.columns if df_output[s].dtypes == 'object']\n",
    "    df_output.drop(object_columns, axis = 1, inplace=True)\n",
    "    \n",
    "    return df_output"
   ]
  },
  {
   "cell_type": "markdown",
   "metadata": {},
   "source": [
    ">По хорошему, можно было бы перевести эту большую функцию в класс и разбить на подфункции (согласно ООП). "
   ]
  },
  {
   "cell_type": "markdown",
   "metadata": {},
   "source": [
    "#### Запускаем и проверяем что получилось"
   ]
  },
  {
   "cell_type": "code",
   "execution_count": 58,
   "metadata": {
    "execution": {
     "iopub.execute_input": "2022-08-01T10:22:12.118646Z",
     "iopub.status.busy": "2022-08-01T10:22:12.118309Z",
     "iopub.status.idle": "2022-08-01T10:22:12.132168Z",
     "shell.execute_reply": "2022-08-01T10:22:12.131186Z",
     "shell.execute_reply.started": "2022-08-01T10:22:12.118574Z"
    }
   },
   "outputs": [],
   "source": [
    "# df_preproc = preproc_data(data)\n",
    "# df_preproc.sample(10)"
   ]
  },
  {
   "cell_type": "code",
   "execution_count": 59,
   "metadata": {
    "execution": {
     "iopub.execute_input": "2022-08-01T10:22:12.134242Z",
     "iopub.status.busy": "2022-08-01T10:22:12.133895Z",
     "iopub.status.idle": "2022-08-01T10:22:12.146911Z",
     "shell.execute_reply": "2022-08-01T10:22:12.145670Z",
     "shell.execute_reply.started": "2022-08-01T10:22:12.134183Z"
    }
   },
   "outputs": [],
   "source": [
    "# df_preproc.info()"
   ]
  },
  {
   "cell_type": "code",
   "execution_count": 60,
   "metadata": {
    "execution": {
     "iopub.execute_input": "2022-08-01T10:22:12.148480Z",
     "iopub.status.busy": "2022-08-01T10:22:12.148067Z",
     "iopub.status.idle": "2022-08-01T10:22:12.158760Z",
     "shell.execute_reply": "2022-08-01T10:22:12.157887Z",
     "shell.execute_reply.started": "2022-08-01T10:22:12.148419Z"
    }
   },
   "outputs": [],
   "source": [
    "# # Теперь выделим тестовую часть\n",
    "# train_data = df_preproc.query('sample == 1').drop(['sample'], axis=1)\n",
    "# test_data = df_preproc.query('sample == 0').drop(['sample'], axis=1)\n",
    "\n",
    "# y = train_data.Rating.values            # наш таргет\n",
    "# X = train_data.drop(['Rating'], axis=1)"
   ]
  },
  {
   "cell_type": "markdown",
   "metadata": {},
   "source": [
    "**Перед тем как отправлять наши данные на обучение, разделим данные на еще один тест и трейн, для валидации. \n",
    "Это поможет нам проверить, как хорошо наша модель работает, до отправки submissiona на kaggle.**"
   ]
  },
  {
   "cell_type": "code",
   "execution_count": 61,
   "metadata": {
    "execution": {
     "iopub.execute_input": "2022-08-01T10:22:12.160729Z",
     "iopub.status.busy": "2022-08-01T10:22:12.160335Z",
     "iopub.status.idle": "2022-08-01T10:22:12.236476Z",
     "shell.execute_reply": "2022-08-01T10:22:12.235542Z",
     "shell.execute_reply.started": "2022-08-01T10:22:12.160658Z"
    }
   },
   "outputs": [],
   "source": [
    "# Воспользуемся специальной функцие train_test_split для разбивки тестовых данных\n",
    "# выделим 20% данных на валидацию (параметр test_size)\n",
    "X_train, X_test, y_train, y_test = train_test_split(X, y, test_size=0.2, random_state=RANDOM_SEED)"
   ]
  },
  {
   "cell_type": "code",
   "execution_count": 62,
   "metadata": {
    "execution": {
     "iopub.execute_input": "2022-08-01T10:22:12.238486Z",
     "iopub.status.busy": "2022-08-01T10:22:12.238125Z",
     "iopub.status.idle": "2022-08-01T10:22:12.242802Z",
     "shell.execute_reply": "2022-08-01T10:22:12.241701Z",
     "shell.execute_reply.started": "2022-08-01T10:22:12.238428Z"
    }
   },
   "outputs": [],
   "source": [
    "# проверяем\n",
    "# test_data.shape, train_data.shape, X.shape, X_train.shape, X_test.shape"
   ]
  },
  {
   "cell_type": "markdown",
   "metadata": {},
   "source": [
    "# Model \n",
    "Сам ML"
   ]
  },
  {
   "cell_type": "code",
   "execution_count": 63,
   "metadata": {
    "execution": {
     "iopub.execute_input": "2022-08-01T10:22:12.244165Z",
     "iopub.status.busy": "2022-08-01T10:22:12.243890Z",
     "iopub.status.idle": "2022-08-01T10:22:12.255650Z",
     "shell.execute_reply": "2022-08-01T10:22:12.254665Z",
     "shell.execute_reply.started": "2022-08-01T10:22:12.244114Z"
    }
   },
   "outputs": [],
   "source": [
    "# Импортируем необходимые библиотеки:\n",
    "# from sklearn.ensemble import RandomForestRegressor # инструмент для создания и обучения модели\n",
    "# from sklearn import metrics # инструменты для оценки точности модели"
   ]
  },
  {
   "cell_type": "code",
   "execution_count": 64,
   "metadata": {
    "execution": {
     "iopub.execute_input": "2022-08-01T10:22:12.257593Z",
     "iopub.status.busy": "2022-08-01T10:22:12.257286Z",
     "iopub.status.idle": "2022-08-01T10:22:12.268453Z",
     "shell.execute_reply": "2022-08-01T10:22:12.267472Z",
     "shell.execute_reply.started": "2022-08-01T10:22:12.257545Z"
    }
   },
   "outputs": [],
   "source": [
    "# Создаём модель (НАСТРОЙКИ НЕ ТРОГАЕМ)\n",
    "model = RandomForestRegressor(n_estimators=100, verbose=1, n_jobs=-1, random_state=RANDOM_SEED)"
   ]
  },
  {
   "cell_type": "code",
   "execution_count": 65,
   "metadata": {
    "execution": {
     "iopub.execute_input": "2022-08-01T10:22:12.270432Z",
     "iopub.status.busy": "2022-08-01T10:22:12.269958Z",
     "iopub.status.idle": "2022-08-01T10:22:44.527111Z",
     "shell.execute_reply": "2022-08-01T10:22:44.525988Z",
     "shell.execute_reply.started": "2022-08-01T10:22:12.270369Z"
    }
   },
   "outputs": [
    {
     "name": "stderr",
     "output_type": "stream",
     "text": [
      "[Parallel(n_jobs=-1)]: Using backend ThreadingBackend with 4 concurrent workers.\n",
      "[Parallel(n_jobs=-1)]: Done  42 tasks      | elapsed:   12.2s\n",
      "[Parallel(n_jobs=-1)]: Done 100 out of 100 | elapsed:   27.4s finished\n",
      "[Parallel(n_jobs=4)]: Using backend ThreadingBackend with 4 concurrent workers.\n",
      "[Parallel(n_jobs=4)]: Done  42 tasks      | elapsed:    0.0s\n",
      "[Parallel(n_jobs=4)]: Done 100 out of 100 | elapsed:    0.1s finished\n"
     ]
    }
   ],
   "source": [
    "# Обучаем модель на тестовом наборе данных\n",
    "model.fit(X_train, y_train)\n",
    "\n",
    "# Используем обученную модель для предсказания рейтинга ресторанов в тестовой выборке.\n",
    "# Предсказанные значения записываем в переменную y_pred\n",
    "y_pred = model.predict(X_test)"
   ]
  },
  {
   "cell_type": "code",
   "execution_count": 66,
   "metadata": {
    "execution": {
     "iopub.execute_input": "2022-08-01T10:22:44.529202Z",
     "iopub.status.busy": "2022-08-01T10:22:44.528901Z",
     "iopub.status.idle": "2022-08-01T10:22:44.536257Z",
     "shell.execute_reply": "2022-08-01T10:22:44.535004Z",
     "shell.execute_reply.started": "2022-08-01T10:22:44.529154Z"
    }
   },
   "outputs": [
    {
     "name": "stdout",
     "output_type": "stream",
     "text": [
      "MAE: 0.17431124999999997\n"
     ]
    }
   ],
   "source": [
    "# Сравниваем предсказанные значения (y_pred) с реальными (y_test), и смотрим насколько они в среднем отличаются\n",
    "# Метрика называется Mean Absolute Error (MAE) и показывает среднее отклонение предсказанных значений от фактических.\n",
    "print('MAE:', metrics.mean_absolute_error(y_test, y_pred))"
   ]
  },
  {
   "cell_type": "code",
   "execution_count": 67,
   "metadata": {
    "execution": {
     "iopub.execute_input": "2022-08-01T10:22:44.538154Z",
     "iopub.status.busy": "2022-08-01T10:22:44.537836Z",
     "iopub.status.idle": "2022-08-01T10:22:44.857960Z",
     "shell.execute_reply": "2022-08-01T10:22:44.856564Z",
     "shell.execute_reply.started": "2022-08-01T10:22:44.538095Z"
    }
   },
   "outputs": [
    {
     "name": "stdout",
     "output_type": "stream",
     "text": [
      "MAE: 0.1414375\n"
     ]
    },
    {
     "name": "stderr",
     "output_type": "stream",
     "text": [
      "[Parallel(n_jobs=4)]: Using backend ThreadingBackend with 4 concurrent workers.\n",
      "[Parallel(n_jobs=4)]: Done  42 tasks      | elapsed:    0.0s\n",
      "[Parallel(n_jobs=4)]: Done 100 out of 100 | elapsed:    0.1s finished\n"
     ]
    }
   ],
   "source": [
    "# Округлим результаты работы модели:\n",
    "def round_to_polovina(row):\n",
    "    return (round(row*2.0)/2)\n",
    "\n",
    "new_round = np.vectorize(round_to_polovina)\n",
    "y_pred_round = new_round(model.predict(X_test))\n",
    "print('MAE:', metrics.mean_absolute_error(y_test, y_pred_round))"
   ]
  },
  {
   "cell_type": "code",
   "execution_count": 68,
   "metadata": {
    "execution": {
     "iopub.execute_input": "2022-08-01T10:23:00.271919Z",
     "iopub.status.busy": "2022-08-01T10:23:00.271560Z",
     "iopub.status.idle": "2022-08-01T10:23:00.762036Z",
     "shell.execute_reply": "2022-08-01T10:23:00.760840Z",
     "shell.execute_reply.started": "2022-08-01T10:23:00.271865Z"
    }
   },
   "outputs": [
    {
     "data": {
      "text/plain": [
       "<matplotlib.axes._subplots.AxesSubplot at 0x7fdec147c0b8>"
      ]
     },
     "execution_count": 68,
     "metadata": {},
     "output_type": "execute_result"
    },
    {
     "data": {
      "image/png": "[encoded data removed]",
      "text/plain": [
       "<Figure size 720x720 with 1 Axes>"
      ]
     },
     "metadata": {
      "needs_background": "light"
     },
     "output_type": "display_data"
    }
   ],
   "source": [
    "# в RandomForestRegressor есть возможность вывести самые важные признаки для модели\n",
    "plt.rcParams['figure.figsize'] = (10,10)\n",
    "feat_importances = pd.Series(model.feature_importances_, index=X.columns)\n",
    "feat_importances.nlargest(15).plot(kind='barh')"
   ]
  },
  {
   "cell_type": "markdown",
   "metadata": {},
   "source": [
    "# Submission\n",
    "Если все устраевает - готовим Submission на кагл"
   ]
  },
  {
   "cell_type": "code",
   "execution_count": 69,
   "metadata": {},
   "outputs": [],
   "source": [
    "# test_data.sample(10)"
   ]
  },
  {
   "cell_type": "code",
   "execution_count": 70,
   "metadata": {},
   "outputs": [],
   "source": [
    "# test_data = test_data.drop(['Rating'], axis=1)"
   ]
  },
  {
   "cell_type": "code",
   "execution_count": 71,
   "metadata": {},
   "outputs": [],
   "source": [
    "# sample_submission"
   ]
  },
  {
   "cell_type": "code",
   "execution_count": 72,
   "metadata": {},
   "outputs": [],
   "source": [
    "# predict_submission = model.predict(test_data)"
   ]
  },
  {
   "cell_type": "code",
   "execution_count": 73,
   "metadata": {},
   "outputs": [],
   "source": [
    "# predict_submission"
   ]
  },
  {
   "cell_type": "code",
   "execution_count": 74,
   "metadata": {},
   "outputs": [],
   "source": [
    "# sample_submission['Rating'] = predict_submission\n",
    "# sample_submission.to_csv('submission.csv', index=False)\n",
    "# sample_submission.head(10)"
   ]
  },
  {
   "cell_type": "code",
   "execution_count": 75,
   "metadata": {
    "execution": {
     "iopub.execute_input": "2022-08-01T10:23:40.701892Z",
     "iopub.status.busy": "2022-08-01T10:23:40.701499Z",
     "iopub.status.idle": "2022-08-01T10:23:41.754089Z",
     "shell.execute_reply": "2022-08-01T10:23:41.753119Z",
     "shell.execute_reply.started": "2022-08-01T10:23:40.701835Z"
    }
   },
   "outputs": [
    {
     "name": "stderr",
     "output_type": "stream",
     "text": [
      "[Parallel(n_jobs=4)]: Using backend ThreadingBackend with 4 concurrent workers.\n",
      "[Parallel(n_jobs=4)]: Done  42 tasks      | elapsed:    0.0s\n",
      "[Parallel(n_jobs=4)]: Done 100 out of 100 | elapsed:    0.1s finished\n"
     ]
    },
    {
     "data": {
      "text/html": [
       "<div>\n",
       "<style scoped>\n",
       "    .dataframe tbody tr th:only-of-type {\n",
       "        vertical-align: middle;\n",
       "    }\n",
       "\n",
       "    .dataframe tbody tr th {\n",
       "        vertical-align: top;\n",
       "    }\n",
       "\n",
       "    .dataframe thead th {\n",
       "        text-align: right;\n",
       "    }\n",
       "</style>\n",
       "<table border=\"1\" class=\"dataframe\">\n",
       "  <thead>\n",
       "    <tr style=\"text-align: right;\">\n",
       "      <th></th>\n",
       "      <th>Restaurant_id</th>\n",
       "      <th>Rating</th>\n",
       "    </tr>\n",
       "  </thead>\n",
       "  <tbody>\n",
       "    <tr>\n",
       "      <th>3441</th>\n",
       "      <td>id_1423</td>\n",
       "      <td>4.0</td>\n",
       "    </tr>\n",
       "    <tr>\n",
       "      <th>5093</th>\n",
       "      <td>id_4337</td>\n",
       "      <td>3.5</td>\n",
       "    </tr>\n",
       "    <tr>\n",
       "      <th>5553</th>\n",
       "      <td>id_4323</td>\n",
       "      <td>4.0</td>\n",
       "    </tr>\n",
       "    <tr>\n",
       "      <th>6034</th>\n",
       "      <td>id_7376</td>\n",
       "      <td>5.0</td>\n",
       "    </tr>\n",
       "    <tr>\n",
       "      <th>11346</th>\n",
       "      <td>id_704</td>\n",
       "      <td>3.5</td>\n",
       "    </tr>\n",
       "    <tr>\n",
       "      <th>...</th>\n",
       "      <td>...</td>\n",
       "      <td>...</td>\n",
       "    </tr>\n",
       "    <tr>\n",
       "      <th>49995</th>\n",
       "      <td>id_9995</td>\n",
       "      <td>4.5</td>\n",
       "    </tr>\n",
       "    <tr>\n",
       "      <th>49996</th>\n",
       "      <td>id_9996</td>\n",
       "      <td>4.0</td>\n",
       "    </tr>\n",
       "    <tr>\n",
       "      <th>49997</th>\n",
       "      <td>id_9997</td>\n",
       "      <td>3.0</td>\n",
       "    </tr>\n",
       "    <tr>\n",
       "      <th>49998</th>\n",
       "      <td>id_9998</td>\n",
       "      <td>4.5</td>\n",
       "    </tr>\n",
       "    <tr>\n",
       "      <th>49999</th>\n",
       "      <td>id_9999</td>\n",
       "      <td>4.0</td>\n",
       "    </tr>\n",
       "  </tbody>\n",
       "</table>\n",
       "<p>10000 rows × 2 columns</p>\n",
       "</div>"
      ],
      "text/plain": [
       "      Restaurant_id  Rating\n",
       "3441        id_1423     4.0\n",
       "5093        id_4337     3.5\n",
       "5553        id_4323     4.0\n",
       "6034        id_7376     5.0\n",
       "11346        id_704     3.5\n",
       "...             ...     ...\n",
       "49995       id_9995     4.5\n",
       "49996       id_9996     4.0\n",
       "49997       id_9997     3.0\n",
       "49998       id_9998     4.5\n",
       "49999       id_9999     4.0\n",
       "\n",
       "[10000 rows x 2 columns]"
      ]
     },
     "execution_count": 75,
     "metadata": {},
     "output_type": "execute_result"
    }
   ],
   "source": [
    "# Используем обученную модель для предсказания рейтинга ресторанов в тестовой выборке.\n",
    "# Предсказанные значения записываем в переменную y_pred\n",
    "kaggle_df = df_for_test[~df_for_test['Main']]\n",
    "y_pred = model.predict(kaggle_df)\n",
    "\n",
    "submission = pd.DataFrame({\n",
    "        \"Restaurant_id\": df[~df['Main']]['Restaurant_id'],\n",
    "        \"Rating\": y_pred\n",
    "    })\n",
    "#submission['Restaurant_id']=submission['Restaurant_id'].astype('str')\n",
    "\n",
    "submission['Rating'] = submission['Rating'].apply(round_to_polovina)\n",
    "# submission.to_csv('/kaggle/working/submission.csv', index=False)\n",
    "submission.to_csv('submission.csv', index=False)\n",
    "submission"
   ]
  },
  {
   "cell_type": "markdown",
   "metadata": {},
   "source": [
    "# What's next?\n",
    "Или что делать, чтоб улучшить результат:\n",
    "* Обработать оставшиеся признаки в понятный для машины формат\n",
    "* Посмотреть, что еще можно извлечь из признаков\n",
    "* Сгенерировать новые признаки\n",
    "* Подгрузить дополнительные данные, например: по населению или благосостоянию городов\n",
    "* Подобрать состав признаков\n",
    "\n",
    "В общем, процесс творческий и весьма увлекательный! Удачи в соревновании!\n"
   ]
  },
  {
   "cell_type": "code",
   "execution_count": null,
   "metadata": {},
   "outputs": [],
   "source": []
  }
 ],
 "metadata": {
  "kernelspec": {
   "display_name": "Python 3",
   "language": "python",
   "name": "python3"
  },
  "language_info": {
   "codemirror_mode": {
    "name": "ipython",
    "version": 3
   },
   "file_extension": ".py",
   "mimetype": "text/x-python",
   "name": "python",
   "nbconvert_exporter": "python",
   "pygments_lexer": "ipython3",
   "version": "3.6.6"
  }
 },
 "nbformat": 4,
 "nbformat_minor": 4
}
