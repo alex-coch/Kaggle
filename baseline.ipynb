{
 "cells": [
  {
   "cell_type": "markdown",
   "metadata": {
    "papermill": {
     "duration": 0.07491,
     "end_time": "2022-08-03T07:26:29.529785",
     "exception": false,
     "start_time": "2022-08-03T07:26:29.454875",
     "status": "completed"
    },
    "tags": []
   },
   "source": [
    "# Вебинар 6. Консультация по курсовому проекту.\n",
    "\n",
    "### Задание для курсового проекта\n",
    "\n",
    "Метрика:\n",
    "R2 - коэффициент детерминации (sklearn.metrics.r2_score)\n",
    "\n",
    "Сдача проекта:\n",
    "1. Сдать проект нужно в течение 7 дней после окончания последнего вебинара.\n",
    "2. Прислать в раздел Задания Урока 10 (\"Вебинар. Консультация по итоговому проекту\") ссылку на ноутбук в github или public kaggle notebook.\n",
    "3. Необходимо получить R2 > 0.6 на Private Leaderboard.\n",
    "4. Укажите свой ник на kaggle \n",
    "\n",
    "\n",
    "Примечание:\n",
    "Все файлы csv должны содержать названия полей (header - то есть \"шапку\"),разделитель - запятая. В файлах не должны содержаться индексы из датафрейма.\n",
    "____________\n",
    "Рекомендации для файла с кодом (ipynb):\n",
    "1. Файл должен содержать заголовки и комментарии\n",
    "2. Повторяющиеся операции лучше оформлять в виде функций\n",
    "3. По возможности добавлять графики, описывающие данные (около 3-5)\n",
    "4. Добавлять только лучшую модель, то есть не включать в код все варианты решения проекта\n",
    "5. Скрипт проекта должен отрабатывать от начала и до конца (от загрузки данных до выгрузки предсказаний)\n",
    "6. Весь проект должен быть в одном скрипте (файл ipynb).\n",
    "7. При использовании статистик (среднее, медиана и т.д.) в качестве признаков, лучше считать их на трейне, и потом на валидационных и тестовых данных не считать статистики заново, а брать их с трейна.\n",
    "8. Проект должен полностью отрабатывать за разумное время (не больше 10 минут), поэтому в финальный вариант лучше не включать GridSearch с перебором большого количества сочетаний параметров. "
   ]
  },
  {
   "cell_type": "markdown",
   "metadata": {
    "papermill": {
     "duration": 0.07336,
     "end_time": "2022-08-03T07:26:29.675796",
     "exception": false,
     "start_time": "2022-08-03T07:26:29.602436",
     "status": "completed"
    },
    "tags": []
   },
   "source": [
    "**План занятия**\n",
    "* [Загрузка данных](#load)\n",
    "* [1. EDA](#eda)\n",
    "* [2. Обработка выбросов](#outlier)\n",
    "* [3. Обработка пропусков](#nan)\n",
    "* [4. Построение новых признаков](#feature)\n",
    "* [5. Отбор признаков](#feature_selection)\n",
    "* [6. Разбиение на train и test](#split)\n",
    "* [7. Построение модели](#modeling)\n",
    "* [8. Прогнозирование на тестовом датасете](#prediction)"
   ]
  },
  {
   "cell_type": "markdown",
   "metadata": {
    "papermill": {
     "duration": 0.073303,
     "end_time": "2022-08-03T07:26:29.822725",
     "exception": false,
     "start_time": "2022-08-03T07:26:29.749422",
     "status": "completed"
    },
    "tags": []
   },
   "source": [
    "**Подключение библиотек и скриптов**"
   ]
  },
  {
   "cell_type": "code",
   "execution_count": 1,
   "metadata": {
    "execution": {
     "iopub.execute_input": "2022-08-03T07:26:29.971414Z",
     "iopub.status.busy": "2022-08-03T07:26:29.970741Z",
     "iopub.status.idle": "2022-08-03T07:26:29.978830Z",
     "shell.execute_reply": "2022-08-03T07:26:29.979421Z",
     "shell.execute_reply.started": "2022-08-03T07:23:55.114682Z"
    },
    "papermill": {
     "duration": 0.084418,
     "end_time": "2022-08-03T07:26:29.979606",
     "exception": false,
     "start_time": "2022-08-03T07:26:29.895188",
     "status": "completed"
    },
    "tags": []
   },
   "outputs": [
    {
     "name": "stdout",
     "output_type": "stream",
     "text": [
      "/kaggle/input/real-estate-price-prediction-moscow/sample_submission.csv\n",
      "/kaggle/input/real-estate-price-prediction-moscow/train.csv\n",
      "/kaggle/input/real-estate-price-prediction-moscow/test.csv\n"
     ]
    }
   ],
   "source": [
    "# This Python 3 environment comes with many helpful analytics libraries installed\n",
    "# It is defined by the kaggle/python Docker image: https://github.com/kaggle/docker-python\n",
    "# For example, here's several helpful packages to load\n",
    "\n",
    "import numpy as np # linear algebra\n",
    "import pandas as pd # data processing, CSV file I/O (e.g. pd.read_csv)\n",
    "\n",
    "# Input data files are available in the read-only \"../input/\" directory\n",
    "# For example, running this (by clicking run or pressing Shift+Enter) will list all files under the input directory\n",
    "\n",
    "import os\n",
    "for dirname, _, filenames in os.walk('/kaggle/input'):\n",
    "    for filename in filenames:\n",
    "        print(os.path.join(dirname, filename))\n",
    "\n",
    "# You can write up to 5GB to the current directory (/kaggle/working/) that gets preserved as output when you create a version using \"Save & Run All\" \n",
    "# You can also write temporary files to /kaggle/temp/, but they won't be saved outside of the current session"
   ]
  },
  {
   "cell_type": "code",
   "execution_count": 2,
   "metadata": {
    "execution": {
     "iopub.execute_input": "2022-08-03T07:26:30.138282Z",
     "iopub.status.busy": "2022-08-03T07:26:30.136426Z",
     "iopub.status.idle": "2022-08-03T07:26:32.106271Z",
     "shell.execute_reply": "2022-08-03T07:26:32.106816Z",
     "shell.execute_reply.started": "2022-08-03T07:23:55.459107Z"
    },
    "papermill": {
     "duration": 2.053152,
     "end_time": "2022-08-03T07:26:32.106972",
     "exception": false,
     "start_time": "2022-08-03T07:26:30.053820",
     "status": "completed"
    },
    "tags": []
   },
   "outputs": [],
   "source": [
    "import pandas as pd\n",
    "import numpy as np\n",
    "import sklearn as skl\n",
    "from sklearn.model_selection import train_test_split, KFold, GridSearchCV, RepeatedKFold\n",
    "from sklearn.preprocessing import StandardScaler, MinMaxScaler, RobustScaler\n",
    "from sklearn.manifold import TSNE\n",
    "import matplotlib.pyplot as plt\n",
    "from sklearn.ensemble import RandomForestRegressor, GradientBoostingRegressor\n",
    "from sklearn.metrics import mean_squared_error as mse, r2_score as r2\n",
    "from sklearn.linear_model import LinearRegression, ElasticNet, ElasticNetCV, Lasso, LassoCV\n",
    "from sklearn.decomposition import PCA\n",
    "from sklearn.svm import SVR\n",
    "from datetime import datetime\n",
    "import xgboost as xgb\n",
    "%matplotlib inline"
   ]
  },
  {
   "cell_type": "code",
   "execution_count": 3,
   "metadata": {
    "execution": {
     "iopub.execute_input": "2022-08-03T07:26:32.259556Z",
     "iopub.status.busy": "2022-08-03T07:26:32.258913Z",
     "iopub.status.idle": "2022-08-03T07:26:32.262761Z",
     "shell.execute_reply": "2022-08-03T07:26:32.263309Z",
     "shell.execute_reply.started": "2022-08-03T07:23:55.806051Z"
    },
    "papermill": {
     "duration": 0.081814,
     "end_time": "2022-08-03T07:26:32.263456",
     "exception": false,
     "start_time": "2022-08-03T07:26:32.181642",
     "status": "completed"
    },
    "tags": []
   },
   "outputs": [],
   "source": [
    "import warnings\n",
    "warnings.filterwarnings('ignore')"
   ]
  },
  {
   "cell_type": "code",
   "execution_count": 4,
   "metadata": {
    "execution": {
     "iopub.execute_input": "2022-08-03T07:26:32.416166Z",
     "iopub.status.busy": "2022-08-03T07:26:32.415460Z",
     "iopub.status.idle": "2022-08-03T07:26:32.419206Z",
     "shell.execute_reply": "2022-08-03T07:26:32.419738Z",
     "shell.execute_reply.started": "2022-08-03T07:23:57.567061Z"
    },
    "papermill": {
     "duration": 0.082061,
     "end_time": "2022-08-03T07:26:32.419882",
     "exception": false,
     "start_time": "2022-08-03T07:26:32.337821",
     "status": "completed"
    },
    "tags": []
   },
   "outputs": [],
   "source": [
    "plt.rcParams.update({'font.size': 14})"
   ]
  },
  {
   "cell_type": "code",
   "execution_count": 5,
   "metadata": {
    "execution": {
     "iopub.execute_input": "2022-08-03T07:26:32.573337Z",
     "iopub.status.busy": "2022-08-03T07:26:32.572584Z",
     "iopub.status.idle": "2022-08-03T07:26:32.580452Z",
     "shell.execute_reply": "2022-08-03T07:26:32.581023Z",
     "shell.execute_reply.started": "2022-08-03T07:23:58.106383Z"
    },
    "papermill": {
     "duration": 0.086147,
     "end_time": "2022-08-03T07:26:32.581201",
     "exception": false,
     "start_time": "2022-08-03T07:26:32.495054",
     "status": "completed"
    },
    "tags": []
   },
   "outputs": [],
   "source": [
    "def evaluate_preds(train_true_values, train_pred_values, test_true_values, test_pred_values):\n",
    "    print(\"Train R2:\\t\" + str(round(r2(train_true_values, train_pred_values), 3)))\n",
    "    print(\"Test R2:\\t\" + str(round(r2(test_true_values, test_pred_values), 3)))\n",
    "    \n",
    "    plt.figure(figsize=(18,10))\n",
    "    \n",
    "    plt.subplot(121)\n",
    "    sns.scatterplot(x=train_pred_values, y=train_true_values)\n",
    "    plt.xlabel('Predicted values')\n",
    "    plt.ylabel('True values')\n",
    "    plt.title('Train sample prediction')\n",
    "    \n",
    "    plt.subplot(122)\n",
    "    sns.scatterplot(x=test_pred_values, y=test_true_values)\n",
    "    plt.xlabel('Predicted values')\n",
    "    plt.ylabel('True values')\n",
    "    plt.title('Test sample prediction')\n",
    "\n",
    "    plt.show()"
   ]
  },
  {
   "cell_type": "markdown",
   "metadata": {
    "papermill": {
     "duration": 0.074033,
     "end_time": "2022-08-03T07:26:32.730173",
     "exception": false,
     "start_time": "2022-08-03T07:26:32.656140",
     "status": "completed"
    },
    "tags": []
   },
   "source": [
    "**Пути к директориям и файлам**"
   ]
  },
  {
   "cell_type": "code",
   "execution_count": 6,
   "metadata": {
    "execution": {
     "iopub.execute_input": "2022-08-03T07:26:32.884579Z",
     "iopub.status.busy": "2022-08-03T07:26:32.883857Z",
     "iopub.status.idle": "2022-08-03T07:26:32.887896Z",
     "shell.execute_reply": "2022-08-03T07:26:32.888454Z",
     "shell.execute_reply.started": "2022-08-03T07:23:58.416134Z"
    },
    "papermill": {
     "duration": 0.08354,
     "end_time": "2022-08-03T07:26:32.888610",
     "exception": false,
     "start_time": "2022-08-03T07:26:32.805070",
     "status": "completed"
    },
    "tags": []
   },
   "outputs": [],
   "source": [
    "TRAIN_DATASET_PATH = '../input/real-estate-price-prediction-moscow/train.csv'\n",
    "TEST_DATASET_PATH = '../input/real-estate-price-prediction-moscow/test.csv'"
   ]
  },
  {
   "cell_type": "markdown",
   "metadata": {
    "papermill": {
     "duration": 0.075579,
     "end_time": "2022-08-03T07:26:33.055449",
     "exception": false,
     "start_time": "2022-08-03T07:26:32.979870",
     "status": "completed"
    },
    "tags": []
   },
   "source": [
    "### Загрузка данных <a class='anchor' id='load'>"
   ]
  },
  {
   "cell_type": "markdown",
   "metadata": {
    "papermill": {
     "duration": 0.07403,
     "end_time": "2022-08-03T07:26:33.203170",
     "exception": false,
     "start_time": "2022-08-03T07:26:33.129140",
     "status": "completed"
    },
    "tags": []
   },
   "source": [
    "**Описание датасета**\n",
    "\n",
    "* **Id** - идентификационный номер квартиры\n",
    "* **DistrictId** - идентификационный номер района\n",
    "* **Rooms** - количество комнат\n",
    "* **Square** - площадь\n",
    "* **LifeSquare** - жилая площадь\n",
    "* **KitchenSquare** - площадь кухни\n",
    "* **Floor** - этаж\n",
    "* **HouseFloor** - количество этажей в доме\n",
    "* **HouseYear** - год постройки дома\n",
    "* **Ecology_1, Ecology_2, Ecology_3** - экологические показатели местности\n",
    "* **Social_1, Social_2, Social_3** - социальные показатели местности\n",
    "* **Healthcare_1, Helthcare_2** - показатели местности, связанные с охраной здоровья\n",
    "* **Shops_1, Shops_2** - показатели, связанные с наличием магазинов, торговых центров\n",
    "* **Price** - цена квартиры"
   ]
  },
  {
   "cell_type": "code",
   "execution_count": 7,
   "metadata": {
    "execution": {
     "iopub.execute_input": "2022-08-03T07:26:33.365949Z",
     "iopub.status.busy": "2022-08-03T07:26:33.364975Z",
     "iopub.status.idle": "2022-08-03T07:26:33.462724Z",
     "shell.execute_reply": "2022-08-03T07:26:33.463389Z",
     "shell.execute_reply.started": "2022-08-03T07:23:58.747510Z"
    },
    "papermill": {
     "duration": 0.185162,
     "end_time": "2022-08-03T07:26:33.463550",
     "exception": false,
     "start_time": "2022-08-03T07:26:33.278388",
     "status": "completed"
    },
    "tags": []
   },
   "outputs": [
    {
     "data": {
      "text/html": [
       "<div>\n",
       "<style scoped>\n",
       "    .dataframe tbody tr th:only-of-type {\n",
       "        vertical-align: middle;\n",
       "    }\n",
       "\n",
       "    .dataframe tbody tr th {\n",
       "        vertical-align: top;\n",
       "    }\n",
       "\n",
       "    .dataframe thead th {\n",
       "        text-align: right;\n",
       "    }\n",
       "</style>\n",
       "<table border=\"1\" class=\"dataframe\">\n",
       "  <thead>\n",
       "    <tr style=\"text-align: right;\">\n",
       "      <th></th>\n",
       "      <th>Id</th>\n",
       "      <th>DistrictId</th>\n",
       "      <th>Rooms</th>\n",
       "      <th>Square</th>\n",
       "      <th>LifeSquare</th>\n",
       "      <th>KitchenSquare</th>\n",
       "      <th>Floor</th>\n",
       "      <th>HouseFloor</th>\n",
       "      <th>HouseYear</th>\n",
       "      <th>Ecology_1</th>\n",
       "      <th>Ecology_2</th>\n",
       "      <th>Ecology_3</th>\n",
       "      <th>Social_1</th>\n",
       "      <th>Social_2</th>\n",
       "      <th>Social_3</th>\n",
       "      <th>Healthcare_1</th>\n",
       "      <th>Helthcare_2</th>\n",
       "      <th>Shops_1</th>\n",
       "      <th>Shops_2</th>\n",
       "      <th>Price</th>\n",
       "    </tr>\n",
       "  </thead>\n",
       "  <tbody>\n",
       "    <tr>\n",
       "      <th>9995</th>\n",
       "      <td>1260</td>\n",
       "      <td>61</td>\n",
       "      <td>2.0</td>\n",
       "      <td>49.090728</td>\n",
       "      <td>33.272626</td>\n",
       "      <td>6.0</td>\n",
       "      <td>3</td>\n",
       "      <td>12.0</td>\n",
       "      <td>1981</td>\n",
       "      <td>0.300323</td>\n",
       "      <td>B</td>\n",
       "      <td>B</td>\n",
       "      <td>52</td>\n",
       "      <td>10311</td>\n",
       "      <td>6</td>\n",
       "      <td>NaN</td>\n",
       "      <td>1</td>\n",
       "      <td>9</td>\n",
       "      <td>B</td>\n",
       "      <td>119367.455796</td>\n",
       "    </tr>\n",
       "    <tr>\n",
       "      <th>9996</th>\n",
       "      <td>16265</td>\n",
       "      <td>27</td>\n",
       "      <td>2.0</td>\n",
       "      <td>64.307684</td>\n",
       "      <td>37.038420</td>\n",
       "      <td>9.0</td>\n",
       "      <td>13</td>\n",
       "      <td>0.0</td>\n",
       "      <td>1977</td>\n",
       "      <td>0.072158</td>\n",
       "      <td>B</td>\n",
       "      <td>B</td>\n",
       "      <td>2</td>\n",
       "      <td>629</td>\n",
       "      <td>1</td>\n",
       "      <td>NaN</td>\n",
       "      <td>0</td>\n",
       "      <td>0</td>\n",
       "      <td>A</td>\n",
       "      <td>199715.148807</td>\n",
       "    </tr>\n",
       "    <tr>\n",
       "      <th>9997</th>\n",
       "      <td>2795</td>\n",
       "      <td>178</td>\n",
       "      <td>1.0</td>\n",
       "      <td>29.648057</td>\n",
       "      <td>16.555363</td>\n",
       "      <td>5.0</td>\n",
       "      <td>3</td>\n",
       "      <td>5.0</td>\n",
       "      <td>1958</td>\n",
       "      <td>0.460556</td>\n",
       "      <td>B</td>\n",
       "      <td>B</td>\n",
       "      <td>20</td>\n",
       "      <td>4386</td>\n",
       "      <td>14</td>\n",
       "      <td>NaN</td>\n",
       "      <td>1</td>\n",
       "      <td>5</td>\n",
       "      <td>B</td>\n",
       "      <td>165953.912580</td>\n",
       "    </tr>\n",
       "    <tr>\n",
       "      <th>9998</th>\n",
       "      <td>14561</td>\n",
       "      <td>21</td>\n",
       "      <td>1.0</td>\n",
       "      <td>32.330292</td>\n",
       "      <td>22.326870</td>\n",
       "      <td>5.0</td>\n",
       "      <td>3</td>\n",
       "      <td>9.0</td>\n",
       "      <td>1969</td>\n",
       "      <td>0.194489</td>\n",
       "      <td>B</td>\n",
       "      <td>B</td>\n",
       "      <td>47</td>\n",
       "      <td>8004</td>\n",
       "      <td>3</td>\n",
       "      <td>125.0</td>\n",
       "      <td>3</td>\n",
       "      <td>5</td>\n",
       "      <td>B</td>\n",
       "      <td>171842.411855</td>\n",
       "    </tr>\n",
       "    <tr>\n",
       "      <th>9999</th>\n",
       "      <td>7202</td>\n",
       "      <td>94</td>\n",
       "      <td>1.0</td>\n",
       "      <td>35.815476</td>\n",
       "      <td>22.301367</td>\n",
       "      <td>6.0</td>\n",
       "      <td>9</td>\n",
       "      <td>9.0</td>\n",
       "      <td>1975</td>\n",
       "      <td>0.127376</td>\n",
       "      <td>B</td>\n",
       "      <td>B</td>\n",
       "      <td>43</td>\n",
       "      <td>8429</td>\n",
       "      <td>3</td>\n",
       "      <td>NaN</td>\n",
       "      <td>3</td>\n",
       "      <td>9</td>\n",
       "      <td>B</td>\n",
       "      <td>177685.627486</td>\n",
       "    </tr>\n",
       "  </tbody>\n",
       "</table>\n",
       "</div>"
      ],
      "text/plain": [
       "         Id  DistrictId  Rooms     Square  LifeSquare  KitchenSquare  Floor  \\\n",
       "9995   1260          61    2.0  49.090728   33.272626            6.0      3   \n",
       "9996  16265          27    2.0  64.307684   37.038420            9.0     13   \n",
       "9997   2795         178    1.0  29.648057   16.555363            5.0      3   \n",
       "9998  14561          21    1.0  32.330292   22.326870            5.0      3   \n",
       "9999   7202          94    1.0  35.815476   22.301367            6.0      9   \n",
       "\n",
       "      HouseFloor  HouseYear  Ecology_1 Ecology_2 Ecology_3  Social_1  \\\n",
       "9995        12.0       1981   0.300323         B         B        52   \n",
       "9996         0.0       1977   0.072158         B         B         2   \n",
       "9997         5.0       1958   0.460556         B         B        20   \n",
       "9998         9.0       1969   0.194489         B         B        47   \n",
       "9999         9.0       1975   0.127376         B         B        43   \n",
       "\n",
       "      Social_2  Social_3  Healthcare_1  Helthcare_2  Shops_1 Shops_2  \\\n",
       "9995     10311         6           NaN            1        9       B   \n",
       "9996       629         1           NaN            0        0       A   \n",
       "9997      4386        14           NaN            1        5       B   \n",
       "9998      8004         3         125.0            3        5       B   \n",
       "9999      8429         3           NaN            3        9       B   \n",
       "\n",
       "              Price  \n",
       "9995  119367.455796  \n",
       "9996  199715.148807  \n",
       "9997  165953.912580  \n",
       "9998  171842.411855  \n",
       "9999  177685.627486  "
      ]
     },
     "execution_count": 7,
     "metadata": {},
     "output_type": "execute_result"
    }
   ],
   "source": [
    "train_df = pd.read_csv(TRAIN_DATASET_PATH)\n",
    "train_df.tail()"
   ]
  },
  {
   "cell_type": "code",
   "execution_count": 8,
   "metadata": {
    "execution": {
     "iopub.execute_input": "2022-08-03T07:26:33.616860Z",
     "iopub.status.busy": "2022-08-03T07:26:33.616179Z",
     "iopub.status.idle": "2022-08-03T07:26:33.622867Z",
     "shell.execute_reply": "2022-08-03T07:26:33.623503Z",
     "shell.execute_reply.started": "2022-08-03T07:23:59.094582Z"
    },
    "papermill": {
     "duration": 0.084032,
     "end_time": "2022-08-03T07:26:33.623663",
     "exception": false,
     "start_time": "2022-08-03T07:26:33.539631",
     "status": "completed"
    },
    "tags": []
   },
   "outputs": [
    {
     "data": {
      "text/plain": [
       "Id                 int64\n",
       "DistrictId         int64\n",
       "Rooms            float64\n",
       "Square           float64\n",
       "LifeSquare       float64\n",
       "KitchenSquare    float64\n",
       "Floor              int64\n",
       "HouseFloor       float64\n",
       "HouseYear          int64\n",
       "Ecology_1        float64\n",
       "Ecology_2         object\n",
       "Ecology_3         object\n",
       "Social_1           int64\n",
       "Social_2           int64\n",
       "Social_3           int64\n",
       "Healthcare_1     float64\n",
       "Helthcare_2        int64\n",
       "Shops_1            int64\n",
       "Shops_2           object\n",
       "Price            float64\n",
       "dtype: object"
      ]
     },
     "execution_count": 8,
     "metadata": {},
     "output_type": "execute_result"
    }
   ],
   "source": [
    "train_df.dtypes"
   ]
  },
  {
   "cell_type": "code",
   "execution_count": 9,
   "metadata": {
    "execution": {
     "iopub.execute_input": "2022-08-03T07:26:33.784298Z",
     "iopub.status.busy": "2022-08-03T07:26:33.783517Z",
     "iopub.status.idle": "2022-08-03T07:26:33.830326Z",
     "shell.execute_reply": "2022-08-03T07:26:33.829463Z",
     "shell.execute_reply.started": "2022-08-03T07:23:59.437236Z"
    },
    "papermill": {
     "duration": 0.131763,
     "end_time": "2022-08-03T07:26:33.830491",
     "exception": false,
     "start_time": "2022-08-03T07:26:33.698728",
     "status": "completed"
    },
    "tags": []
   },
   "outputs": [
    {
     "data": {
      "text/html": [
       "<div>\n",
       "<style scoped>\n",
       "    .dataframe tbody tr th:only-of-type {\n",
       "        vertical-align: middle;\n",
       "    }\n",
       "\n",
       "    .dataframe tbody tr th {\n",
       "        vertical-align: top;\n",
       "    }\n",
       "\n",
       "    .dataframe thead th {\n",
       "        text-align: right;\n",
       "    }\n",
       "</style>\n",
       "<table border=\"1\" class=\"dataframe\">\n",
       "  <thead>\n",
       "    <tr style=\"text-align: right;\">\n",
       "      <th></th>\n",
       "      <th>Id</th>\n",
       "      <th>DistrictId</th>\n",
       "      <th>Rooms</th>\n",
       "      <th>Square</th>\n",
       "      <th>LifeSquare</th>\n",
       "      <th>KitchenSquare</th>\n",
       "      <th>Floor</th>\n",
       "      <th>HouseFloor</th>\n",
       "      <th>HouseYear</th>\n",
       "      <th>Ecology_1</th>\n",
       "      <th>Ecology_2</th>\n",
       "      <th>Ecology_3</th>\n",
       "      <th>Social_1</th>\n",
       "      <th>Social_2</th>\n",
       "      <th>Social_3</th>\n",
       "      <th>Healthcare_1</th>\n",
       "      <th>Helthcare_2</th>\n",
       "      <th>Shops_1</th>\n",
       "      <th>Shops_2</th>\n",
       "    </tr>\n",
       "  </thead>\n",
       "  <tbody>\n",
       "    <tr>\n",
       "      <th>4995</th>\n",
       "      <td>10379</td>\n",
       "      <td>29</td>\n",
       "      <td>2.0</td>\n",
       "      <td>43.177521</td>\n",
       "      <td>30.339945</td>\n",
       "      <td>5.0</td>\n",
       "      <td>6</td>\n",
       "      <td>5.0</td>\n",
       "      <td>1962</td>\n",
       "      <td>0.069660</td>\n",
       "      <td>B</td>\n",
       "      <td>B</td>\n",
       "      <td>31</td>\n",
       "      <td>6119</td>\n",
       "      <td>4</td>\n",
       "      <td>NaN</td>\n",
       "      <td>1</td>\n",
       "      <td>2</td>\n",
       "      <td>B</td>\n",
       "    </tr>\n",
       "    <tr>\n",
       "      <th>4996</th>\n",
       "      <td>16138</td>\n",
       "      <td>38</td>\n",
       "      <td>3.0</td>\n",
       "      <td>93.698122</td>\n",
       "      <td>94.521465</td>\n",
       "      <td>10.0</td>\n",
       "      <td>21</td>\n",
       "      <td>27.0</td>\n",
       "      <td>2018</td>\n",
       "      <td>0.060753</td>\n",
       "      <td>B</td>\n",
       "      <td>B</td>\n",
       "      <td>15</td>\n",
       "      <td>2787</td>\n",
       "      <td>2</td>\n",
       "      <td>520.0</td>\n",
       "      <td>0</td>\n",
       "      <td>7</td>\n",
       "      <td>B</td>\n",
       "    </tr>\n",
       "    <tr>\n",
       "      <th>4997</th>\n",
       "      <td>3912</td>\n",
       "      <td>101</td>\n",
       "      <td>1.0</td>\n",
       "      <td>33.656723</td>\n",
       "      <td>19.003259</td>\n",
       "      <td>5.0</td>\n",
       "      <td>2</td>\n",
       "      <td>5.0</td>\n",
       "      <td>1966</td>\n",
       "      <td>0.038693</td>\n",
       "      <td>B</td>\n",
       "      <td>B</td>\n",
       "      <td>28</td>\n",
       "      <td>6533</td>\n",
       "      <td>1</td>\n",
       "      <td>1015.0</td>\n",
       "      <td>2</td>\n",
       "      <td>5</td>\n",
       "      <td>B</td>\n",
       "    </tr>\n",
       "    <tr>\n",
       "      <th>4998</th>\n",
       "      <td>5722</td>\n",
       "      <td>10</td>\n",
       "      <td>1.0</td>\n",
       "      <td>38.635155</td>\n",
       "      <td>20.976257</td>\n",
       "      <td>9.0</td>\n",
       "      <td>8</td>\n",
       "      <td>14.0</td>\n",
       "      <td>1970</td>\n",
       "      <td>0.089040</td>\n",
       "      <td>B</td>\n",
       "      <td>B</td>\n",
       "      <td>33</td>\n",
       "      <td>7976</td>\n",
       "      <td>5</td>\n",
       "      <td>NaN</td>\n",
       "      <td>0</td>\n",
       "      <td>11</td>\n",
       "      <td>B</td>\n",
       "    </tr>\n",
       "    <tr>\n",
       "      <th>4999</th>\n",
       "      <td>11004</td>\n",
       "      <td>21</td>\n",
       "      <td>2.0</td>\n",
       "      <td>67.122742</td>\n",
       "      <td>33.944344</td>\n",
       "      <td>13.0</td>\n",
       "      <td>9</td>\n",
       "      <td>17.0</td>\n",
       "      <td>2009</td>\n",
       "      <td>0.194489</td>\n",
       "      <td>B</td>\n",
       "      <td>B</td>\n",
       "      <td>47</td>\n",
       "      <td>8004</td>\n",
       "      <td>3</td>\n",
       "      <td>125.0</td>\n",
       "      <td>3</td>\n",
       "      <td>5</td>\n",
       "      <td>B</td>\n",
       "    </tr>\n",
       "  </tbody>\n",
       "</table>\n",
       "</div>"
      ],
      "text/plain": [
       "         Id  DistrictId  Rooms     Square  LifeSquare  KitchenSquare  Floor  \\\n",
       "4995  10379          29    2.0  43.177521   30.339945            5.0      6   \n",
       "4996  16138          38    3.0  93.698122   94.521465           10.0     21   \n",
       "4997   3912         101    1.0  33.656723   19.003259            5.0      2   \n",
       "4998   5722          10    1.0  38.635155   20.976257            9.0      8   \n",
       "4999  11004          21    2.0  67.122742   33.944344           13.0      9   \n",
       "\n",
       "      HouseFloor  HouseYear  Ecology_1 Ecology_2 Ecology_3  Social_1  \\\n",
       "4995         5.0       1962   0.069660         B         B        31   \n",
       "4996        27.0       2018   0.060753         B         B        15   \n",
       "4997         5.0       1966   0.038693         B         B        28   \n",
       "4998        14.0       1970   0.089040         B         B        33   \n",
       "4999        17.0       2009   0.194489         B         B        47   \n",
       "\n",
       "      Social_2  Social_3  Healthcare_1  Helthcare_2  Shops_1 Shops_2  \n",
       "4995      6119         4           NaN            1        2       B  \n",
       "4996      2787         2         520.0            0        7       B  \n",
       "4997      6533         1        1015.0            2        5       B  \n",
       "4998      7976         5           NaN            0       11       B  \n",
       "4999      8004         3         125.0            3        5       B  "
      ]
     },
     "execution_count": 9,
     "metadata": {},
     "output_type": "execute_result"
    }
   ],
   "source": [
    "test_df = pd.read_csv(TEST_DATASET_PATH)\n",
    "test_df.tail()"
   ]
  },
  {
   "cell_type": "code",
   "execution_count": 10,
   "metadata": {
    "execution": {
     "iopub.execute_input": "2022-08-03T07:26:33.994237Z",
     "iopub.status.busy": "2022-08-03T07:26:33.992942Z",
     "iopub.status.idle": "2022-08-03T07:26:33.997714Z",
     "shell.execute_reply": "2022-08-03T07:26:33.997155Z",
     "shell.execute_reply.started": "2022-08-03T07:23:59.794933Z"
    },
    "papermill": {
     "duration": 0.085273,
     "end_time": "2022-08-03T07:26:33.997838",
     "exception": false,
     "start_time": "2022-08-03T07:26:33.912565",
     "status": "completed"
    },
    "tags": []
   },
   "outputs": [
    {
     "name": "stdout",
     "output_type": "stream",
     "text": [
      "Строк в трейне: 10000\n",
      "Строк в тесте 5000\n"
     ]
    }
   ],
   "source": [
    "print('Строк в трейне:', train_df.shape[0])\n",
    "print('Строк в тесте', test_df.shape[0])"
   ]
  },
  {
   "cell_type": "code",
   "execution_count": 11,
   "metadata": {
    "execution": {
     "iopub.execute_input": "2022-08-03T07:26:34.152790Z",
     "iopub.status.busy": "2022-08-03T07:26:34.152073Z",
     "iopub.status.idle": "2022-08-03T07:26:34.156866Z",
     "shell.execute_reply": "2022-08-03T07:26:34.157335Z",
     "shell.execute_reply.started": "2022-08-03T07:24:01.966167Z"
    },
    "papermill": {
     "duration": 0.083007,
     "end_time": "2022-08-03T07:26:34.157488",
     "exception": false,
     "start_time": "2022-08-03T07:26:34.074481",
     "status": "completed"
    },
    "tags": []
   },
   "outputs": [
    {
     "data": {
      "text/plain": [
       "True"
      ]
     },
     "execution_count": 11,
     "metadata": {},
     "output_type": "execute_result"
    }
   ],
   "source": [
    "train_df.shape[1] - 1 == test_df.shape[1]"
   ]
  },
  {
   "cell_type": "markdown",
   "metadata": {
    "papermill": {
     "duration": 0.076231,
     "end_time": "2022-08-03T07:26:34.362241",
     "exception": false,
     "start_time": "2022-08-03T07:26:34.286010",
     "status": "completed"
    },
    "tags": []
   },
   "source": [
    "### Приведение типов"
   ]
  },
  {
   "cell_type": "code",
   "execution_count": 12,
   "metadata": {
    "execution": {
     "iopub.execute_input": "2022-08-03T07:26:34.517929Z",
     "iopub.status.busy": "2022-08-03T07:26:34.517273Z",
     "iopub.status.idle": "2022-08-03T07:26:34.523833Z",
     "shell.execute_reply": "2022-08-03T07:26:34.524321Z",
     "shell.execute_reply.started": "2022-08-03T07:24:03.118459Z"
    },
    "papermill": {
     "duration": 0.085852,
     "end_time": "2022-08-03T07:26:34.524482",
     "exception": false,
     "start_time": "2022-08-03T07:26:34.438630",
     "status": "completed"
    },
    "tags": []
   },
   "outputs": [
    {
     "data": {
      "text/plain": [
       "Id                 int64\n",
       "DistrictId         int64\n",
       "Rooms            float64\n",
       "Square           float64\n",
       "LifeSquare       float64\n",
       "KitchenSquare    float64\n",
       "Floor              int64\n",
       "HouseFloor       float64\n",
       "HouseYear          int64\n",
       "Ecology_1        float64\n",
       "Ecology_2         object\n",
       "Ecology_3         object\n",
       "Social_1           int64\n",
       "Social_2           int64\n",
       "Social_3           int64\n",
       "Healthcare_1     float64\n",
       "Helthcare_2        int64\n",
       "Shops_1            int64\n",
       "Shops_2           object\n",
       "Price            float64\n",
       "dtype: object"
      ]
     },
     "execution_count": 12,
     "metadata": {},
     "output_type": "execute_result"
    }
   ],
   "source": [
    "train_df.dtypes"
   ]
  },
  {
   "cell_type": "code",
   "execution_count": 13,
   "metadata": {
    "execution": {
     "iopub.execute_input": "2022-08-03T07:26:34.680628Z",
     "iopub.status.busy": "2022-08-03T07:26:34.679966Z",
     "iopub.status.idle": "2022-08-03T07:26:34.691951Z",
     "shell.execute_reply": "2022-08-03T07:26:34.692466Z",
     "shell.execute_reply.started": "2022-08-03T07:24:03.646909Z"
    },
    "papermill": {
     "duration": 0.091738,
     "end_time": "2022-08-03T07:26:34.692646",
     "exception": false,
     "start_time": "2022-08-03T07:26:34.600908",
     "status": "completed"
    },
    "tags": []
   },
   "outputs": [],
   "source": [
    "train_df['Id'] = train_df['Id'].astype(str)\n",
    "train_df['DistrictId'] = train_df['DistrictId'].astype(str)"
   ]
  },
  {
   "cell_type": "markdown",
   "metadata": {
    "papermill": {
     "duration": 0.076453,
     "end_time": "2022-08-03T07:26:34.845651",
     "exception": false,
     "start_time": "2022-08-03T07:26:34.769198",
     "status": "completed"
    },
    "tags": []
   },
   "source": [
    "## 1. EDA  <a class='anchor' id='eda'>\n",
    "Делаем EDA для:\n",
    "- Исправления выбросов\n",
    "- Заполнения NaN\n",
    "- Идей для генерации новых фич"
   ]
  },
  {
   "cell_type": "markdown",
   "metadata": {
    "papermill": {
     "duration": 0.100599,
     "end_time": "2022-08-03T07:26:35.034222",
     "exception": false,
     "start_time": "2022-08-03T07:26:34.933623",
     "status": "completed"
    },
    "tags": []
   },
   "source": [
    "**Целевая переменная**"
   ]
  },
  {
   "cell_type": "code",
   "execution_count": 14,
   "metadata": {
    "execution": {
     "iopub.execute_input": "2022-08-03T07:26:35.189242Z",
     "iopub.status.busy": "2022-08-03T07:26:35.188578Z",
     "iopub.status.idle": "2022-08-03T07:26:35.478423Z",
     "shell.execute_reply": "2022-08-03T07:26:35.478903Z",
     "shell.execute_reply.started": "2022-08-03T07:24:05.813372Z"
    },
    "papermill": {
     "duration": 0.368901,
     "end_time": "2022-08-03T07:26:35.479083",
     "exception": false,
     "start_time": "2022-08-03T07:26:35.110182",
     "status": "completed"
    },
    "tags": []
   },
   "outputs": [
    {
     "data": {
      "image/png": "[encoded data removed]",
      "text/plain": [
       "<Figure size 1152x576 with 1 Axes>"
      ]
     },
     "metadata": {
      "needs_background": "light"
     },
     "output_type": "display_data"
    }
   ],
   "source": [
    "plt.figure(figsize = (16, 8))\n",
    "\n",
    "train_df['Price'].hist(bins=30)\n",
    "plt.ylabel('Count')\n",
    "plt.xlabel('Price')\n",
    "\n",
    "plt.title('Target distribution')\n",
    "plt.show()"
   ]
  },
  {
   "cell_type": "markdown",
   "metadata": {
    "papermill": {
     "duration": 0.076511,
     "end_time": "2022-08-03T07:26:35.634234",
     "exception": false,
     "start_time": "2022-08-03T07:26:35.557723",
     "status": "completed"
    },
    "tags": []
   },
   "source": [
    "**Количественные переменные**"
   ]
  },
  {
   "cell_type": "code",
   "execution_count": 15,
   "metadata": {
    "_kg_hide-output": true,
    "execution": {
     "iopub.execute_input": "2022-08-03T07:26:35.791287Z",
     "iopub.status.busy": "2022-08-03T07:26:35.790632Z",
     "iopub.status.idle": "2022-08-03T07:26:35.793691Z",
     "shell.execute_reply": "2022-08-03T07:26:35.794211Z",
     "shell.execute_reply.started": "2022-08-03T07:24:06.280639Z"
    },
    "papermill": {
     "duration": 0.083192,
     "end_time": "2022-08-03T07:26:35.794356",
     "exception": false,
     "start_time": "2022-08-03T07:26:35.711164",
     "status": "completed"
    },
    "tags": []
   },
   "outputs": [],
   "source": [
    "# train_df.describe()"
   ]
  },
  {
   "cell_type": "markdown",
   "metadata": {
    "papermill": {
     "duration": 0.076761,
     "end_time": "2022-08-03T07:26:35.947643",
     "exception": false,
     "start_time": "2022-08-03T07:26:35.870882",
     "status": "completed"
    },
    "tags": []
   },
   "source": [
    "**Номинативные переменные**"
   ]
  },
  {
   "cell_type": "code",
   "execution_count": 16,
   "metadata": {
    "execution": {
     "iopub.execute_input": "2022-08-03T07:26:36.104938Z",
     "iopub.status.busy": "2022-08-03T07:26:36.104292Z",
     "iopub.status.idle": "2022-08-03T07:26:36.107262Z",
     "shell.execute_reply": "2022-08-03T07:26:36.107766Z",
     "shell.execute_reply.started": "2022-08-03T07:24:06.620841Z"
    },
    "papermill": {
     "duration": 0.083115,
     "end_time": "2022-08-03T07:26:36.107915",
     "exception": false,
     "start_time": "2022-08-03T07:26:36.024800",
     "status": "completed"
    },
    "tags": []
   },
   "outputs": [],
   "source": [
    "# train_df.select_dtypes(include='object').columns.tolist()"
   ]
  },
  {
   "cell_type": "code",
   "execution_count": 17,
   "metadata": {
    "execution": {
     "iopub.execute_input": "2022-08-03T07:26:36.266832Z",
     "iopub.status.busy": "2022-08-03T07:26:36.266176Z",
     "iopub.status.idle": "2022-08-03T07:26:36.269449Z",
     "shell.execute_reply": "2022-08-03T07:26:36.270019Z",
     "shell.execute_reply.started": "2022-08-03T07:24:06.962465Z"
    },
    "papermill": {
     "duration": 0.085066,
     "end_time": "2022-08-03T07:26:36.270190",
     "exception": false,
     "start_time": "2022-08-03T07:26:36.185124",
     "status": "completed"
    },
    "tags": []
   },
   "outputs": [],
   "source": [
    "# train_df['DistrictId'].value_counts()"
   ]
  },
  {
   "cell_type": "code",
   "execution_count": 18,
   "metadata": {
    "execution": {
     "iopub.execute_input": "2022-08-03T07:26:36.427865Z",
     "iopub.status.busy": "2022-08-03T07:26:36.427255Z",
     "iopub.status.idle": "2022-08-03T07:26:36.430773Z",
     "shell.execute_reply": "2022-08-03T07:26:36.431414Z",
     "shell.execute_reply.started": "2022-08-03T07:24:07.299266Z"
    },
    "papermill": {
     "duration": 0.084467,
     "end_time": "2022-08-03T07:26:36.431563",
     "exception": false,
     "start_time": "2022-08-03T07:26:36.347096",
     "status": "completed"
    },
    "tags": []
   },
   "outputs": [],
   "source": [
    "# train_df['Ecology_2'].value_counts()"
   ]
  },
  {
   "cell_type": "code",
   "execution_count": 19,
   "metadata": {
    "execution": {
     "iopub.execute_input": "2022-08-03T07:26:36.591480Z",
     "iopub.status.busy": "2022-08-03T07:26:36.590850Z",
     "iopub.status.idle": "2022-08-03T07:26:36.594459Z",
     "shell.execute_reply": "2022-08-03T07:26:36.595063Z",
     "shell.execute_reply.started": "2022-08-03T07:24:08.923877Z"
    },
    "papermill": {
     "duration": 0.083921,
     "end_time": "2022-08-03T07:26:36.595213",
     "exception": false,
     "start_time": "2022-08-03T07:26:36.511292",
     "status": "completed"
    },
    "tags": []
   },
   "outputs": [],
   "source": [
    "# train_df['Ecology_3'].value_counts()"
   ]
  },
  {
   "cell_type": "code",
   "execution_count": 20,
   "metadata": {
    "execution": {
     "iopub.execute_input": "2022-08-03T07:26:36.751884Z",
     "iopub.status.busy": "2022-08-03T07:26:36.751227Z",
     "iopub.status.idle": "2022-08-03T07:26:36.754951Z",
     "shell.execute_reply": "2022-08-03T07:26:36.755550Z",
     "shell.execute_reply.started": "2022-08-03T07:24:09.843217Z"
    },
    "papermill": {
     "duration": 0.08385,
     "end_time": "2022-08-03T07:26:36.755698",
     "exception": false,
     "start_time": "2022-08-03T07:26:36.671848",
     "status": "completed"
    },
    "tags": []
   },
   "outputs": [],
   "source": [
    "# train_df['Shops_2'].value_counts()"
   ]
  },
  {
   "cell_type": "markdown",
   "metadata": {
    "papermill": {
     "duration": 0.076206,
     "end_time": "2022-08-03T07:26:36.908360",
     "exception": false,
     "start_time": "2022-08-03T07:26:36.832154",
     "status": "completed"
    },
    "tags": []
   },
   "source": [
    "### 2. Обработка выбросов  <a class='anchor' id='outlier'>\n",
    "Что можно делать с ними?\n",
    "1. Выкинуть эти данные (только на трейне, на тесте ничего не выкидываем)\n",
    "2. Заменять выбросы разными методами (медианы, средние значения, np.clip и т.д.)\n",
    "3. Делать/не делать дополнительную фичу\n",
    "4. Ничего не делать"
   ]
  },
  {
   "cell_type": "markdown",
   "metadata": {
    "papermill": {
     "duration": 0.077122,
     "end_time": "2022-08-03T07:26:37.063090",
     "exception": false,
     "start_time": "2022-08-03T07:26:36.985968",
     "status": "completed"
    },
    "tags": []
   },
   "source": [
    "**Rooms**"
   ]
  },
  {
   "cell_type": "code",
   "execution_count": 21,
   "metadata": {
    "execution": {
     "iopub.execute_input": "2022-08-03T07:26:37.219891Z",
     "iopub.status.busy": "2022-08-03T07:26:37.219271Z",
     "iopub.status.idle": "2022-08-03T07:26:37.222879Z",
     "shell.execute_reply": "2022-08-03T07:26:37.223512Z",
     "shell.execute_reply.started": "2022-08-03T07:24:10.143978Z"
    },
    "papermill": {
     "duration": 0.083472,
     "end_time": "2022-08-03T07:26:37.223659",
     "exception": false,
     "start_time": "2022-08-03T07:26:37.140187",
     "status": "completed"
    },
    "scrolled": true,
    "tags": []
   },
   "outputs": [],
   "source": [
    "# train_df['Rooms'].value_counts()"
   ]
  },
  {
   "cell_type": "code",
   "execution_count": 22,
   "metadata": {
    "execution": {
     "iopub.execute_input": "2022-08-03T07:26:37.380363Z",
     "iopub.status.busy": "2022-08-03T07:26:37.379677Z",
     "iopub.status.idle": "2022-08-03T07:26:37.382846Z",
     "shell.execute_reply": "2022-08-03T07:26:37.383466Z",
     "shell.execute_reply.started": "2022-08-03T07:24:10.486338Z"
    },
    "papermill": {
     "duration": 0.083365,
     "end_time": "2022-08-03T07:26:37.383629",
     "exception": false,
     "start_time": "2022-08-03T07:26:37.300264",
     "status": "completed"
    },
    "tags": []
   },
   "outputs": [],
   "source": [
    "# train_df['Rooms_outlier'] = 0\n",
    "# train_df.loc[(train_df['Rooms'] == 0) | (train_df['Rooms'] >= 6), 'Rooms_outlier'] = 1\n",
    "# train_df.head()"
   ]
  },
  {
   "cell_type": "code",
   "execution_count": 23,
   "metadata": {
    "execution": {
     "iopub.execute_input": "2022-08-03T07:26:37.540269Z",
     "iopub.status.busy": "2022-08-03T07:26:37.539615Z",
     "iopub.status.idle": "2022-08-03T07:26:37.542903Z",
     "shell.execute_reply": "2022-08-03T07:26:37.543541Z",
     "shell.execute_reply.started": "2022-08-03T07:24:11.200665Z"
    },
    "papermill": {
     "duration": 0.082584,
     "end_time": "2022-08-03T07:26:37.543696",
     "exception": false,
     "start_time": "2022-08-03T07:26:37.461112",
     "status": "completed"
    },
    "tags": []
   },
   "outputs": [],
   "source": [
    "# train_df.loc[train_df['Rooms'] == 0, 'Rooms'] = 1\n",
    "# train_df.loc[train_df['Rooms'] >= 6, 'Rooms'] = train_df['Rooms'].median()"
   ]
  },
  {
   "cell_type": "code",
   "execution_count": 24,
   "metadata": {
    "execution": {
     "iopub.execute_input": "2022-08-03T07:26:37.699905Z",
     "iopub.status.busy": "2022-08-03T07:26:37.699277Z",
     "iopub.status.idle": "2022-08-03T07:26:37.703030Z",
     "shell.execute_reply": "2022-08-03T07:26:37.703557Z",
     "shell.execute_reply.started": "2022-08-03T07:24:11.773103Z"
    },
    "papermill": {
     "duration": 0.083431,
     "end_time": "2022-08-03T07:26:37.703708",
     "exception": false,
     "start_time": "2022-08-03T07:26:37.620277",
     "status": "completed"
    },
    "tags": []
   },
   "outputs": [],
   "source": [
    "# train_df['Rooms'].value_counts()"
   ]
  },
  {
   "cell_type": "markdown",
   "metadata": {
    "papermill": {
     "duration": 0.07551,
     "end_time": "2022-08-03T07:26:37.855752",
     "exception": false,
     "start_time": "2022-08-03T07:26:37.780242",
     "status": "completed"
    },
    "tags": []
   },
   "source": [
    "**KitchenSquare** "
   ]
  },
  {
   "cell_type": "code",
   "execution_count": 25,
   "metadata": {
    "execution": {
     "iopub.execute_input": "2022-08-03T07:26:38.012879Z",
     "iopub.status.busy": "2022-08-03T07:26:38.012173Z",
     "iopub.status.idle": "2022-08-03T07:26:38.015466Z",
     "shell.execute_reply": "2022-08-03T07:26:38.015981Z",
     "shell.execute_reply.started": "2022-08-03T07:24:14.144616Z"
    },
    "papermill": {
     "duration": 0.084026,
     "end_time": "2022-08-03T07:26:38.016209",
     "exception": false,
     "start_time": "2022-08-03T07:26:37.932183",
     "status": "completed"
    },
    "tags": []
   },
   "outputs": [],
   "source": [
    "# train_df['KitchenSquare'].value_counts()"
   ]
  },
  {
   "cell_type": "code",
   "execution_count": 26,
   "metadata": {
    "execution": {
     "iopub.execute_input": "2022-08-03T07:26:38.175789Z",
     "iopub.status.busy": "2022-08-03T07:26:38.175026Z",
     "iopub.status.idle": "2022-08-03T07:26:38.178712Z",
     "shell.execute_reply": "2022-08-03T07:26:38.179294Z",
     "shell.execute_reply.started": "2022-08-03T07:24:18.330050Z"
    },
    "papermill": {
     "duration": 0.084191,
     "end_time": "2022-08-03T07:26:38.179444",
     "exception": false,
     "start_time": "2022-08-03T07:26:38.095253",
     "status": "completed"
    },
    "tags": []
   },
   "outputs": [],
   "source": [
    "# train_df['KitchenSquare'].quantile(.975), train_df['KitchenSquare'].quantile(.025)"
   ]
  },
  {
   "cell_type": "code",
   "execution_count": 27,
   "metadata": {
    "execution": {
     "iopub.execute_input": "2022-08-03T07:26:38.337322Z",
     "iopub.status.busy": "2022-08-03T07:26:38.336509Z",
     "iopub.status.idle": "2022-08-03T07:26:38.339429Z",
     "shell.execute_reply": "2022-08-03T07:26:38.340012Z",
     "shell.execute_reply.started": "2022-08-03T07:24:19.420488Z"
    },
    "papermill": {
     "duration": 0.082934,
     "end_time": "2022-08-03T07:26:38.340172",
     "exception": false,
     "start_time": "2022-08-03T07:26:38.257238",
     "status": "completed"
    },
    "tags": []
   },
   "outputs": [],
   "source": [
    "# condition = (train_df['KitchenSquare'].isna()) \\\n",
    "#              | (train_df['KitchenSquare'] > train_df['KitchenSquare'].quantile(.975))\n",
    "        \n",
    "# train_df.loc[condition, 'KitchenSquare'] = train_df['KitchenSquare'].median()\n",
    "\n",
    "# train_df.loc[train_df['KitchenSquare'] < 3, 'KitchenSquare'] = 3"
   ]
  },
  {
   "cell_type": "code",
   "execution_count": 28,
   "metadata": {
    "execution": {
     "iopub.execute_input": "2022-08-03T07:26:38.499267Z",
     "iopub.status.busy": "2022-08-03T07:26:38.498618Z",
     "iopub.status.idle": "2022-08-03T07:26:38.502266Z",
     "shell.execute_reply": "2022-08-03T07:26:38.502890Z",
     "shell.execute_reply.started": "2022-08-03T07:24:22.207980Z"
    },
    "papermill": {
     "duration": 0.084095,
     "end_time": "2022-08-03T07:26:38.503067",
     "exception": false,
     "start_time": "2022-08-03T07:26:38.418972",
     "status": "completed"
    },
    "tags": []
   },
   "outputs": [],
   "source": [
    "# train_df['KitchenSquare'].value_counts()"
   ]
  },
  {
   "cell_type": "markdown",
   "metadata": {
    "papermill": {
     "duration": 0.076304,
     "end_time": "2022-08-03T07:26:38.656367",
     "exception": false,
     "start_time": "2022-08-03T07:26:38.580063",
     "status": "completed"
    },
    "tags": []
   },
   "source": [
    "**HouseFloor, Floor**"
   ]
  },
  {
   "cell_type": "code",
   "execution_count": 29,
   "metadata": {
    "execution": {
     "iopub.execute_input": "2022-08-03T07:26:38.813052Z",
     "iopub.status.busy": "2022-08-03T07:26:38.812073Z",
     "iopub.status.idle": "2022-08-03T07:26:38.816244Z",
     "shell.execute_reply": "2022-08-03T07:26:38.816809Z",
     "shell.execute_reply.started": "2022-08-03T07:24:22.512852Z"
    },
    "papermill": {
     "duration": 0.083918,
     "end_time": "2022-08-03T07:26:38.816958",
     "exception": false,
     "start_time": "2022-08-03T07:26:38.733040",
     "status": "completed"
    },
    "scrolled": true,
    "tags": []
   },
   "outputs": [],
   "source": [
    "# train_df['HouseFloor'].sort_values().unique()"
   ]
  },
  {
   "cell_type": "code",
   "execution_count": 30,
   "metadata": {
    "execution": {
     "iopub.execute_input": "2022-08-03T07:26:38.974920Z",
     "iopub.status.busy": "2022-08-03T07:26:38.973871Z",
     "iopub.status.idle": "2022-08-03T07:26:38.977821Z",
     "shell.execute_reply": "2022-08-03T07:26:38.978407Z",
     "shell.execute_reply.started": "2022-08-03T07:24:22.839096Z"
    },
    "papermill": {
     "duration": 0.08426,
     "end_time": "2022-08-03T07:26:38.978569",
     "exception": false,
     "start_time": "2022-08-03T07:26:38.894309",
     "status": "completed"
    },
    "scrolled": true,
    "tags": []
   },
   "outputs": [],
   "source": [
    "# train_df['Floor'].sort_values().unique()"
   ]
  },
  {
   "cell_type": "code",
   "execution_count": 31,
   "metadata": {
    "execution": {
     "iopub.execute_input": "2022-08-03T07:26:39.136519Z",
     "iopub.status.busy": "2022-08-03T07:26:39.135487Z",
     "iopub.status.idle": "2022-08-03T07:26:39.139209Z",
     "shell.execute_reply": "2022-08-03T07:26:39.139750Z",
     "shell.execute_reply.started": "2022-08-03T07:24:23.192951Z"
    },
    "papermill": {
     "duration": 0.083806,
     "end_time": "2022-08-03T07:26:39.139898",
     "exception": false,
     "start_time": "2022-08-03T07:26:39.056092",
     "status": "completed"
    },
    "tags": []
   },
   "outputs": [],
   "source": [
    "# (train_df['Floor'] > train_df['HouseFloor']).sum()"
   ]
  },
  {
   "cell_type": "code",
   "execution_count": 32,
   "metadata": {
    "execution": {
     "iopub.execute_input": "2022-08-03T07:26:39.297763Z",
     "iopub.status.busy": "2022-08-03T07:26:39.296715Z",
     "iopub.status.idle": "2022-08-03T07:26:39.300357Z",
     "shell.execute_reply": "2022-08-03T07:26:39.300920Z",
     "shell.execute_reply.started": "2022-08-03T07:24:23.588753Z"
    },
    "papermill": {
     "duration": 0.084369,
     "end_time": "2022-08-03T07:26:39.301102",
     "exception": false,
     "start_time": "2022-08-03T07:26:39.216733",
     "status": "completed"
    },
    "tags": []
   },
   "outputs": [],
   "source": [
    "# train_df['HouseFloor_outlier'] = 0\n",
    "# train_df.loc[train_df['HouseFloor'] == 0, 'HouseFloor_outlier'] = 1\n",
    "# train_df.loc[train_df['Floor'] > train_df['HouseFloor'], 'HouseFloor_outlier'] = 1"
   ]
  },
  {
   "cell_type": "code",
   "execution_count": 33,
   "metadata": {
    "execution": {
     "iopub.execute_input": "2022-08-03T07:26:39.458196Z",
     "iopub.status.busy": "2022-08-03T07:26:39.457209Z",
     "iopub.status.idle": "2022-08-03T07:26:39.462043Z",
     "shell.execute_reply": "2022-08-03T07:26:39.461510Z",
     "shell.execute_reply.started": "2022-08-03T07:24:24.330764Z"
    },
    "papermill": {
     "duration": 0.084404,
     "end_time": "2022-08-03T07:26:39.462182",
     "exception": false,
     "start_time": "2022-08-03T07:26:39.377778",
     "status": "completed"
    },
    "tags": []
   },
   "outputs": [],
   "source": [
    "# train_df.loc[train_df['HouseFloor'] == 0, 'HouseFloor'] = train_df['HouseFloor'].median()"
   ]
  },
  {
   "cell_type": "code",
   "execution_count": 34,
   "metadata": {
    "execution": {
     "iopub.execute_input": "2022-08-03T07:26:39.620851Z",
     "iopub.status.busy": "2022-08-03T07:26:39.620213Z",
     "iopub.status.idle": "2022-08-03T07:26:39.622812Z",
     "shell.execute_reply": "2022-08-03T07:26:39.623293Z",
     "shell.execute_reply.started": "2022-08-03T07:24:25.831644Z"
    },
    "papermill": {
     "duration": 0.083275,
     "end_time": "2022-08-03T07:26:39.623446",
     "exception": false,
     "start_time": "2022-08-03T07:26:39.540171",
     "status": "completed"
    },
    "tags": []
   },
   "outputs": [],
   "source": [
    "# floor_outliers = train_df.loc[train_df['Floor'] > train_df['HouseFloor']].index\n",
    "# floor_outliers"
   ]
  },
  {
   "cell_type": "code",
   "execution_count": 35,
   "metadata": {
    "execution": {
     "iopub.execute_input": "2022-08-03T07:26:39.781843Z",
     "iopub.status.busy": "2022-08-03T07:26:39.780853Z",
     "iopub.status.idle": "2022-08-03T07:26:39.782846Z",
     "shell.execute_reply": "2022-08-03T07:26:39.783530Z",
     "shell.execute_reply.started": "2022-08-03T07:24:26.160030Z"
    },
    "papermill": {
     "duration": 0.083388,
     "end_time": "2022-08-03T07:26:39.783686",
     "exception": false,
     "start_time": "2022-08-03T07:26:39.700298",
     "status": "completed"
    },
    "tags": []
   },
   "outputs": [],
   "source": [
    "# train_df.loc[floor_outliers, 'Floor'] = train_df.loc[floor_outliers, 'HouseFloor']\\\n",
    "#                                                 .apply(lambda x: random.randint(1, x))"
   ]
  },
  {
   "cell_type": "code",
   "execution_count": 36,
   "metadata": {
    "execution": {
     "iopub.execute_input": "2022-08-03T07:26:39.942387Z",
     "iopub.status.busy": "2022-08-03T07:26:39.941701Z",
     "iopub.status.idle": "2022-08-03T07:26:39.944890Z",
     "shell.execute_reply": "2022-08-03T07:26:39.945525Z",
     "shell.execute_reply.started": "2022-08-03T07:24:26.536765Z"
    },
    "papermill": {
     "duration": 0.085126,
     "end_time": "2022-08-03T07:26:39.945675",
     "exception": false,
     "start_time": "2022-08-03T07:26:39.860549",
     "status": "completed"
    },
    "tags": []
   },
   "outputs": [],
   "source": [
    "# (train_df['Floor'] > train_df['HouseFloor']).sum()"
   ]
  },
  {
   "cell_type": "markdown",
   "metadata": {
    "papermill": {
     "duration": 0.077475,
     "end_time": "2022-08-03T07:26:40.100586",
     "exception": false,
     "start_time": "2022-08-03T07:26:40.023111",
     "status": "completed"
    },
    "tags": []
   },
   "source": [
    "**HouseYear**"
   ]
  },
  {
   "cell_type": "code",
   "execution_count": 37,
   "metadata": {
    "execution": {
     "iopub.execute_input": "2022-08-03T07:26:40.258815Z",
     "iopub.status.busy": "2022-08-03T07:26:40.257908Z",
     "iopub.status.idle": "2022-08-03T07:26:40.261433Z",
     "shell.execute_reply": "2022-08-03T07:26:40.261968Z",
     "shell.execute_reply.started": "2022-08-03T07:24:26.884971Z"
    },
    "papermill": {
     "duration": 0.084247,
     "end_time": "2022-08-03T07:26:40.262162",
     "exception": false,
     "start_time": "2022-08-03T07:26:40.177915",
     "status": "completed"
    },
    "tags": []
   },
   "outputs": [],
   "source": [
    "# train_df['HouseYear'].sort_values(ascending=False)"
   ]
  },
  {
   "cell_type": "code",
   "execution_count": 38,
   "metadata": {
    "execution": {
     "iopub.execute_input": "2022-08-03T07:26:40.420547Z",
     "iopub.status.busy": "2022-08-03T07:26:40.419890Z",
     "iopub.status.idle": "2022-08-03T07:26:40.423100Z",
     "shell.execute_reply": "2022-08-03T07:26:40.422514Z",
     "shell.execute_reply.started": "2022-08-03T07:24:27.440104Z"
    },
    "papermill": {
     "duration": 0.084012,
     "end_time": "2022-08-03T07:26:40.423218",
     "exception": false,
     "start_time": "2022-08-03T07:26:40.339206",
     "status": "completed"
    },
    "tags": []
   },
   "outputs": [],
   "source": [
    "# train_df.loc[train_df['HouseYear'] > 2020, 'HouseYear'] = 2020"
   ]
  },
  {
   "cell_type": "markdown",
   "metadata": {
    "papermill": {
     "duration": 0.078014,
     "end_time": "2022-08-03T07:26:40.578736",
     "exception": false,
     "start_time": "2022-08-03T07:26:40.500722",
     "status": "completed"
    },
    "tags": []
   },
   "source": [
    "### 3. Обработка пропусков  <a class='anchor' id='nan'>"
   ]
  },
  {
   "cell_type": "code",
   "execution_count": 39,
   "metadata": {
    "execution": {
     "iopub.execute_input": "2022-08-03T07:26:40.735544Z",
     "iopub.status.busy": "2022-08-03T07:26:40.734913Z",
     "iopub.status.idle": "2022-08-03T07:26:40.738029Z",
     "shell.execute_reply": "2022-08-03T07:26:40.738641Z",
     "shell.execute_reply.started": "2022-08-03T07:24:27.909903Z"
    },
    "papermill": {
     "duration": 0.083047,
     "end_time": "2022-08-03T07:26:40.738780",
     "exception": false,
     "start_time": "2022-08-03T07:26:40.655733",
     "status": "completed"
    },
    "tags": []
   },
   "outputs": [],
   "source": [
    "# train_df.isna().sum()"
   ]
  },
  {
   "cell_type": "code",
   "execution_count": 40,
   "metadata": {
    "execution": {
     "iopub.execute_input": "2022-08-03T07:26:40.895584Z",
     "iopub.status.busy": "2022-08-03T07:26:40.894843Z",
     "iopub.status.idle": "2022-08-03T07:26:40.898068Z",
     "shell.execute_reply": "2022-08-03T07:26:40.898559Z",
     "shell.execute_reply.started": "2022-08-03T07:24:29.755317Z"
    },
    "papermill": {
     "duration": 0.083115,
     "end_time": "2022-08-03T07:26:40.898707",
     "exception": false,
     "start_time": "2022-08-03T07:26:40.815592",
     "status": "completed"
    },
    "tags": []
   },
   "outputs": [],
   "source": [
    "# train_df[['Square', 'LifeSquare', 'KitchenSquare']].head(10)"
   ]
  },
  {
   "cell_type": "markdown",
   "metadata": {
    "papermill": {
     "duration": 0.076124,
     "end_time": "2022-08-03T07:26:41.051816",
     "exception": false,
     "start_time": "2022-08-03T07:26:40.975692",
     "status": "completed"
    },
    "tags": []
   },
   "source": [
    "**LifeSquare**"
   ]
  },
  {
   "cell_type": "code",
   "execution_count": 41,
   "metadata": {
    "execution": {
     "iopub.execute_input": "2022-08-03T07:26:41.249950Z",
     "iopub.status.busy": "2022-08-03T07:26:41.248844Z",
     "iopub.status.idle": "2022-08-03T07:26:41.252288Z",
     "shell.execute_reply": "2022-08-03T07:26:41.251592Z",
     "shell.execute_reply.started": "2022-08-03T07:24:30.055701Z"
    },
    "papermill": {
     "duration": 0.116894,
     "end_time": "2022-08-03T07:26:41.252411",
     "exception": false,
     "start_time": "2022-08-03T07:26:41.135517",
     "status": "completed"
    },
    "tags": []
   },
   "outputs": [],
   "source": [
    "# train_df['LifeSquare_nan'] = train_df['LifeSquare'].isna() * 1\n",
    "\n",
    "# condition = (train_df['LifeSquare'].isna()) \\\n",
    "#              & (~train_df['Square'].isna()) \\\n",
    "#              & (~train_df['KitchenSquare'].isna())\n",
    "        \n",
    "# train_df.loc[condition, 'LifeSquare'] = train_df.loc[condition, 'Square'] \\\n",
    "#                                             - train_df.loc[condition, 'KitchenSquare'] - 3"
   ]
  },
  {
   "cell_type": "markdown",
   "metadata": {
    "papermill": {
     "duration": 0.080636,
     "end_time": "2022-08-03T07:26:41.414563",
     "exception": false,
     "start_time": "2022-08-03T07:26:41.333927",
     "status": "completed"
    },
    "tags": []
   },
   "source": [
    "**Healthcare_1**"
   ]
  },
  {
   "cell_type": "code",
   "execution_count": 42,
   "metadata": {
    "execution": {
     "iopub.execute_input": "2022-08-03T07:26:41.594820Z",
     "iopub.status.busy": "2022-08-03T07:26:41.594129Z",
     "iopub.status.idle": "2022-08-03T07:26:41.598294Z",
     "shell.execute_reply": "2022-08-03T07:26:41.598899Z",
     "shell.execute_reply.started": "2022-08-03T07:24:30.396547Z"
    },
    "papermill": {
     "duration": 0.091262,
     "end_time": "2022-08-03T07:26:41.599084",
     "exception": false,
     "start_time": "2022-08-03T07:26:41.507822",
     "status": "completed"
    },
    "tags": []
   },
   "outputs": [],
   "source": [
    "# train_df.drop('Healthcare_1', axis=1, inplace=True)"
   ]
  },
  {
   "cell_type": "code",
   "execution_count": 43,
   "metadata": {
    "execution": {
     "iopub.execute_input": "2022-08-03T07:26:41.762848Z",
     "iopub.status.busy": "2022-08-03T07:26:41.761822Z",
     "iopub.status.idle": "2022-08-03T07:26:41.764246Z",
     "shell.execute_reply": "2022-08-03T07:26:41.765036Z",
     "shell.execute_reply.started": "2022-08-03T07:24:30.759974Z"
    },
    "papermill": {
     "duration": 0.087919,
     "end_time": "2022-08-03T07:26:41.765246",
     "exception": false,
     "start_time": "2022-08-03T07:26:41.677327",
     "status": "completed"
    },
    "tags": []
   },
   "outputs": [],
   "source": [
    "# class DataPreprocessing:\n",
    "#     \"\"\"Подготовка исходных данных\"\"\"\n",
    "\n",
    "#     def __init__(self):\n",
    "#         \"\"\"Параметры класса\"\"\"\n",
    "#         self.medians = None\n",
    "#         self.kitchen_square_quantile = None\n",
    "        \n",
    "#     def fit(self, X):\n",
    "#         \"\"\"Сохранение статистик\"\"\"       \n",
    "#         # Расчет медиан\n",
    "#         self.medians = X.median()\n",
    "#         self.kitchen_square_quantile = X['KitchenSquare'].quantile(.975)\n",
    "    \n",
    "#     def transform(self, X):\n",
    "#         \"\"\"Трансформация данных\"\"\"\n",
    "\n",
    "#         # Rooms\n",
    "#         X['Rooms_outlier'] = 0\n",
    "#         X.loc[(X['Rooms'] == 0) | (X['Rooms'] >= 6), 'Rooms_outlier'] = 1\n",
    "        \n",
    "#         X.loc[X['Rooms'] == 0, 'Rooms'] = 1\n",
    "#         X.loc[X['Rooms'] >= 6, 'Rooms'] = self.medians['Rooms']\n",
    "        \n",
    "#         # KitchenSquare\n",
    "#         condition = (X['KitchenSquare'].isna()) \\\n",
    "#                     | (X['KitchenSquare'] > self.kitchen_square_quantile)\n",
    "        \n",
    "#         X.loc[condition, 'KitchenSquare'] = self.medians['KitchenSquare']\n",
    "\n",
    "#         X.loc[X['KitchenSquare'] < 3, 'KitchenSquare'] = 3\n",
    "        \n",
    "#         # HouseFloor, Floor\n",
    "#         X['HouseFloor_outlier'] = 0\n",
    "#         X.loc[X['HouseFloor'] == 0, 'HouseFloor_outlier'] = 1\n",
    "#         X.loc[X['Floor'] > X['HouseFloor'], 'HouseFloor_outlier'] = 1\n",
    "        \n",
    "#         X.loc[X['HouseFloor'] == 0, 'HouseFloor'] = self.medians['HouseFloor']\n",
    "        \n",
    "#         floor_outliers = X.loc[X['Floor'] > X['HouseFloor']].index\n",
    "#         X.loc[floor_outliers, 'Floor'] = X.loc[floor_outliers, 'HouseFloor']\\\n",
    "#                                             .apply(lambda x: random.randint(1, x))\n",
    "        \n",
    "#         # HouseYear\n",
    "#         current_year = datetime.now().year\n",
    "        \n",
    "#         X['HouseYear_outlier'] = 0\n",
    "#         X.loc[X['HouseYear'] > current_year, 'HouseYear_outlier'] = 1\n",
    "        \n",
    "#         X.loc[X['HouseYear'] > current_year, 'HouseYear'] = current_year\n",
    "        \n",
    "#         # Healthcare_1\n",
    "#         if 'Healthcare_1' in X.columns:\n",
    "#             X.drop('Healthcare_1', axis=1, inplace=True)\n",
    "            \n",
    "#         # LifeSquare\n",
    "#         X['LifeSquare_nan'] = X['LifeSquare'].isna() * 1\n",
    "#         condition = (X['LifeSquare'].isna()) & \\\n",
    "#                       (~X['Square'].isna()) & \\\n",
    "#                       (~X['KitchenSquare'].isna())\n",
    "        \n",
    "#         X.loc[condition, 'LifeSquare'] = X.loc[condition, 'Square'] - X.loc[condition, 'KitchenSquare'] - 3\n",
    "        \n",
    "        \n",
    "#         X.fillna(self.medians, inplace=True)\n",
    "        \n",
    "#         return X"
   ]
  },
  {
   "cell_type": "markdown",
   "metadata": {
    "papermill": {
     "duration": 0.077382,
     "end_time": "2022-08-03T07:26:41.925790",
     "exception": false,
     "start_time": "2022-08-03T07:26:41.848408",
     "status": "completed"
    },
    "tags": []
   },
   "source": [
    "### 4. Построение новых признаков  <a class='anchor' id='feature'>"
   ]
  },
  {
   "cell_type": "markdown",
   "metadata": {
    "papermill": {
     "duration": 0.081449,
     "end_time": "2022-08-03T07:26:42.085214",
     "exception": false,
     "start_time": "2022-08-03T07:26:42.003765",
     "status": "completed"
    },
    "tags": []
   },
   "source": [
    "**Dummies**"
   ]
  },
  {
   "cell_type": "code",
   "execution_count": 44,
   "metadata": {
    "execution": {
     "iopub.execute_input": "2022-08-03T07:26:42.244554Z",
     "iopub.status.busy": "2022-08-03T07:26:42.243842Z",
     "iopub.status.idle": "2022-08-03T07:26:42.246601Z",
     "shell.execute_reply": "2022-08-03T07:26:42.247224Z",
     "shell.execute_reply.started": "2022-08-03T07:24:31.118910Z"
    },
    "papermill": {
     "duration": 0.08515,
     "end_time": "2022-08-03T07:26:42.247379",
     "exception": false,
     "start_time": "2022-08-03T07:26:42.162229",
     "status": "completed"
    },
    "tags": []
   },
   "outputs": [],
   "source": [
    "# binary_to_numbers = {'A': 0, 'B': 1}\n",
    "\n",
    "# train_df['Ecology_2'] = train_df['Ecology_2'].replace(binary_to_numbers)\n",
    "# train_df['Ecology_3'] = train_df['Ecology_3'].replace(binary_to_numbers)\n",
    "# train_df['Shops_2'] = train_df['Shops_2'].replace(binary_to_numbers)"
   ]
  },
  {
   "cell_type": "markdown",
   "metadata": {
    "papermill": {
     "duration": 0.076432,
     "end_time": "2022-08-03T07:26:42.401096",
     "exception": false,
     "start_time": "2022-08-03T07:26:42.324664",
     "status": "completed"
    },
    "tags": []
   },
   "source": [
    "**DistrictSize, IsDistrictLarge**"
   ]
  },
  {
   "cell_type": "code",
   "execution_count": 45,
   "metadata": {
    "execution": {
     "iopub.execute_input": "2022-08-03T07:26:42.560948Z",
     "iopub.status.busy": "2022-08-03T07:26:42.560315Z",
     "iopub.status.idle": "2022-08-03T07:26:42.563576Z",
     "shell.execute_reply": "2022-08-03T07:26:42.564150Z",
     "shell.execute_reply.started": "2022-08-03T07:24:31.494432Z"
    },
    "papermill": {
     "duration": 0.083978,
     "end_time": "2022-08-03T07:26:42.564299",
     "exception": false,
     "start_time": "2022-08-03T07:26:42.480321",
     "status": "completed"
    },
    "tags": []
   },
   "outputs": [],
   "source": [
    "# district_size = train_df['DistrictId'].value_counts().reset_index()\\\n",
    "#                     .rename(columns={'index':'DistrictId', 'DistrictId':'DistrictSize'})\n",
    "\n",
    "# district_size.head()"
   ]
  },
  {
   "cell_type": "code",
   "execution_count": 46,
   "metadata": {
    "execution": {
     "iopub.execute_input": "2022-08-03T07:26:42.722426Z",
     "iopub.status.busy": "2022-08-03T07:26:42.721777Z",
     "iopub.status.idle": "2022-08-03T07:26:42.724962Z",
     "shell.execute_reply": "2022-08-03T07:26:42.725615Z",
     "shell.execute_reply.started": "2022-08-03T07:24:31.865776Z"
    },
    "papermill": {
     "duration": 0.083794,
     "end_time": "2022-08-03T07:26:42.725759",
     "exception": false,
     "start_time": "2022-08-03T07:26:42.641965",
     "status": "completed"
    },
    "tags": []
   },
   "outputs": [],
   "source": [
    "# train_df = train_df.merge(district_size, on='DistrictId', how='left')\n",
    "# train_df.head()"
   ]
  },
  {
   "cell_type": "code",
   "execution_count": 47,
   "metadata": {
    "execution": {
     "iopub.execute_input": "2022-08-03T07:26:42.883151Z",
     "iopub.status.busy": "2022-08-03T07:26:42.882136Z",
     "iopub.status.idle": "2022-08-03T07:26:42.885801Z",
     "shell.execute_reply": "2022-08-03T07:26:42.886342Z",
     "shell.execute_reply.started": "2022-08-03T07:24:33.765552Z"
    },
    "papermill": {
     "duration": 0.083568,
     "end_time": "2022-08-03T07:26:42.886492",
     "exception": false,
     "start_time": "2022-08-03T07:26:42.802924",
     "status": "completed"
    },
    "tags": []
   },
   "outputs": [],
   "source": [
    "# (train_df['DistrictSize'] > 100).value_counts()"
   ]
  },
  {
   "cell_type": "code",
   "execution_count": 48,
   "metadata": {
    "execution": {
     "iopub.execute_input": "2022-08-03T07:26:43.048154Z",
     "iopub.status.busy": "2022-08-03T07:26:43.047483Z",
     "iopub.status.idle": "2022-08-03T07:26:43.049984Z",
     "shell.execute_reply": "2022-08-03T07:26:43.049374Z",
     "shell.execute_reply.started": "2022-08-03T07:24:34.060337Z"
    },
    "papermill": {
     "duration": 0.083151,
     "end_time": "2022-08-03T07:26:43.050119",
     "exception": false,
     "start_time": "2022-08-03T07:26:42.966968",
     "status": "completed"
    },
    "tags": []
   },
   "outputs": [],
   "source": [
    "# train_df['IsDistrictLarge'] = (train_df['DistrictSize'] > 100).astype(int)"
   ]
  },
  {
   "cell_type": "markdown",
   "metadata": {
    "papermill": {
     "duration": 0.076436,
     "end_time": "2022-08-03T07:26:43.204063",
     "exception": false,
     "start_time": "2022-08-03T07:26:43.127627",
     "status": "completed"
    },
    "tags": []
   },
   "source": [
    "**MedPriceByDistrict**"
   ]
  },
  {
   "cell_type": "code",
   "execution_count": 49,
   "metadata": {
    "execution": {
     "iopub.execute_input": "2022-08-03T07:26:43.360572Z",
     "iopub.status.busy": "2022-08-03T07:26:43.359921Z",
     "iopub.status.idle": "2022-08-03T07:26:43.363922Z",
     "shell.execute_reply": "2022-08-03T07:26:43.363440Z",
     "shell.execute_reply.started": "2022-08-03T07:24:34.458055Z"
    },
    "papermill": {
     "duration": 0.082828,
     "end_time": "2022-08-03T07:26:43.364060",
     "exception": false,
     "start_time": "2022-08-03T07:26:43.281232",
     "status": "completed"
    },
    "tags": []
   },
   "outputs": [],
   "source": [
    "# med_price_by_district = train_df.groupby(['DistrictId', 'Rooms'], as_index=False).agg({'Price':'median'})\\\n",
    "#                             .rename(columns={'Price':'MedPriceByDistrict'})\n",
    "\n",
    "# med_price_by_district.head()"
   ]
  },
  {
   "cell_type": "code",
   "execution_count": 50,
   "metadata": {
    "execution": {
     "iopub.execute_input": "2022-08-03T07:26:43.523575Z",
     "iopub.status.busy": "2022-08-03T07:26:43.522901Z",
     "iopub.status.idle": "2022-08-03T07:26:43.527196Z",
     "shell.execute_reply": "2022-08-03T07:26:43.526557Z",
     "shell.execute_reply.started": "2022-08-03T07:24:34.786990Z"
    },
    "papermill": {
     "duration": 0.084459,
     "end_time": "2022-08-03T07:26:43.527328",
     "exception": false,
     "start_time": "2022-08-03T07:26:43.442869",
     "status": "completed"
    },
    "tags": []
   },
   "outputs": [],
   "source": [
    "# med_price_by_district.shape"
   ]
  },
  {
   "cell_type": "code",
   "execution_count": 51,
   "metadata": {
    "execution": {
     "iopub.execute_input": "2022-08-03T07:26:43.684751Z",
     "iopub.status.busy": "2022-08-03T07:26:43.684095Z",
     "iopub.status.idle": "2022-08-03T07:26:43.687283Z",
     "shell.execute_reply": "2022-08-03T07:26:43.686632Z",
     "shell.execute_reply.started": "2022-08-03T07:24:35.369106Z"
    },
    "papermill": {
     "duration": 0.083534,
     "end_time": "2022-08-03T07:26:43.687409",
     "exception": false,
     "start_time": "2022-08-03T07:26:43.603875",
     "status": "completed"
    },
    "tags": []
   },
   "outputs": [],
   "source": [
    "# train_df = train_df.merge(med_price_by_district, on=['DistrictId', 'Rooms'], how='left')\n",
    "# train_df.head()"
   ]
  },
  {
   "cell_type": "markdown",
   "metadata": {
    "papermill": {
     "duration": 0.076404,
     "end_time": "2022-08-03T07:26:43.840266",
     "exception": false,
     "start_time": "2022-08-03T07:26:43.763862",
     "status": "completed"
    },
    "tags": []
   },
   "source": [
    "**MedPriceByFloorYear**"
   ]
  },
  {
   "cell_type": "code",
   "execution_count": 52,
   "metadata": {
    "execution": {
     "iopub.execute_input": "2022-08-03T07:26:43.996711Z",
     "iopub.status.busy": "2022-08-03T07:26:43.996081Z",
     "iopub.status.idle": "2022-08-03T07:26:44.000040Z",
     "shell.execute_reply": "2022-08-03T07:26:44.000578Z",
     "shell.execute_reply.started": "2022-08-03T07:24:35.789329Z"
    },
    "papermill": {
     "duration": 0.083756,
     "end_time": "2022-08-03T07:26:44.000723",
     "exception": false,
     "start_time": "2022-08-03T07:26:43.916967",
     "status": "completed"
    },
    "tags": []
   },
   "outputs": [],
   "source": [
    "# def floor_to_cat(X):\n",
    "\n",
    "#     X['floor_cat'] = 0\n",
    "\n",
    "#     X.loc[X['Floor'] <= 3, 'floor_cat'] = 1  \n",
    "#     X.loc[(X['Floor'] > 3) & (X['Floor'] <= 5), 'floor_cat'] = 2\n",
    "#     X.loc[(X['Floor'] > 5) & (X['Floor'] <= 9), 'floor_cat'] = 3\n",
    "#     X.loc[(X['Floor'] > 9) & (X['Floor'] <= 15), 'floor_cat'] = 4\n",
    "#     X.loc[X['Floor'] > 15, 'floor_cat'] = 5\n",
    "\n",
    "#     return X\n",
    "\n",
    "\n",
    "# def floor_to_cat_pandas(X):\n",
    "#     bins = [X['Floor'].min(), 3, 5, 9, 15, X['Floor'].max()]\n",
    "#     X['floor_cat'] = pd.cut(X['Floor'], bins=bins, labels=False)\n",
    "    \n",
    "#     X['floor_cat'].fillna(-1, inplace=True)\n",
    "#     return X\n",
    "\n",
    "\n",
    "# def year_to_cat(X):\n",
    "\n",
    "#     X['year_cat'] = 0\n",
    "\n",
    "#     X.loc[X['HouseYear'] <= 1941, 'year_cat'] = 1\n",
    "#     X.loc[(X['HouseYear'] > 1941) & (X['HouseYear'] <= 1945), 'year_cat'] = 2\n",
    "#     X.loc[(X['HouseYear'] > 1945) & (X['HouseYear'] <= 1980), 'year_cat'] = 3\n",
    "#     X.loc[(X['HouseYear'] > 1980) & (X['HouseYear'] <= 2000), 'year_cat'] = 4\n",
    "#     X.loc[(X['HouseYear'] > 2000) & (X['HouseYear'] <= 2010), 'year_cat'] = 5\n",
    "#     X.loc[(X['HouseYear'] > 2010), 'year_cat'] = 6\n",
    "\n",
    "#     return X\n",
    "\n",
    "\n",
    "# def year_to_cat_pandas(X):\n",
    "#     bins = [X['HouseYear'].min(), 1941, 1945, 1980, 2000, 2010, X['HouseYear'].max()]\n",
    "#     X['year_cat'] = pd.cut(X['HouseYear'], bins=bins, labels=False)\n",
    "    \n",
    "#     X['year_cat'].fillna(-1, inplace=True)\n",
    "#     return X"
   ]
  },
  {
   "cell_type": "code",
   "execution_count": 53,
   "metadata": {
    "execution": {
     "iopub.execute_input": "2022-08-03T07:26:44.158330Z",
     "iopub.status.busy": "2022-08-03T07:26:44.157698Z",
     "iopub.status.idle": "2022-08-03T07:26:44.161010Z",
     "shell.execute_reply": "2022-08-03T07:26:44.161569Z",
     "shell.execute_reply.started": "2022-08-03T07:24:37.480711Z"
    },
    "papermill": {
     "duration": 0.084297,
     "end_time": "2022-08-03T07:26:44.161716",
     "exception": false,
     "start_time": "2022-08-03T07:26:44.077419",
     "status": "completed"
    },
    "tags": []
   },
   "outputs": [],
   "source": [
    "# bins = [train_df['Floor'].min(), 3, 5, 9, 15, train_df['Floor'].max()]\n",
    "# pd.cut(train_df['Floor'], bins=bins, labels=False)"
   ]
  },
  {
   "cell_type": "code",
   "execution_count": 54,
   "metadata": {
    "execution": {
     "iopub.execute_input": "2022-08-03T07:26:44.319158Z",
     "iopub.status.busy": "2022-08-03T07:26:44.318497Z",
     "iopub.status.idle": "2022-08-03T07:26:44.321120Z",
     "shell.execute_reply": "2022-08-03T07:26:44.321723Z",
     "shell.execute_reply.started": "2022-08-03T07:24:37.993089Z"
    },
    "papermill": {
     "duration": 0.083253,
     "end_time": "2022-08-03T07:26:44.321869",
     "exception": false,
     "start_time": "2022-08-03T07:26:44.238616",
     "status": "completed"
    },
    "tags": []
   },
   "outputs": [],
   "source": [
    "# bins = [train_df['Floor'].min(), 3, 5, 9, 15, train_df['Floor'].max()]\n",
    "# pd.cut(train_df['Floor'], bins=bins)"
   ]
  },
  {
   "cell_type": "code",
   "execution_count": 55,
   "metadata": {
    "execution": {
     "iopub.execute_input": "2022-08-03T07:26:44.478689Z",
     "iopub.status.busy": "2022-08-03T07:26:44.478013Z",
     "iopub.status.idle": "2022-08-03T07:26:44.481117Z",
     "shell.execute_reply": "2022-08-03T07:26:44.481727Z",
     "shell.execute_reply.started": "2022-08-03T07:24:38.285646Z"
    },
    "papermill": {
     "duration": 0.083129,
     "end_time": "2022-08-03T07:26:44.481876",
     "exception": false,
     "start_time": "2022-08-03T07:26:44.398747",
     "status": "completed"
    },
    "tags": []
   },
   "outputs": [],
   "source": [
    "# train_df = year_to_cat(train_df)\n",
    "# train_df = floor_to_cat(train_df)\n",
    "# train_df.head()"
   ]
  },
  {
   "cell_type": "code",
   "execution_count": 56,
   "metadata": {
    "execution": {
     "iopub.execute_input": "2022-08-03T07:26:44.638568Z",
     "iopub.status.busy": "2022-08-03T07:26:44.637932Z",
     "iopub.status.idle": "2022-08-03T07:26:44.641264Z",
     "shell.execute_reply": "2022-08-03T07:26:44.641855Z",
     "shell.execute_reply.started": "2022-08-03T07:24:38.622067Z"
    },
    "papermill": {
     "duration": 0.08331,
     "end_time": "2022-08-03T07:26:44.642015",
     "exception": false,
     "start_time": "2022-08-03T07:26:44.558705",
     "status": "completed"
    },
    "tags": []
   },
   "outputs": [],
   "source": [
    "# med_price_by_floor_year = train_df.groupby(['year_cat', 'floor_cat'], as_index=False).agg({'Price':'median'}).\\\n",
    "#                                             rename(columns={'Price':'MedPriceByFloorYear'})\n",
    "# med_price_by_floor_year.head()"
   ]
  },
  {
   "cell_type": "code",
   "execution_count": 57,
   "metadata": {
    "execution": {
     "iopub.execute_input": "2022-08-03T07:26:44.798379Z",
     "iopub.status.busy": "2022-08-03T07:26:44.797755Z",
     "iopub.status.idle": "2022-08-03T07:26:44.800725Z",
     "shell.execute_reply": "2022-08-03T07:26:44.801289Z",
     "shell.execute_reply.started": "2022-08-03T07:24:38.955567Z"
    },
    "papermill": {
     "duration": 0.082551,
     "end_time": "2022-08-03T07:26:44.801436",
     "exception": false,
     "start_time": "2022-08-03T07:26:44.718885",
     "status": "completed"
    },
    "tags": []
   },
   "outputs": [],
   "source": [
    "# train_df = train_df.merge(med_price_by_floor_year, on=['year_cat', 'floor_cat'], how='left')\n",
    "# train_df.head()"
   ]
  },
  {
   "cell_type": "code",
   "execution_count": 58,
   "metadata": {
    "execution": {
     "iopub.execute_input": "2022-08-03T07:26:44.958622Z",
     "iopub.status.busy": "2022-08-03T07:26:44.957914Z",
     "iopub.status.idle": "2022-08-03T07:26:44.964974Z",
     "shell.execute_reply": "2022-08-03T07:26:44.964342Z",
     "shell.execute_reply.started": "2022-08-03T07:24:39.292163Z"
    },
    "papermill": {
     "duration": 0.086862,
     "end_time": "2022-08-03T07:26:44.965112",
     "exception": false,
     "start_time": "2022-08-03T07:26:44.878250",
     "status": "completed"
    },
    "tags": []
   },
   "outputs": [],
   "source": [
    "# class FeatureGenetator():\n",
    "#     \"\"\"Генерация новых фич\"\"\"\n",
    "    \n",
    "#     def __init__(self):\n",
    "#         self.DistrictId_counts = None\n",
    "#         self.binary_to_numbers = None\n",
    "#         self.med_price_by_district = None\n",
    "#         self.med_price_by_floor_year = None\n",
    "#         self.house_year_max = None\n",
    "#         self.floor_max = None\n",
    "#         self.house_year_min = None\n",
    "#         self.floor_min = None\n",
    "#         self.district_size = None\n",
    "        \n",
    "#     def fit(self, X, y=None):\n",
    "        \n",
    "#         X = X.copy()\n",
    "        \n",
    "#         # Binary features\n",
    "#         self.binary_to_numbers = {'A': 0, 'B': 1}\n",
    "        \n",
    "#         # DistrictID\n",
    "#         self.district_size = X['DistrictId'].value_counts().reset_index() \\\n",
    "#                                .rename(columns={'index':'DistrictId', 'DistrictId':'DistrictSize'})\n",
    "                \n",
    "#         # Target encoding\n",
    "#         ## District, Rooms\n",
    "#         df = X.copy()\n",
    "        \n",
    "#         if y is not None:\n",
    "#             df['Price'] = y.values\n",
    "            \n",
    "#             self.med_price_by_district = df.groupby(['DistrictId', 'Rooms'], as_index=False).agg({'Price':'median'})\\\n",
    "#                                             .rename(columns={'Price':'MedPriceByDistrict'})\n",
    "            \n",
    "#             self.med_price_by_district_median = self.med_price_by_district['MedPriceByDistrict'].median()\n",
    "            \n",
    "#         ## floor, year\n",
    "#         if y is not None:\n",
    "#             self.floor_max = df['Floor'].max()\n",
    "#             self.floor_min = df['Floor'].min()\n",
    "#             self.house_year_max = df['HouseYear'].max()\n",
    "#             self.house_year_min = df['HouseYear'].min()\n",
    "#             df['Price'] = y.values\n",
    "#             df = self.floor_to_cat(df)\n",
    "#             df = self.year_to_cat(df)\n",
    "#             self.med_price_by_floor_year = df.groupby(['year_cat', 'floor_cat'], as_index=False).agg({'Price':'median'}).\\\n",
    "#                                             rename(columns={'Price':'MedPriceByFloorYear'})\n",
    "#             self.med_price_by_floor_year_median = self.med_price_by_floor_year['MedPriceByFloorYear'].median()\n",
    "        \n",
    "\n",
    "        \n",
    "#     def transform(self, X):\n",
    "        \n",
    "#         # Binary features\n",
    "#         X['Ecology_2'] = X['Ecology_2'].map(self.binary_to_numbers)  # self.binary_to_numbers = {'A': 0, 'B': 1}\n",
    "#         X['Ecology_3'] = X['Ecology_3'].map(self.binary_to_numbers)\n",
    "#         X['Shops_2'] = X['Shops_2'].map(self.binary_to_numbers)\n",
    "        \n",
    "#         # DistrictId, IsDistrictLarge\n",
    "#         X = X.merge(self.district_size, on='DistrictId', how='left')\n",
    "        \n",
    "#         X['new_district'] = 0\n",
    "#         X.loc[X['DistrictSize'].isna(), 'new_district'] = 1\n",
    "        \n",
    "#         X['DistrictSize'].fillna(5, inplace=True)\n",
    "        \n",
    "#         X['IsDistrictLarge'] = (X['DistrictSize'] > 100).astype(int)\n",
    "        \n",
    "#         # More categorical features\n",
    "#         X = self.floor_to_cat(X)  # + столбец floor_cat\n",
    "#         X = self.year_to_cat(X)   # + столбец year_cat\n",
    "        \n",
    "#         # Target encoding\n",
    "#         if self.med_price_by_district is not None:\n",
    "#             X = X.merge(self.med_price_by_district, on=['DistrictId', 'Rooms'], how='left')\n",
    "#             X['MedPriceByDistrict'].fillna(self.med_price_by_district_median, inplace=True)\n",
    "            \n",
    "#         if self.med_price_by_floor_year is not None:\n",
    "#             X = X.merge(self.med_price_by_floor_year, on=['year_cat', 'floor_cat'], how='left')\n",
    "#             X['MedPriceByFloorYear'].fillna(self.med_price_by_floor_year_median, inplace=True)\n",
    "        \n",
    "#         return X\n",
    "    \n",
    "#     def floor_to_cat(self, X):\n",
    "#         bins = [self.floor_min, 3, 5, 9, 15, self.floor_max]\n",
    "#         X['floor_cat'] = pd.cut(X['Floor'], bins=bins, labels=False)\n",
    "\n",
    "#         X['floor_cat'].fillna(-1, inplace=True)\n",
    "#         return X\n",
    "     \n",
    "#     def year_to_cat(self, X):\n",
    "#         bins = [self.house_year_min, 1941, 1945, 1980, 2000, 2010, self.house_year_max]\n",
    "#         X['year_cat'] = pd.cut(X['HouseYear'], bins=bins, labels=False)\n",
    "\n",
    "#         X['year_cat'].fillna(-1, inplace=True)\n",
    "#         return X"
   ]
  },
  {
   "cell_type": "markdown",
   "metadata": {
    "papermill": {
     "duration": 0.076547,
     "end_time": "2022-08-03T07:26:45.118193",
     "exception": false,
     "start_time": "2022-08-03T07:26:45.041646",
     "status": "completed"
    },
    "tags": []
   },
   "source": [
    "### 5. Отбор признаков  <a class='anchor' id='feature_selection'>"
   ]
  },
  {
   "cell_type": "code",
   "execution_count": 59,
   "metadata": {
    "execution": {
     "iopub.execute_input": "2022-08-03T07:26:45.276254Z",
     "iopub.status.busy": "2022-08-03T07:26:45.275588Z",
     "iopub.status.idle": "2022-08-03T07:26:45.278158Z",
     "shell.execute_reply": "2022-08-03T07:26:45.278659Z",
     "shell.execute_reply.started": "2022-08-03T07:24:39.625173Z"
    },
    "papermill": {
     "duration": 0.083743,
     "end_time": "2022-08-03T07:26:45.278805",
     "exception": false,
     "start_time": "2022-08-03T07:26:45.195062",
     "status": "completed"
    },
    "tags": []
   },
   "outputs": [],
   "source": [
    "# train_df.columns.tolist()"
   ]
  },
  {
   "cell_type": "code",
   "execution_count": 60,
   "metadata": {
    "execution": {
     "iopub.execute_input": "2022-08-03T07:26:45.435294Z",
     "iopub.status.busy": "2022-08-03T07:26:45.434653Z",
     "iopub.status.idle": "2022-08-03T07:26:45.438301Z",
     "shell.execute_reply": "2022-08-03T07:26:45.438873Z",
     "shell.execute_reply.started": "2022-08-03T07:24:40.265555Z"
    },
    "papermill": {
     "duration": 0.083567,
     "end_time": "2022-08-03T07:26:45.439033",
     "exception": false,
     "start_time": "2022-08-03T07:26:45.355466",
     "status": "completed"
    },
    "tags": []
   },
   "outputs": [],
   "source": [
    "# feature_names = ['Rooms', 'Square', 'LifeSquare', 'KitchenSquare', 'Floor', 'HouseFloor', 'HouseYear',\n",
    "#                  'Ecology_1', 'Ecology_2', 'Ecology_3', 'Social_1', 'Social_2', 'Social_3',\n",
    "#                  'Helthcare_2', 'Shops_1', 'Shops_2']\n",
    "\n",
    "# new_feature_names = ['Rooms_outlier', 'HouseFloor_outlier', 'HouseYear_outlier', 'LifeSquare_nan', 'DistrictSize',\n",
    "#                      'new_district', 'IsDistrictLarge',  'MedPriceByDistrict', 'MedPriceByFloorYear']\n",
    "\n",
    "# target_name = 'Price'"
   ]
  },
  {
   "cell_type": "code",
   "execution_count": 61,
   "metadata": {
    "execution": {
     "iopub.execute_input": "2022-08-03T07:26:45.596317Z",
     "iopub.status.busy": "2022-08-03T07:26:45.595687Z",
     "iopub.status.idle": "2022-08-03T07:26:45.827087Z",
     "shell.execute_reply": "2022-08-03T07:26:45.826427Z",
     "shell.execute_reply.started": "2022-08-03T07:24:41.811525Z"
    },
    "papermill": {
     "duration": 0.311584,
     "end_time": "2022-08-03T07:26:45.827210",
     "exception": false,
     "start_time": "2022-08-03T07:26:45.515626",
     "status": "completed"
    },
    "tags": []
   },
   "outputs": [
    {
     "data": {
      "image/png": "[encoded data removed]",
      "text/plain": [
       "<Figure size 1152x576 with 1 Axes>"
      ]
     },
     "metadata": {
      "needs_background": "light"
     },
     "output_type": "display_data"
    }
   ],
   "source": [
    "correlation = train_df.corrwith(train_df['Price']).sort_values(ascending=False)\n",
    "correlation.drop('Price', inplace=True)\n",
    "\n",
    "plt.figure(figsize = (16, 8))\n",
    "plt.bar(correlation.index, correlation)\n",
    "plt.xticks(rotation='90')\n",
    "plt.xlabel('Features', fontsize=15)\n",
    "plt.ylabel('Correlation', fontsize=15)\n",
    "plt.title('Feature correlation', fontsize=15)\n",
    "plt.show()"
   ]
  },
  {
   "cell_type": "code",
   "execution_count": 62,
   "metadata": {
    "execution": {
     "iopub.execute_input": "2022-08-03T07:26:46.033480Z",
     "iopub.status.busy": "2022-08-03T07:26:46.032760Z",
     "iopub.status.idle": "2022-08-03T07:26:46.035252Z",
     "shell.execute_reply": "2022-08-03T07:26:46.035858Z",
     "shell.execute_reply.started": "2022-08-03T07:24:42.068287Z"
    },
    "papermill": {
     "duration": 0.131096,
     "end_time": "2022-08-03T07:26:46.036021",
     "exception": false,
     "start_time": "2022-08-03T07:26:45.904925",
     "status": "completed"
    },
    "tags": []
   },
   "outputs": [],
   "source": [
    "class DataPreprocessor:\n",
    "    def __init__(self):\n",
    "        self.medians = None\n",
    "        self.kitchen_square_max_value = None\n",
    "        self.kitchen_square_min_value = None\n",
    "        self.life_square_min_value = None\n",
    "        self.max_floor = None\n",
    "        self.districts_healthcare = None\n",
    "\n",
    "\n",
    "        \n",
    "    def fit(self, df):\n",
    "        # Medians and quantiles\n",
    "        self.medians = df.median() # medians\n",
    "        self.kitchen_square_max_value = np.quantile(df['KitchenSquare'], q=0.999) \n",
    "        self.kitchen_square_min_value = np.quantile(df['KitchenSquare'], q=0.001) \n",
    "        self.life_square_min_value = np.quantile(df['LifeSquare'], q=0.03) \n",
    "        self.max_floor = df['Floor'].max()\n",
    "        \n",
    "        \n",
    "        # Compute mean Helthcare_1 value in each district\n",
    "        self.districts_healthcare = df.groupby(['DistrictId'])['Healthcare_1'].agg('mean').to_dict()\n",
    "\n",
    "\n",
    "    def transform(self, df):\n",
    "        # Life Square fillna\n",
    "        df['LifeSquare'].fillna(((df['Square'] - df['KitchenSquare']) - df['Square']*0.2), inplace=True)\n",
    "\n",
    "\n",
    "        # Rooms\n",
    "        # Fillna with medians         \n",
    "        df['Rooms'].fillna(self.medians.Rooms, inplace=True) \n",
    "        \n",
    "        # Compute median room square and fill outliers with LifeSquare/Room_square \n",
    "        condition_rooms = (df['Rooms'] > 6) | (df['Rooms'] == 0)   \n",
    "        room_sq = np.round((self.medians.LifeSquare / self.medians.Rooms, 1))[0]\n",
    "        df.loc[condition_rooms , 'Rooms'] = df.loc[condition_rooms, 'LifeSquare'] / room_sq\n",
    "\n",
    "        # Square\n",
    "        # If LifeSquare > Square: exchange values\n",
    "        df['Square'], df['LifeSquare'] = np.where(df['Square'] < df['LifeSquare'],(df['LifeSquare'],df['Square']), (df['Square'],df['LifeSquare']))\n",
    "\n",
    "\n",
    "        # LifeSquare\n",
    "        # Fill outliers with (Square - KithcenSquare)\n",
    "        ls_condition = (df['LifeSquare'] < self.life_square_min_value)\n",
    "        df.loc[ls_condition, 'LifeSquare'] = df.loc[ls_condition, ['Square']] - df.loc[ls_condition, ['KitchenSquare']]\n",
    "  \n",
    "        \n",
    "        # KitchenSquare\n",
    "        # Fill outliers with (Square - LifeSquare - 10% of Square)\n",
    "        condition_kitchen_square = (df['KitchenSquare'] > self.kitchen_square_max_value) | (df['KitchenSquare'] < self.kitchen_square_min_value)\n",
    "        df.loc[condition_kitchen_square, 'KitchenSquare'] = df.loc[condition_kitchen_square, 'Square'] - df.loc[condition_kitchen_square, 'LifeSquare'] \\\n",
    "        - (df.loc[condition_kitchen_square, 'Square'] * 0.1)\n",
    "\n",
    "\n",
    "        # Ecology and Shops\n",
    "        # Switch to binary\n",
    "        df.replace({'Ecology_2': {'A': 0, 'B': 1}}, inplace=True)\n",
    "        df.replace({'Ecology_3': {'A': 0, 'B': 1}}, inplace=True)\n",
    "        df.replace({'Shops_2': {'A': 0, 'B': 1}}, inplace=True)\n",
    "        \n",
    "        \n",
    "        # HouseFloor\n",
    "        # If HouseFloor < Floor: exchange values\n",
    "        house_floor_condition = df['HouseFloor'] < df['Floor']\n",
    "        df.loc[house_floor_condition, 'HouseFloor'] = df.loc[house_floor_condition, 'Floor']\n",
    "\n",
    "        \n",
    "        # HouseYear\n",
    "        # If HouseYear > current year set median value\n",
    "        current_year = datetime.now().year\n",
    "        condition_year = (df['HouseYear'] > current_year)\n",
    "        df.loc[condition_year, 'HouseYear'] = self.medians.HouseYear\n",
    "        \n",
    "        \n",
    "        # Healthcare\n",
    "        # Fillna with dictrict healthcare value. (If district has no healthcare value fill with medians)      \n",
    "        df.loc[df['Healthcare_1'].isna(), 'Healthcare_1'] = df['DistrictId'].map(self.districts_healthcare)\n",
    "        df['Healthcare_1'].fillna(self.medians.Healthcare_1, inplace=True)       \n",
    "        # Clip on upper quantille\n",
    "        q_max = np.quantile(df['Healthcare_1'], q=0.9)\n",
    "        df['Healthcare_1'].clip(upper=q_max, axis=0, inplace=True)\n",
    "        \n",
    "        \n",
    "        # Drop Id\n",
    "        df.drop(['Id'], axis=1, inplace=True)\n",
    "\n",
    "        \n",
    "        # Fillna just in case\n",
    "        df.fillna(self.medians, inplace=True)\n",
    "        return df\n",
    "\n",
    "\n"
   ]
  },
  {
   "cell_type": "code",
   "execution_count": 63,
   "metadata": {
    "execution": {
     "iopub.execute_input": "2022-08-03T07:26:46.196181Z",
     "iopub.status.busy": "2022-08-03T07:26:46.195521Z",
     "iopub.status.idle": "2022-08-03T07:26:46.213387Z",
     "shell.execute_reply": "2022-08-03T07:26:46.213906Z",
     "shell.execute_reply.started": "2022-08-03T07:24:42.508334Z"
    },
    "papermill": {
     "duration": 0.100442,
     "end_time": "2022-08-03T07:26:46.214080",
     "exception": false,
     "start_time": "2022-08-03T07:26:46.113638",
     "status": "completed"
    },
    "tags": []
   },
   "outputs": [],
   "source": [
    "class FeatureGenerator:\n",
    "    def __init__(self):\n",
    "        self.districts_median_year = None\n",
    "        self.districts_density = None\n",
    "        self.district_price_per_square = None\n",
    "        self.min_sq = None\n",
    "        self.max_sq = None\n",
    "\n",
    "        \n",
    "    def fit(self, df):   \n",
    "        self.min_sq = np.quantile(df['Square'], q=0.005)\n",
    "        self.max_sq = np.quantile(df['Square'], q=0.995)\n",
    "        \n",
    "        self.districts_median_year = df.groupby(['DistrictId'])['HouseYear'].agg('median').to_dict()  # median house year in each district\n",
    "        self.districts_density = df.groupby(['DistrictId'])['Square'].agg('median').to_dict()  # median square in each district\n",
    "        self.district_price_per_square = df.groupby(['DistrictId'])['Price'].agg('median') \\\n",
    "        / df.groupby(['DistrictId'])['Square'].agg('median')  # median price for square meter in each district\n",
    "        \n",
    "    \n",
    "    def new_features(self, df):\n",
    "        # How old is the district      \n",
    "        df['DistrictYear'] = df['DistrictId'].map(self.districts_median_year)\n",
    "        \n",
    "        self.median_district_year = df['DistrictYear'].median()\n",
    "        df['DistrictYear'].fillna(self.median_district_year, inplace=True)\n",
    "\n",
    "\n",
    "        # Median square of flat in each district\n",
    "        df['DistrictDensity'] = df['DistrictId'].map(self.districts_density)\n",
    "        \n",
    "        self.median_district_density = df['DistrictDensity'].median()\n",
    "        df['DistrictDensity'].fillna(self.median_district_density, inplace=True)\n",
    "\n",
    "\n",
    "        # Median price for square meter in each district\n",
    "        self.district_price_per_square.to_dict()\n",
    "        df['DistrictPrice'] = df['DistrictId'].map(self.district_price_per_square)\n",
    "        \n",
    "        self.median_district_price_per_square = df['DistrictPrice'].median()\n",
    "        df['DistrictPrice'].fillna(self.median_district_price_per_square, inplace=True)\n",
    "\n",
    "\n",
    "        # Floor category\n",
    "        floor_bins = [0, 4, 7, 12, df['Floor'].max()]\n",
    "        df['Floor_cat'] = pd.cut(df['Floor'], bins=floor_bins, labels=False)\n",
    "        df['Floor_cat'].fillna(-1, inplace=True) \n",
    "\n",
    "        \n",
    "        # Scale and merge Social\n",
    "        scaler = RobustScaler()\n",
    "        pca = PCA(n_components=1, random_state=42)\n",
    "        social_scaled = pd.DataFrame(scaler.fit_transform(df[['Social_1', 'Social_2', 'Social_3']]))\n",
    "        df['Social'] = pca.fit_transform(social_scaled)\n",
    "        \n",
    "        \n",
    "        df.drop(['Ecology_2', 'Ecology_3', 'Shops_2', 'Helthcare_2', 'Floor',], axis=1, inplace=True)\n",
    "        \n",
    "        return df\n",
    "    \n",
    "    \n",
    "    def drop_outliers(self, df):\n",
    "        df = df.loc[(df['Square'] > self.min_sq) & (df['Square'] < self.max_sq)]\n",
    "        \n",
    "        \n",
    "        \n",
    "        return df\n"
   ]
  },
  {
   "cell_type": "code",
   "execution_count": 64,
   "metadata": {
    "execution": {
     "iopub.execute_input": "2022-08-03T07:26:46.372763Z",
     "iopub.status.busy": "2022-08-03T07:26:46.372147Z",
     "iopub.status.idle": "2022-08-03T07:26:46.388462Z",
     "shell.execute_reply": "2022-08-03T07:26:46.387901Z",
     "shell.execute_reply.started": "2022-08-03T07:24:42.813366Z"
    },
    "papermill": {
     "duration": 0.096435,
     "end_time": "2022-08-03T07:26:46.388580",
     "exception": false,
     "start_time": "2022-08-03T07:26:46.292145",
     "status": "completed"
    },
    "tags": []
   },
   "outputs": [
    {
     "name": "stdout",
     "output_type": "stream",
     "text": [
      "<class 'pandas.core.frame.DataFrame'>\n",
      "RangeIndex: 5000 entries, 0 to 4999\n",
      "Data columns (total 19 columns):\n",
      " #   Column         Non-Null Count  Dtype  \n",
      "---  ------         --------------  -----  \n",
      " 0   Id             5000 non-null   int64  \n",
      " 1   DistrictId     5000 non-null   int64  \n",
      " 2   Rooms          5000 non-null   float64\n",
      " 3   Square         5000 non-null   float64\n",
      " 4   LifeSquare     3959 non-null   float64\n",
      " 5   KitchenSquare  5000 non-null   float64\n",
      " 6   Floor          5000 non-null   int64  \n",
      " 7   HouseFloor     5000 non-null   float64\n",
      " 8   HouseYear      5000 non-null   int64  \n",
      " 9   Ecology_1      5000 non-null   float64\n",
      " 10  Ecology_2      5000 non-null   object \n",
      " 11  Ecology_3      5000 non-null   object \n",
      " 12  Social_1       5000 non-null   int64  \n",
      " 13  Social_2       5000 non-null   int64  \n",
      " 14  Social_3       5000 non-null   int64  \n",
      " 15  Healthcare_1   2623 non-null   float64\n",
      " 16  Helthcare_2    5000 non-null   int64  \n",
      " 17  Shops_1        5000 non-null   int64  \n",
      " 18  Shops_2        5000 non-null   object \n",
      "dtypes: float64(7), int64(9), object(3)\n",
      "memory usage: 742.3+ KB\n"
     ]
    }
   ],
   "source": [
    "test_df.info()"
   ]
  },
  {
   "cell_type": "code",
   "execution_count": 65,
   "metadata": {
    "execution": {
     "iopub.execute_input": "2022-08-03T07:26:46.551400Z",
     "iopub.status.busy": "2022-08-03T07:26:46.550741Z",
     "iopub.status.idle": "2022-08-03T07:26:46.553176Z",
     "shell.execute_reply": "2022-08-03T07:26:46.553675Z",
     "shell.execute_reply.started": "2022-08-03T07:24:42.999008Z"
    },
    "papermill": {
     "duration": 0.0869,
     "end_time": "2022-08-03T07:26:46.553817",
     "exception": false,
     "start_time": "2022-08-03T07:26:46.466917",
     "status": "completed"
    },
    "tags": []
   },
   "outputs": [],
   "source": [
    "# # test_df.DistrictId.isnull()\n",
    "# districts_median_year = train_df.groupby(['DistrictId'])['HouseYear'].agg('median').to_dict() \n",
    "# test_df['DistrictId'] = test_df['DistrictId'].apply(str)\n",
    "# # districts_median_year['44']\n",
    "# test_df['DistrictYear'] = test_df['DistrictId'].map(districts_median_year)\n",
    "# median_district_year = test_df['DistrictYear'].median()\n",
    "# test_df['DistrictYear'].fillna(median_district_year, inplace=True)\n",
    "\n",
    "# # test_df['DistrictId']\n",
    "\n",
    "# districts_density = train_df.groupby(['DistrictId'])['Square'].agg('median').to_dict()  # median square in each district\n",
    "# # Median square of flat in each district\n",
    "# test_df['DistrictDensity'] = test_df['DistrictId'].map(districts_density)\n",
    "\n",
    "# median_district_density = test_df['DistrictDensity'].median()\n",
    "# test_df['DistrictDensity'].fillna(median_district_density, inplace=True)\n",
    "# # test_df['DistrictDensity']\n",
    "\n",
    "# district_price_per_square = train_df.groupby(['DistrictId'])['Price'].agg('median') \\\n",
    "# / train_df.groupby(['DistrictId'])['Square'].agg('median')  # median price for square meter in each district\n",
    "# # Median price for square meter in each district\n",
    "# district_price_per_square.to_dict()\n",
    "# test_df['DistrictPrice'] = test_df['DistrictId'].map(district_price_per_square)\n",
    "\n",
    "# median_district_price_per_square = test_df['DistrictPrice'].median()\n",
    "# test_df['DistrictPrice'].fillna(median_district_price_per_square, inplace=True)\n",
    "# # test_df['DistrictPrice']\n",
    "# test_df.info()"
   ]
  },
  {
   "cell_type": "code",
   "execution_count": 66,
   "metadata": {
    "execution": {
     "iopub.execute_input": "2022-08-03T07:26:46.719498Z",
     "iopub.status.busy": "2022-08-03T07:26:46.718673Z",
     "iopub.status.idle": "2022-08-03T07:26:46.933229Z",
     "shell.execute_reply": "2022-08-03T07:26:46.934201Z",
     "shell.execute_reply.started": "2022-08-03T07:24:43.263161Z"
    },
    "papermill": {
     "duration": 0.302143,
     "end_time": "2022-08-03T07:26:46.934373",
     "exception": false,
     "start_time": "2022-08-03T07:26:46.632230",
     "status": "completed"
    },
    "tags": []
   },
   "outputs": [],
   "source": [
    "# Data preprocessing\n",
    "preprocessor = DataPreprocessor()\n",
    "preprocessor.fit(train_df)\n",
    "train_df = preprocessor.transform(train_df)\n",
    "test_df = preprocessor.transform(test_df)\n",
    "# Feature generation\n",
    "features_gen = FeatureGenerator()\n",
    "features_gen.fit(train_df)\n",
    "train_df = features_gen.new_features(train_df)\n",
    "train_df = features_gen.drop_outliers(train_df)\n",
    "test_df = features_gen.new_features(test_df)\n",
    "# train_df = features_gen.drop_outliers(train_df)"
   ]
  },
  {
   "cell_type": "code",
   "execution_count": 67,
   "metadata": {
    "execution": {
     "iopub.execute_input": "2022-08-03T07:26:47.102579Z",
     "iopub.status.busy": "2022-08-03T07:26:47.101527Z",
     "iopub.status.idle": "2022-08-03T07:26:47.131578Z",
     "shell.execute_reply": "2022-08-03T07:26:47.132232Z",
     "shell.execute_reply.started": "2022-08-03T07:24:43.463741Z"
    },
    "papermill": {
     "duration": 0.11898,
     "end_time": "2022-08-03T07:26:47.132408",
     "exception": false,
     "start_time": "2022-08-03T07:26:47.013428",
     "status": "completed"
    },
    "tags": []
   },
   "outputs": [
    {
     "name": "stdout",
     "output_type": "stream",
     "text": [
      "<class 'pandas.core.frame.DataFrame'>\n",
      "RangeIndex: 5000 entries, 0 to 4999\n",
      "Data columns (total 18 columns):\n",
      " #   Column           Non-Null Count  Dtype  \n",
      "---  ------           --------------  -----  \n",
      " 0   DistrictId       5000 non-null   object \n",
      " 1   Rooms            5000 non-null   float64\n",
      " 2   Square           5000 non-null   float64\n",
      " 3   LifeSquare       5000 non-null   float64\n",
      " 4   KitchenSquare    5000 non-null   float64\n",
      " 5   HouseFloor       5000 non-null   float64\n",
      " 6   HouseYear        5000 non-null   float64\n",
      " 7   Ecology_1        5000 non-null   float64\n",
      " 8   Social_1         5000 non-null   int64  \n",
      " 9   Social_2         5000 non-null   int64  \n",
      " 10  Social_3         5000 non-null   int64  \n",
      " 11  Healthcare_1     5000 non-null   float64\n",
      " 12  Shops_1          5000 non-null   int64  \n",
      " 13  DistrictYear     5000 non-null   float64\n",
      " 14  DistrictDensity  5000 non-null   float64\n",
      " 15  DistrictPrice    5000 non-null   float64\n",
      " 16  Floor_cat        5000 non-null   int64  \n",
      " 17  Social           5000 non-null   float64\n",
      "dtypes: float64(12), int64(5), object(1)\n",
      "memory usage: 703.2+ KB\n"
     ]
    }
   ],
   "source": [
    "# test_df.DistrictId.isnull()\n",
    "districts_median_year = train_df.groupby(['DistrictId'])['HouseYear'].agg('median').to_dict() \n",
    "test_df['DistrictId'] = test_df['DistrictId'].apply(str)\n",
    "# districts_median_year['44']\n",
    "test_df['DistrictYear'] = test_df['DistrictId'].map(districts_median_year)\n",
    "median_district_year = test_df['DistrictYear'].median()\n",
    "test_df['DistrictYear'].fillna(median_district_year, inplace=True)\n",
    "\n",
    "# test_df['DistrictId']\n",
    "\n",
    "districts_density = train_df.groupby(['DistrictId'])['Square'].agg('median').to_dict()  # median square in each district\n",
    "# Median square of flat in each district\n",
    "test_df['DistrictDensity'] = test_df['DistrictId'].map(districts_density)\n",
    "\n",
    "median_district_density = test_df['DistrictDensity'].median()\n",
    "test_df['DistrictDensity'].fillna(median_district_density, inplace=True)\n",
    "# test_df['DistrictDensity']\n",
    "\n",
    "district_price_per_square = train_df.groupby(['DistrictId'])['Price'].agg('median') \\\n",
    "/ train_df.groupby(['DistrictId'])['Square'].agg('median')  # median price for square meter in each district\n",
    "# Median price for square meter in each district\n",
    "district_price_per_square.to_dict()\n",
    "test_df['DistrictPrice'] = test_df['DistrictId'].map(district_price_per_square)\n",
    "\n",
    "median_district_price_per_square = test_df['DistrictPrice'].median()\n",
    "test_df['DistrictPrice'].fillna(median_district_price_per_square, inplace=True)\n",
    "# test_df['DistrictPrice']\n",
    "test_df.info()"
   ]
  },
  {
   "cell_type": "markdown",
   "metadata": {
    "papermill": {
     "duration": 0.077919,
     "end_time": "2022-08-03T07:26:47.290252",
     "exception": false,
     "start_time": "2022-08-03T07:26:47.212333",
     "status": "completed"
    },
    "tags": []
   },
   "source": [
    "### 6. Разбиение на train и test  <a class='anchor' id='split'>"
   ]
  },
  {
   "cell_type": "code",
   "execution_count": 68,
   "metadata": {
    "execution": {
     "iopub.execute_input": "2022-08-03T07:26:47.455806Z",
     "iopub.status.busy": "2022-08-03T07:26:47.454713Z",
     "iopub.status.idle": "2022-08-03T07:26:47.457961Z",
     "shell.execute_reply": "2022-08-03T07:26:47.457348Z",
     "shell.execute_reply.started": "2022-08-03T07:24:43.697625Z"
    },
    "papermill": {
     "duration": 0.086193,
     "end_time": "2022-08-03T07:26:47.458099",
     "exception": false,
     "start_time": "2022-08-03T07:26:47.371906",
     "status": "completed"
    },
    "tags": []
   },
   "outputs": [],
   "source": [
    "# train_df = pd.read_csv(TRAIN_DATASET_PATH)\n",
    "# test_df = pd.read_csv(TEST_DATASET_PATH)\n",
    "\n",
    "# X = train_df.drop(columns=target_name)\n",
    "# y = train_df[target_name]"
   ]
  },
  {
   "cell_type": "code",
   "execution_count": 69,
   "metadata": {
    "execution": {
     "iopub.execute_input": "2022-08-03T07:26:47.620375Z",
     "iopub.status.busy": "2022-08-03T07:26:47.619388Z",
     "iopub.status.idle": "2022-08-03T07:26:47.629918Z",
     "shell.execute_reply": "2022-08-03T07:26:47.630573Z",
     "shell.execute_reply.started": "2022-08-03T07:24:44.389403Z"
    },
    "papermill": {
     "duration": 0.093043,
     "end_time": "2022-08-03T07:26:47.630723",
     "exception": false,
     "start_time": "2022-08-03T07:26:47.537680",
     "status": "completed"
    },
    "tags": []
   },
   "outputs": [],
   "source": [
    "y = pd.DataFrame(data=train_df['Price'])\n",
    "train_df.drop('Price', axis=1, inplace=True)\n",
    "X_train, X_test, y_train, y_test = train_test_split(train_df, y, test_size=0.15, random_state=100)"
   ]
  },
  {
   "cell_type": "code",
   "execution_count": 70,
   "metadata": {
    "execution": {
     "iopub.execute_input": "2022-08-03T07:26:47.792384Z",
     "iopub.status.busy": "2022-08-03T07:26:47.791739Z",
     "iopub.status.idle": "2022-08-03T07:26:47.795333Z",
     "shell.execute_reply": "2022-08-03T07:26:47.795878Z",
     "shell.execute_reply.started": "2022-08-03T07:24:45.782835Z"
    },
    "papermill": {
     "duration": 0.086457,
     "end_time": "2022-08-03T07:26:47.796040",
     "exception": false,
     "start_time": "2022-08-03T07:26:47.709583",
     "status": "completed"
    },
    "tags": []
   },
   "outputs": [],
   "source": [
    "# X_train, X_valid, y_train, y_valid = train_test_split(X, y, test_size=0.33, shuffle=True, random_state=21)"
   ]
  },
  {
   "cell_type": "code",
   "execution_count": 71,
   "metadata": {
    "execution": {
     "iopub.execute_input": "2022-08-03T07:26:47.957400Z",
     "iopub.status.busy": "2022-08-03T07:26:47.956721Z",
     "iopub.status.idle": "2022-08-03T07:26:47.960014Z",
     "shell.execute_reply": "2022-08-03T07:26:47.960575Z",
     "shell.execute_reply.started": "2022-08-03T07:24:46.069285Z"
    },
    "papermill": {
     "duration": 0.085373,
     "end_time": "2022-08-03T07:26:47.960725",
     "exception": false,
     "start_time": "2022-08-03T07:26:47.875352",
     "status": "completed"
    },
    "tags": []
   },
   "outputs": [],
   "source": [
    "# preprocessor = DataPreprocessing()\n",
    "# preprocessor.fit(X_train)\n",
    "\n",
    "# X_train = preprocessor.transform(X_train)\n",
    "# X_valid = preprocessor.transform(X_valid)\n",
    "# test_df = preprocessor.transform(test_df)\n",
    "\n",
    "# X_train.shape, X_valid.shape, test_df.shape"
   ]
  },
  {
   "cell_type": "code",
   "execution_count": 72,
   "metadata": {
    "execution": {
     "iopub.execute_input": "2022-08-03T07:26:48.124838Z",
     "iopub.status.busy": "2022-08-03T07:26:48.124131Z",
     "iopub.status.idle": "2022-08-03T07:26:48.127649Z",
     "shell.execute_reply": "2022-08-03T07:26:48.128299Z",
     "shell.execute_reply.started": "2022-08-03T07:24:46.367323Z"
    },
    "papermill": {
     "duration": 0.086034,
     "end_time": "2022-08-03T07:26:48.128481",
     "exception": false,
     "start_time": "2022-08-03T07:26:48.042447",
     "status": "completed"
    },
    "tags": []
   },
   "outputs": [],
   "source": [
    "# features_gen = FeatureGenetator()\n",
    "# features_gen.fit(X_train, y_train)\n",
    "\n",
    "# X_train = features_gen.transform(X_train)\n",
    "# X_valid = features_gen.transform(X_valid)\n",
    "# test_df = features_gen.transform(test_df)\n",
    "\n",
    "# X_train.shape, X_valid.shape, test_df.shape"
   ]
  },
  {
   "cell_type": "code",
   "execution_count": 73,
   "metadata": {
    "execution": {
     "iopub.execute_input": "2022-08-03T07:26:48.290813Z",
     "iopub.status.busy": "2022-08-03T07:26:48.290091Z",
     "iopub.status.idle": "2022-08-03T07:26:48.293535Z",
     "shell.execute_reply": "2022-08-03T07:26:48.294077Z",
     "shell.execute_reply.started": "2022-08-03T07:24:46.687724Z"
    },
    "papermill": {
     "duration": 0.086389,
     "end_time": "2022-08-03T07:26:48.294239",
     "exception": false,
     "start_time": "2022-08-03T07:26:48.207850",
     "status": "completed"
    },
    "tags": []
   },
   "outputs": [],
   "source": [
    "# X_train = X_train[feature_names + new_feature_names]\n",
    "# X_valid = X_valid[feature_names + new_feature_names]\n",
    "# test_df = test_df[feature_names + new_feature_names]"
   ]
  },
  {
   "cell_type": "code",
   "execution_count": 74,
   "metadata": {
    "execution": {
     "iopub.execute_input": "2022-08-03T07:26:48.455364Z",
     "iopub.status.busy": "2022-08-03T07:26:48.454724Z",
     "iopub.status.idle": "2022-08-03T07:26:48.457789Z",
     "shell.execute_reply": "2022-08-03T07:26:48.458387Z",
     "shell.execute_reply.started": "2022-08-03T07:24:47.075511Z"
    },
    "papermill": {
     "duration": 0.085457,
     "end_time": "2022-08-03T07:26:48.458534",
     "exception": false,
     "start_time": "2022-08-03T07:26:48.373077",
     "status": "completed"
    },
    "tags": []
   },
   "outputs": [],
   "source": [
    "# X_train.isna().sum().sum(), X_valid.isna().sum().sum(), test_df.isna().sum().sum()"
   ]
  },
  {
   "cell_type": "markdown",
   "metadata": {
    "papermill": {
     "duration": 0.078102,
     "end_time": "2022-08-03T07:26:48.615648",
     "exception": false,
     "start_time": "2022-08-03T07:26:48.537546",
     "status": "completed"
    },
    "tags": []
   },
   "source": [
    "### 7. Построение модели  <a class='anchor' id='modeling'>"
   ]
  },
  {
   "cell_type": "markdown",
   "metadata": {
    "papermill": {
     "duration": 0.078599,
     "end_time": "2022-08-03T07:26:48.772812",
     "exception": false,
     "start_time": "2022-08-03T07:26:48.694213",
     "status": "completed"
    },
    "tags": []
   },
   "source": [
    "**Обучение**"
   ]
  },
  {
   "cell_type": "code",
   "execution_count": 75,
   "metadata": {
    "execution": {
     "iopub.execute_input": "2022-08-03T07:26:48.933056Z",
     "iopub.status.busy": "2022-08-03T07:26:48.932411Z",
     "iopub.status.idle": "2022-08-03T07:26:48.935954Z",
     "shell.execute_reply": "2022-08-03T07:26:48.936493Z",
     "shell.execute_reply.started": "2022-08-03T07:24:47.431946Z"
    },
    "papermill": {
     "duration": 0.085307,
     "end_time": "2022-08-03T07:26:48.936640",
     "exception": false,
     "start_time": "2022-08-03T07:26:48.851333",
     "status": "completed"
    },
    "tags": []
   },
   "outputs": [],
   "source": [
    "# rf_model = RandomForestRegressor(random_state=21, criterion='mse')\n",
    "# rf_model = GradientBoostingRegressor(n_estimators=400, max_features=3, max_depth=4, learning_rate=0.1)\n",
    "# rf_model.fit(X_train, y_train)"
   ]
  },
  {
   "cell_type": "code",
   "execution_count": 76,
   "metadata": {
    "execution": {
     "iopub.execute_input": "2022-08-03T07:26:49.103085Z",
     "iopub.status.busy": "2022-08-03T07:26:49.102449Z",
     "iopub.status.idle": "2022-08-03T07:27:23.113729Z",
     "shell.execute_reply": "2022-08-03T07:27:23.114274Z",
     "shell.execute_reply.started": "2022-08-03T07:24:47.751846Z"
    },
    "papermill": {
     "duration": 34.09936,
     "end_time": "2022-08-03T07:27:23.114430",
     "exception": false,
     "start_time": "2022-08-03T07:26:49.015070",
     "status": "completed"
    },
    "tags": []
   },
   "outputs": [
    {
     "name": "stdout",
     "output_type": "stream",
     "text": [
      "0.8607528582098949\n",
      "0.7999946018947528\n"
     ]
    }
   ],
   "source": [
    "gb_model = GradientBoostingRegressor(criterion='mse',\n",
    "                                     max_depth=6,\n",
    "                                     min_samples_leaf=50,\n",
    "                                     random_state=42,  \n",
    "                                     n_estimators=2250, \n",
    "                                     max_features='sqrt', \n",
    "                                     loss='huber', \n",
    "                                     learning_rate=0.025)\n",
    "\n",
    "gb_model.fit(X_train, y_train)\n",
    "\n",
    "y_train_preds = gb_model.predict(X_train)\n",
    "y_test_preds = gb_model.predict(X_test)\n",
    "print(r2(y_train, y_train_preds))\n",
    "print(r2(y_test, y_test_preds))"
   ]
  },
  {
   "cell_type": "markdown",
   "metadata": {
    "papermill": {
     "duration": 0.078891,
     "end_time": "2022-08-03T07:27:23.273975",
     "exception": false,
     "start_time": "2022-08-03T07:27:23.195084",
     "status": "completed"
    },
    "tags": []
   },
   "source": [
    "**Оценка модели**"
   ]
  },
  {
   "cell_type": "code",
   "execution_count": 77,
   "metadata": {
    "execution": {
     "iopub.execute_input": "2022-08-03T07:27:23.439591Z",
     "iopub.status.busy": "2022-08-03T07:27:23.438832Z",
     "iopub.status.idle": "2022-08-03T07:27:23.441183Z",
     "shell.execute_reply": "2022-08-03T07:27:23.441802Z",
     "shell.execute_reply.started": "2022-08-03T07:25:21.883646Z"
    },
    "papermill": {
     "duration": 0.088043,
     "end_time": "2022-08-03T07:27:23.441950",
     "exception": false,
     "start_time": "2022-08-03T07:27:23.353907",
     "status": "completed"
    },
    "tags": []
   },
   "outputs": [],
   "source": [
    "# y_train_preds = rf_model.predict(X_train)\n",
    "# y_test_preds = rf_model.predict(X_valid)\n",
    "\n",
    "# evaluate_preds(y_train, y_train_preds, y_valid, y_test_preds)"
   ]
  },
  {
   "cell_type": "markdown",
   "metadata": {
    "papermill": {
     "duration": 0.079637,
     "end_time": "2022-08-03T07:27:23.602919",
     "exception": false,
     "start_time": "2022-08-03T07:27:23.523282",
     "status": "completed"
    },
    "tags": []
   },
   "source": [
    "**Кросс-валидация**"
   ]
  },
  {
   "cell_type": "code",
   "execution_count": 78,
   "metadata": {
    "execution": {
     "iopub.execute_input": "2022-08-03T07:27:23.764228Z",
     "iopub.status.busy": "2022-08-03T07:27:23.763529Z",
     "iopub.status.idle": "2022-08-03T07:27:23.766594Z",
     "shell.execute_reply": "2022-08-03T07:27:23.767207Z",
     "shell.execute_reply.started": "2022-08-03T07:25:21.889081Z"
    },
    "papermill": {
     "duration": 0.08493,
     "end_time": "2022-08-03T07:27:23.767362",
     "exception": false,
     "start_time": "2022-08-03T07:27:23.682432",
     "status": "completed"
    },
    "tags": []
   },
   "outputs": [],
   "source": [
    "# cv_score = cross_val_score(rf_model, X_train, y_train, scoring='r2', cv=KFold(n_splits=3, shuffle=True, random_state=21))\n",
    "# cv_score"
   ]
  },
  {
   "cell_type": "code",
   "execution_count": 79,
   "metadata": {
    "execution": {
     "iopub.execute_input": "2022-08-03T07:27:23.929461Z",
     "iopub.status.busy": "2022-08-03T07:27:23.928808Z",
     "iopub.status.idle": "2022-08-03T07:27:23.930575Z",
     "shell.execute_reply": "2022-08-03T07:27:23.931251Z",
     "shell.execute_reply.started": "2022-08-03T07:25:21.901149Z"
    },
    "papermill": {
     "duration": 0.085152,
     "end_time": "2022-08-03T07:27:23.931403",
     "exception": false,
     "start_time": "2022-08-03T07:27:23.846251",
     "status": "completed"
    },
    "tags": []
   },
   "outputs": [],
   "source": [
    "# cv_score.mean()"
   ]
  },
  {
   "cell_type": "markdown",
   "metadata": {
    "papermill": {
     "duration": 0.080354,
     "end_time": "2022-08-03T07:27:24.090667",
     "exception": false,
     "start_time": "2022-08-03T07:27:24.010313",
     "status": "completed"
    },
    "tags": []
   },
   "source": [
    "**Важность признаков**"
   ]
  },
  {
   "cell_type": "code",
   "execution_count": 80,
   "metadata": {
    "execution": {
     "iopub.execute_input": "2022-08-03T07:27:24.254290Z",
     "iopub.status.busy": "2022-08-03T07:27:24.253556Z",
     "iopub.status.idle": "2022-08-03T07:27:24.256323Z",
     "shell.execute_reply": "2022-08-03T07:27:24.256885Z",
     "shell.execute_reply.started": "2022-08-03T07:25:21.914062Z"
    },
    "papermill": {
     "duration": 0.086215,
     "end_time": "2022-08-03T07:27:24.257055",
     "exception": false,
     "start_time": "2022-08-03T07:27:24.170840",
     "status": "completed"
    },
    "tags": []
   },
   "outputs": [],
   "source": [
    "# feature_importances = pd.DataFrame(zip(X_train.columns, rf_model.feature_importances_), \n",
    "#                                    columns=['feature_name', 'importance'])\n",
    "\n",
    "# feature_importances.sort_values(by='importance', ascending=False)"
   ]
  },
  {
   "cell_type": "code",
   "execution_count": 81,
   "metadata": {
    "execution": {
     "iopub.execute_input": "2022-08-03T07:27:24.420900Z",
     "iopub.status.busy": "2022-08-03T07:27:24.420257Z",
     "iopub.status.idle": "2022-08-03T07:27:24.447242Z",
     "shell.execute_reply": "2022-08-03T07:27:24.447828Z",
     "shell.execute_reply.started": "2022-08-03T07:25:21.922856Z"
    },
    "papermill": {
     "duration": 0.110432,
     "end_time": "2022-08-03T07:27:24.447983",
     "exception": false,
     "start_time": "2022-08-03T07:27:24.337551",
     "status": "completed"
    },
    "tags": []
   },
   "outputs": [
    {
     "data": {
      "text/html": [
       "<div>\n",
       "<style scoped>\n",
       "    .dataframe tbody tr th:only-of-type {\n",
       "        vertical-align: middle;\n",
       "    }\n",
       "\n",
       "    .dataframe tbody tr th {\n",
       "        vertical-align: top;\n",
       "    }\n",
       "\n",
       "    .dataframe thead th {\n",
       "        text-align: right;\n",
       "    }\n",
       "</style>\n",
       "<table border=\"1\" class=\"dataframe\">\n",
       "  <thead>\n",
       "    <tr style=\"text-align: right;\">\n",
       "      <th></th>\n",
       "      <th>feature_name</th>\n",
       "      <th>importance</th>\n",
       "    </tr>\n",
       "  </thead>\n",
       "  <tbody>\n",
       "    <tr>\n",
       "      <th>2</th>\n",
       "      <td>Square</td>\n",
       "      <td>0.240967</td>\n",
       "    </tr>\n",
       "    <tr>\n",
       "      <th>15</th>\n",
       "      <td>DistrictPrice</td>\n",
       "      <td>0.148788</td>\n",
       "    </tr>\n",
       "    <tr>\n",
       "      <th>1</th>\n",
       "      <td>Rooms</td>\n",
       "      <td>0.136147</td>\n",
       "    </tr>\n",
       "    <tr>\n",
       "      <th>3</th>\n",
       "      <td>LifeSquare</td>\n",
       "      <td>0.095093</td>\n",
       "    </tr>\n",
       "    <tr>\n",
       "      <th>9</th>\n",
       "      <td>Social_2</td>\n",
       "      <td>0.078872</td>\n",
       "    </tr>\n",
       "    <tr>\n",
       "      <th>8</th>\n",
       "      <td>Social_1</td>\n",
       "      <td>0.049794</td>\n",
       "    </tr>\n",
       "    <tr>\n",
       "      <th>17</th>\n",
       "      <td>Social</td>\n",
       "      <td>0.038039</td>\n",
       "    </tr>\n",
       "    <tr>\n",
       "      <th>4</th>\n",
       "      <td>KitchenSquare</td>\n",
       "      <td>0.037315</td>\n",
       "    </tr>\n",
       "    <tr>\n",
       "      <th>0</th>\n",
       "      <td>DistrictId</td>\n",
       "      <td>0.025667</td>\n",
       "    </tr>\n",
       "    <tr>\n",
       "      <th>6</th>\n",
       "      <td>HouseYear</td>\n",
       "      <td>0.023805</td>\n",
       "    </tr>\n",
       "    <tr>\n",
       "      <th>10</th>\n",
       "      <td>Social_3</td>\n",
       "      <td>0.022029</td>\n",
       "    </tr>\n",
       "    <tr>\n",
       "      <th>5</th>\n",
       "      <td>HouseFloor</td>\n",
       "      <td>0.019185</td>\n",
       "    </tr>\n",
       "    <tr>\n",
       "      <th>14</th>\n",
       "      <td>DistrictDensity</td>\n",
       "      <td>0.018955</td>\n",
       "    </tr>\n",
       "    <tr>\n",
       "      <th>7</th>\n",
       "      <td>Ecology_1</td>\n",
       "      <td>0.017284</td>\n",
       "    </tr>\n",
       "    <tr>\n",
       "      <th>12</th>\n",
       "      <td>Shops_1</td>\n",
       "      <td>0.016005</td>\n",
       "    </tr>\n",
       "    <tr>\n",
       "      <th>11</th>\n",
       "      <td>Healthcare_1</td>\n",
       "      <td>0.015099</td>\n",
       "    </tr>\n",
       "    <tr>\n",
       "      <th>13</th>\n",
       "      <td>DistrictYear</td>\n",
       "      <td>0.010299</td>\n",
       "    </tr>\n",
       "    <tr>\n",
       "      <th>16</th>\n",
       "      <td>Floor_cat</td>\n",
       "      <td>0.006654</td>\n",
       "    </tr>\n",
       "  </tbody>\n",
       "</table>\n",
       "</div>"
      ],
      "text/plain": [
       "       feature_name  importance\n",
       "2            Square    0.240967\n",
       "15    DistrictPrice    0.148788\n",
       "1             Rooms    0.136147\n",
       "3        LifeSquare    0.095093\n",
       "9          Social_2    0.078872\n",
       "8          Social_1    0.049794\n",
       "17           Social    0.038039\n",
       "4     KitchenSquare    0.037315\n",
       "0        DistrictId    0.025667\n",
       "6         HouseYear    0.023805\n",
       "10         Social_3    0.022029\n",
       "5        HouseFloor    0.019185\n",
       "14  DistrictDensity    0.018955\n",
       "7         Ecology_1    0.017284\n",
       "12          Shops_1    0.016005\n",
       "11     Healthcare_1    0.015099\n",
       "13     DistrictYear    0.010299\n",
       "16        Floor_cat    0.006654"
      ]
     },
     "execution_count": 81,
     "metadata": {},
     "output_type": "execute_result"
    }
   ],
   "source": [
    "feature_importances = pd.DataFrame(zip(X_train.columns, \n",
    "                                       gb_model.feature_importances_), \n",
    "                                   columns=['feature_name', 'importance'])\n",
    "\n",
    "feature_importances.sort_values(by='importance', ascending=False, inplace=True)\n",
    "feature_importances"
   ]
  },
  {
   "cell_type": "code",
   "execution_count": 82,
   "metadata": {
    "execution": {
     "iopub.execute_input": "2022-08-03T07:27:24.612271Z",
     "iopub.status.busy": "2022-08-03T07:27:24.611624Z",
     "iopub.status.idle": "2022-08-03T07:27:24.848799Z",
     "shell.execute_reply": "2022-08-03T07:27:24.848097Z",
     "shell.execute_reply.started": "2022-08-03T07:25:21.968159Z"
    },
    "papermill": {
     "duration": 0.319589,
     "end_time": "2022-08-03T07:27:24.848928",
     "exception": false,
     "start_time": "2022-08-03T07:27:24.529339",
     "status": "completed"
    },
    "tags": []
   },
   "outputs": [
    {
     "data": {
      "image/png": "[encoded data removed]",
      "text/plain": [
       "<Figure size 1152x576 with 1 Axes>"
      ]
     },
     "metadata": {
      "needs_background": "light"
     },
     "output_type": "display_data"
    }
   ],
   "source": [
    "plt.figure(figsize = (16, 8))\n",
    "plt.bar(feature_importances['feature_name'], feature_importances['importance'])\n",
    "plt.xticks(rotation='90')\n",
    "plt.xlabel('Features', fontsize=15)\n",
    "plt.ylabel('Importance', fontsize=15)\n",
    "plt.title('Feature importances', fontsize=15)\n",
    "plt.show()"
   ]
  },
  {
   "cell_type": "markdown",
   "metadata": {
    "papermill": {
     "duration": 0.080408,
     "end_time": "2022-08-03T07:27:25.010875",
     "exception": false,
     "start_time": "2022-08-03T07:27:24.930467",
     "status": "completed"
    },
    "tags": []
   },
   "source": [
    "Идея более сложных моделей:"
   ]
  },
  {
   "cell_type": "markdown",
   "metadata": {
    "execution": {
     "iopub.execute_input": "2021-11-02T18:13:02.155387Z",
     "iopub.status.busy": "2021-11-02T18:13:02.154956Z",
     "iopub.status.idle": "2021-11-02T18:13:02.231853Z",
     "shell.execute_reply": "2021-11-02T18:13:02.230398Z",
     "shell.execute_reply.started": "2021-11-02T18:13:02.155343Z"
    },
    "papermill": {
     "duration": 0.080677,
     "end_time": "2022-08-03T07:27:25.172408",
     "exception": false,
     "start_time": "2022-08-03T07:27:25.091731",
     "status": "completed"
    },
    "tags": []
   },
   "source": [
    "catboost, lightgbm, xgboost"
   ]
  },
  {
   "cell_type": "code",
   "execution_count": 83,
   "metadata": {
    "execution": {
     "iopub.execute_input": "2022-08-03T07:27:25.340180Z",
     "iopub.status.busy": "2022-08-03T07:27:25.339471Z",
     "iopub.status.idle": "2022-08-03T07:27:25.342589Z",
     "shell.execute_reply": "2022-08-03T07:27:25.342032Z",
     "shell.execute_reply.started": "2022-08-03T07:25:22.206138Z"
    },
    "papermill": {
     "duration": 0.088543,
     "end_time": "2022-08-03T07:27:25.342721",
     "exception": false,
     "start_time": "2022-08-03T07:27:25.254178",
     "status": "completed"
    },
    "tags": []
   },
   "outputs": [],
   "source": [
    "# from sklearn.ensemble import StackingRegressor, VotingRegressor, BaggingRegressor, GradientBoostingRegressor\n",
    "# from sklearn.linear_model import LinearRegression\n",
    "\n",
    "# lr = LinearRegression()\n",
    "# gb = GradientBoostingRegressor()\n",
    "\n",
    "# stack = StackingRegressor([('lr', lr), ('rf', rf_model)], final_estimator=gb)\n",
    "# stack.fit(X_train, y_train)"
   ]
  },
  {
   "cell_type": "code",
   "execution_count": 84,
   "metadata": {
    "execution": {
     "iopub.execute_input": "2022-08-03T07:27:25.512397Z",
     "iopub.status.busy": "2022-08-03T07:27:25.511660Z",
     "iopub.status.idle": "2022-08-03T07:27:25.515181Z",
     "shell.execute_reply": "2022-08-03T07:27:25.514566Z",
     "shell.execute_reply.started": "2022-08-03T07:25:22.210990Z"
    },
    "papermill": {
     "duration": 0.089277,
     "end_time": "2022-08-03T07:27:25.515299",
     "exception": false,
     "start_time": "2022-08-03T07:27:25.426022",
     "status": "completed"
    },
    "tags": []
   },
   "outputs": [],
   "source": [
    "# y_train_preds = stack.predict(X_train)\n",
    "# y_test_preds = stack.predict(X_valid)\n",
    "\n",
    "# evaluate_preds(y_train, y_train_preds, y_valid, y_test_preds)"
   ]
  },
  {
   "cell_type": "markdown",
   "metadata": {
    "papermill": {
     "duration": 0.081502,
     "end_time": "2022-08-03T07:27:25.680234",
     "exception": false,
     "start_time": "2022-08-03T07:27:25.598732",
     "status": "completed"
    },
    "tags": []
   },
   "source": [
    "### 8. Прогнозирование на тестовом датасете  <a class='anchor' id='prediction'>\n",
    "\n",
    "1. Выполнить для тестового датасета те же этапы обработки и постронияния признаков\n",
    "2. Не потерять и не перемешать индексы от примеров при построении прогнозов\n",
    "3. Прогнозы должны быть для все примеров из тестового датасета (для всех строк)"
   ]
  },
  {
   "cell_type": "code",
   "execution_count": 85,
   "metadata": {
    "execution": {
     "iopub.execute_input": "2022-08-03T07:27:25.844650Z",
     "iopub.status.busy": "2022-08-03T07:27:25.843976Z",
     "iopub.status.idle": "2022-08-03T07:27:25.849057Z",
     "shell.execute_reply": "2022-08-03T07:27:25.849604Z",
     "shell.execute_reply.started": "2022-08-03T07:25:22.223583Z"
    },
    "papermill": {
     "duration": 0.088518,
     "end_time": "2022-08-03T07:27:25.849748",
     "exception": false,
     "start_time": "2022-08-03T07:27:25.761230",
     "status": "completed"
    },
    "tags": []
   },
   "outputs": [
    {
     "data": {
      "text/plain": [
       "(5000, 18)"
      ]
     },
     "execution_count": 85,
     "metadata": {},
     "output_type": "execute_result"
    }
   ],
   "source": [
    "test_df.shape"
   ]
  },
  {
   "cell_type": "code",
   "execution_count": 86,
   "metadata": {
    "execution": {
     "iopub.execute_input": "2022-08-03T07:27:26.014597Z",
     "iopub.status.busy": "2022-08-03T07:27:26.013955Z",
     "iopub.status.idle": "2022-08-03T07:27:26.019013Z",
     "shell.execute_reply": "2022-08-03T07:27:26.019617Z",
     "shell.execute_reply.started": "2022-08-03T07:25:22.235784Z"
    },
    "papermill": {
     "duration": 0.088956,
     "end_time": "2022-08-03T07:27:26.019768",
     "exception": false,
     "start_time": "2022-08-03T07:27:25.930812",
     "status": "completed"
    },
    "tags": []
   },
   "outputs": [
    {
     "data": {
      "text/plain": [
       "(9900, 18)"
      ]
     },
     "execution_count": 86,
     "metadata": {},
     "output_type": "execute_result"
    }
   ],
   "source": [
    "train_df.shape"
   ]
  },
  {
   "cell_type": "code",
   "execution_count": 87,
   "metadata": {
    "execution": {
     "iopub.execute_input": "2022-08-03T07:27:26.187378Z",
     "iopub.status.busy": "2022-08-03T07:27:26.186708Z",
     "iopub.status.idle": "2022-08-03T07:27:26.194648Z",
     "shell.execute_reply": "2022-08-03T07:27:26.195205Z",
     "shell.execute_reply.started": "2022-08-03T07:25:22.246499Z"
    },
    "papermill": {
     "duration": 0.093321,
     "end_time": "2022-08-03T07:27:26.195366",
     "exception": false,
     "start_time": "2022-08-03T07:27:26.102045",
     "status": "completed"
    },
    "tags": []
   },
   "outputs": [
    {
     "data": {
      "text/plain": [
       "DistrictId         False\n",
       "Rooms              False\n",
       "Square             False\n",
       "LifeSquare         False\n",
       "KitchenSquare      False\n",
       "HouseFloor         False\n",
       "HouseYear          False\n",
       "Ecology_1          False\n",
       "Social_1           False\n",
       "Social_2           False\n",
       "Social_3           False\n",
       "Healthcare_1       False\n",
       "Shops_1            False\n",
       "DistrictYear       False\n",
       "DistrictDensity    False\n",
       "DistrictPrice      False\n",
       "Floor_cat          False\n",
       "Social             False\n",
       "dtype: bool"
      ]
     },
     "execution_count": 87,
     "metadata": {},
     "output_type": "execute_result"
    }
   ],
   "source": [
    "test_df.isna().all()"
   ]
  },
  {
   "cell_type": "code",
   "execution_count": 88,
   "metadata": {
    "execution": {
     "iopub.execute_input": "2022-08-03T07:27:26.361943Z",
     "iopub.status.busy": "2022-08-03T07:27:26.361309Z",
     "iopub.status.idle": "2022-08-03T07:27:26.369298Z",
     "shell.execute_reply": "2022-08-03T07:27:26.369891Z",
     "shell.execute_reply.started": "2022-08-03T07:25:22.260046Z"
    },
    "papermill": {
     "duration": 0.092782,
     "end_time": "2022-08-03T07:27:26.370054",
     "exception": false,
     "start_time": "2022-08-03T07:27:26.277272",
     "status": "completed"
    },
    "tags": []
   },
   "outputs": [
    {
     "data": {
      "text/plain": [
       "DistrictId         False\n",
       "Rooms              False\n",
       "Square             False\n",
       "LifeSquare         False\n",
       "KitchenSquare      False\n",
       "HouseFloor         False\n",
       "HouseYear          False\n",
       "Ecology_1          False\n",
       "Social_1           False\n",
       "Social_2           False\n",
       "Social_3           False\n",
       "Healthcare_1       False\n",
       "Shops_1            False\n",
       "DistrictYear       False\n",
       "DistrictDensity    False\n",
       "DistrictPrice      False\n",
       "Floor_cat          False\n",
       "Social             False\n",
       "dtype: bool"
      ]
     },
     "execution_count": 88,
     "metadata": {},
     "output_type": "execute_result"
    }
   ],
   "source": [
    "train_df.isna().all()"
   ]
  },
  {
   "cell_type": "code",
   "execution_count": 89,
   "metadata": {
    "execution": {
     "iopub.execute_input": "2022-08-03T07:27:26.543698Z",
     "iopub.status.busy": "2022-08-03T07:27:26.542980Z",
     "iopub.status.idle": "2022-08-03T07:27:26.566511Z",
     "shell.execute_reply": "2022-08-03T07:27:26.567174Z",
     "shell.execute_reply.started": "2022-08-03T07:25:22.275788Z"
    },
    "papermill": {
     "duration": 0.110126,
     "end_time": "2022-08-03T07:27:26.567331",
     "exception": false,
     "start_time": "2022-08-03T07:27:26.457205",
     "status": "completed"
    },
    "tags": []
   },
   "outputs": [
    {
     "data": {
      "text/html": [
       "<div>\n",
       "<style scoped>\n",
       "    .dataframe tbody tr th:only-of-type {\n",
       "        vertical-align: middle;\n",
       "    }\n",
       "\n",
       "    .dataframe tbody tr th {\n",
       "        vertical-align: top;\n",
       "    }\n",
       "\n",
       "    .dataframe thead th {\n",
       "        text-align: right;\n",
       "    }\n",
       "</style>\n",
       "<table border=\"1\" class=\"dataframe\">\n",
       "  <thead>\n",
       "    <tr style=\"text-align: right;\">\n",
       "      <th></th>\n",
       "      <th>Id</th>\n",
       "      <th>Price</th>\n",
       "    </tr>\n",
       "  </thead>\n",
       "  <tbody>\n",
       "    <tr>\n",
       "      <th>0</th>\n",
       "      <td>4567</td>\n",
       "      <td>200000.0</td>\n",
       "    </tr>\n",
       "    <tr>\n",
       "      <th>1</th>\n",
       "      <td>5925</td>\n",
       "      <td>200000.0</td>\n",
       "    </tr>\n",
       "    <tr>\n",
       "      <th>2</th>\n",
       "      <td>960</td>\n",
       "      <td>200000.0</td>\n",
       "    </tr>\n",
       "    <tr>\n",
       "      <th>3</th>\n",
       "      <td>3848</td>\n",
       "      <td>200000.0</td>\n",
       "    </tr>\n",
       "    <tr>\n",
       "      <th>4</th>\n",
       "      <td>746</td>\n",
       "      <td>200000.0</td>\n",
       "    </tr>\n",
       "  </tbody>\n",
       "</table>\n",
       "</div>"
      ],
      "text/plain": [
       "     Id     Price\n",
       "0  4567  200000.0\n",
       "1  5925  200000.0\n",
       "2   960  200000.0\n",
       "3  3848  200000.0\n",
       "4   746  200000.0"
      ]
     },
     "execution_count": 89,
     "metadata": {},
     "output_type": "execute_result"
    }
   ],
   "source": [
    "submit = pd.read_csv('/kaggle/input/real-estate-price-prediction-moscow/sample_submission.csv')\n",
    "submit.head()"
   ]
  },
  {
   "cell_type": "code",
   "execution_count": 90,
   "metadata": {
    "execution": {
     "iopub.execute_input": "2022-08-03T07:27:26.739095Z",
     "iopub.status.busy": "2022-08-03T07:27:26.738402Z",
     "iopub.status.idle": "2022-08-03T07:27:26.742814Z",
     "shell.execute_reply": "2022-08-03T07:27:26.742318Z",
     "shell.execute_reply.started": "2022-08-03T07:25:22.293861Z"
    },
    "papermill": {
     "duration": 0.09054,
     "end_time": "2022-08-03T07:27:26.742933",
     "exception": false,
     "start_time": "2022-08-03T07:27:26.652393",
     "status": "completed"
    },
    "tags": []
   },
   "outputs": [],
   "source": [
    "# predictions = rf_model.predict(test_df)\n",
    "# predictions"
   ]
  },
  {
   "cell_type": "code",
   "execution_count": 91,
   "metadata": {
    "execution": {
     "iopub.execute_input": "2022-08-03T07:27:26.918898Z",
     "iopub.status.busy": "2022-08-03T07:27:26.917921Z",
     "iopub.status.idle": "2022-08-03T07:27:27.237649Z",
     "shell.execute_reply": "2022-08-03T07:27:27.238306Z",
     "shell.execute_reply.started": "2022-08-03T07:25:22.298525Z"
    },
    "papermill": {
     "duration": 0.413278,
     "end_time": "2022-08-03T07:27:27.238460",
     "exception": false,
     "start_time": "2022-08-03T07:27:26.825182",
     "status": "completed"
    },
    "tags": []
   },
   "outputs": [
    {
     "data": {
      "text/plain": [
       "array([161934.19820366, 129131.77907135, 138634.02206484, ...,\n",
       "       151246.89110484, 187093.37652939, 270797.38229431])"
      ]
     },
     "execution_count": 91,
     "metadata": {},
     "output_type": "execute_result"
    }
   ],
   "source": [
    "predictions = gb_model.predict(test_df)\n",
    "predictions"
   ]
  },
  {
   "cell_type": "code",
   "execution_count": 92,
   "metadata": {
    "execution": {
     "iopub.execute_input": "2022-08-03T07:27:27.414968Z",
     "iopub.status.busy": "2022-08-03T07:27:27.413902Z",
     "iopub.status.idle": "2022-08-03T07:27:27.417905Z",
     "shell.execute_reply": "2022-08-03T07:27:27.418378Z",
     "shell.execute_reply.started": "2022-08-03T07:25:22.625755Z"
    },
    "papermill": {
     "duration": 0.096689,
     "end_time": "2022-08-03T07:27:27.418534",
     "exception": false,
     "start_time": "2022-08-03T07:27:27.321845",
     "status": "completed"
    },
    "tags": []
   },
   "outputs": [
    {
     "data": {
      "text/html": [
       "<div>\n",
       "<style scoped>\n",
       "    .dataframe tbody tr th:only-of-type {\n",
       "        vertical-align: middle;\n",
       "    }\n",
       "\n",
       "    .dataframe tbody tr th {\n",
       "        vertical-align: top;\n",
       "    }\n",
       "\n",
       "    .dataframe thead th {\n",
       "        text-align: right;\n",
       "    }\n",
       "</style>\n",
       "<table border=\"1\" class=\"dataframe\">\n",
       "  <thead>\n",
       "    <tr style=\"text-align: right;\">\n",
       "      <th></th>\n",
       "      <th>Id</th>\n",
       "      <th>Price</th>\n",
       "    </tr>\n",
       "  </thead>\n",
       "  <tbody>\n",
       "    <tr>\n",
       "      <th>0</th>\n",
       "      <td>4567</td>\n",
       "      <td>161934.198204</td>\n",
       "    </tr>\n",
       "    <tr>\n",
       "      <th>1</th>\n",
       "      <td>5925</td>\n",
       "      <td>129131.779071</td>\n",
       "    </tr>\n",
       "    <tr>\n",
       "      <th>2</th>\n",
       "      <td>960</td>\n",
       "      <td>138634.022065</td>\n",
       "    </tr>\n",
       "    <tr>\n",
       "      <th>3</th>\n",
       "      <td>3848</td>\n",
       "      <td>110272.921189</td>\n",
       "    </tr>\n",
       "    <tr>\n",
       "      <th>4</th>\n",
       "      <td>746</td>\n",
       "      <td>190720.162393</td>\n",
       "    </tr>\n",
       "  </tbody>\n",
       "</table>\n",
       "</div>"
      ],
      "text/plain": [
       "     Id          Price\n",
       "0  4567  161934.198204\n",
       "1  5925  129131.779071\n",
       "2   960  138634.022065\n",
       "3  3848  110272.921189\n",
       "4   746  190720.162393"
      ]
     },
     "execution_count": 92,
     "metadata": {},
     "output_type": "execute_result"
    }
   ],
   "source": [
    "submit['Price'] = predictions\n",
    "submit.head()"
   ]
  },
  {
   "cell_type": "code",
   "execution_count": 93,
   "metadata": {
    "execution": {
     "iopub.execute_input": "2022-08-03T07:27:27.591655Z",
     "iopub.status.busy": "2022-08-03T07:27:27.590686Z",
     "iopub.status.idle": "2022-08-03T07:27:27.839492Z",
     "shell.execute_reply": "2022-08-03T07:27:27.838850Z",
     "shell.execute_reply.started": "2022-08-03T07:25:22.639294Z"
    },
    "papermill": {
     "duration": 0.335446,
     "end_time": "2022-08-03T07:27:27.839622",
     "exception": false,
     "start_time": "2022-08-03T07:27:27.504176",
     "status": "completed"
    },
    "tags": []
   },
   "outputs": [],
   "source": [
    "submit.to_csv('submission.csv', index=False)"
   ]
  }
 ],
 "metadata": {
  "kernelspec": {
   "display_name": "Python 3",
   "language": "python",
   "name": "python3"
  },
  "language_info": {
   "codemirror_mode": {
    "name": "ipython",
    "version": 3
   },
   "file_extension": ".py",
   "mimetype": "text/x-python",
   "name": "python",
   "nbconvert_exporter": "python",
   "pygments_lexer": "ipython3",
   "version": "3.7.6"
  },
  "papermill": {
   "duration": 62.947822,
   "end_time": "2022-08-03T07:27:28.029449",
   "environment_variables": {},
   "exception": null,
   "input_path": "__notebook__.ipynb",
   "output_path": "__notebook__.ipynb",
   "parameters": {},
   "start_time": "2022-08-03T07:26:25.081627",
   "version": "2.1.0"
  }
 },
 "nbformat": 4,
 "nbformat_minor": 4
}
